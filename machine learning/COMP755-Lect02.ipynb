{
 "cells": [
  {
   "cell_type": "markdown",
   "metadata": {
    "slideshow": {
     "slide_type": "slide"
    }
   },
   "source": [
    "# COMP 755 -- Probability, Likelihood, Parameter Optimization\n",
    "\n",
    "We will review some of the probability theory you have seen before.\n",
    "\n",
    "Then we will dive into fitting our first model by maximizing likelihood.\n",
    "\n",
    "Throughout the course, you will see the same blueprint over and over again."
   ]
  },
  {
   "cell_type": "markdown",
   "metadata": {
    "slideshow": {
     "slide_type": "slide"
    }
   },
   "source": [
    "# Samples space, events, probabilities\n",
    "\n",
    "Sample space ($\\Omega$) \n",
    "\n",
    "Event $A \\subset \\Omega$ \n",
    "\n",
    "Probabilty of an event $0\\leq p(A) \\leq 1$\n",
    "\n",
    "$p(\\Omega) = 1, p(\\emptyset) = 0, p(\\neg A) = 1 - p(A)$"
   ]
  },
  {
   "cell_type": "markdown",
   "metadata": {
    "slideshow": {
     "slide_type": "slide"
    }
   },
   "source": [
    "# Random variables\n",
    "\n",
    "Random variable $X$ takes on values from a state space with some probability\n",
    "\n",
    "* Heads or tails, $X \\in \\{\\textrm{heads},\\textrm{tails}\\}$\n",
    "* Roll of a die, $X \\in \\{1,2,3,4,5,6\\}$\n",
    "* Even or odd roll of a die, $X \\in \\{\\textrm{even},\\textrm{odd}\\}$\n",
    "\n",
    "Probability of random variable $X$ assuming particular value $x$ \n",
    "$$\n",
    "p(X = x)\n",
    "$$"
   ]
  },
  {
   "cell_type": "markdown",
   "metadata": {
    "slideshow": {
     "slide_type": "slide"
    }
   },
   "source": [
    "# Basic probabilty rules\n",
    "## _Union_\n",
    "$$\n",
    "\\begin{aligned}\n",
    "    p (A \\vee B) &= p(A) + p(B) - p(A \\wedge B)& \\\\\n",
    "    &= p(A) + p(B) &(\\textrm{if } A  \\cap  B = \\emptyset)\n",
    "\\end{aligned}\n",
    "$$"
   ]
  },
  {
   "cell_type": "markdown",
   "metadata": {
    "slideshow": {
     "slide_type": "fragment"
    }
   },
   "source": [
    "\n",
    "$$\n",
    "p(\\textrm{'Die rolled 1'} \\vee \\textrm{'Die rolled 6'}) = p(\\textrm{'Die rolled 1'}) + p(\\textrm{'Die rolled 6'})\n",
    "$$"
   ]
  },
  {
   "cell_type": "markdown",
   "metadata": {
    "slideshow": {
     "slide_type": "slide"
    }
   },
   "source": [
    "## _Joint and conditional probabilities_\n",
    "\n",
    "Joint probability:\n",
    "$$\n",
    "p(A, B) = p(A \\wedge B)\n",
    "$$\n",
    "\n",
    "\n",
    "Factoring joint probability:\n",
    "$$    \n",
    "p(A, B) = p(A\\big|B)p(B) = p(B\\big|A)p(A)\n",
    "$$\n",
    "\n",
    "Read $p(A|B)$ as: \"What is the probability of event $A$ given that we know that $B$ occurred?\"\n",
    "\n",
    "More succinctly, **probability of A given B**. "
   ]
  },
  {
   "cell_type": "markdown",
   "metadata": {
    "slideshow": {
     "slide_type": "slide"
    }
   },
   "source": [
    "## Chain rule\n",
    "We will use conditional probabilities to build complex models.\n",
    "$$\n",
    "p(X_1,X_2,X_3,...,X_n) = p(X_1)p(X_2\\big|X_1)p(X_3\\big|X_2,X_1) ... p(X_n\\big|X_{1:n-1})\n",
    "$$\n",
    "where $X_{1:n-1}$ is shorthand for $X_1,X_2,...,X_{n-1}$"
   ]
  },
  {
   "cell_type": "markdown",
   "metadata": {},
   "source": [
    "## Marginal probabilities\n",
    "\n",
    "Extract probability for a subset of random variables.\n",
    "$$\n",
    "p(A) = \\sum_b p(A,B=b) = \\sum_b p(A\\big|B=b)p(B=b).\n",
    "$$\n"
   ]
  },
  {
   "cell_type": "markdown",
   "metadata": {
    "slideshow": {
     "slide_type": "fragment"
    }
   },
   "source": [
    "## Bayes rule\n",
    "\n",
    "$$\n",
    "p(B\\big|A) = \\frac{p(A,B)}{p(A)} = \\frac{p(A\\big|B)p(B)}{p(A)} = \\frac{p(A\\big|B)p(B)}{\\sum_b p(A\\big|B=b)p(B=b)}\n",
    "$$\n",
    "\n",
    "Crucial for learning and inference.\n",
    "\n"
   ]
  },
  {
   "cell_type": "markdown",
   "metadata": {
    "slideshow": {
     "slide_type": "slide"
    }
   },
   "source": [
    "# Probabilities sum to 1\n",
    "\n",
    "Remember that for some discrete random variable $A$ with state space $\\mathcal{A}$ \n",
    "$$\n",
    "\\sum_{a \\in \\mathcal{A}}  p(A=a) = 1 \n",
    "$$"
   ]
  },
  {
   "cell_type": "markdown",
   "metadata": {
    "slideshow": {
     "slide_type": "fragment"
    }
   },
   "source": [
    "\n",
    "Further\n",
    "$$\n",
    "\\sum_{a \\in \\mathcal{A}}  p(A=a|B) = 1 \n",
    "$$\n",
    "and also\n",
    "$$\n",
    "\\sum_{a \\in \\mathcal{A}}  p(A=a|B,C) = 1 \n",
    "$$"
   ]
  },
  {
   "cell_type": "markdown",
   "metadata": {
    "slideshow": {
     "slide_type": "fragment"
    }
   },
   "source": [
    "but \n",
    "$$\n",
    "\\sum_{a \\in \\mathcal{A}}  p(A=a,B|C) \\neq 1 \n",
    "$$\n"
   ]
  },
  {
   "cell_type": "markdown",
   "metadata": {
    "slideshow": {
     "slide_type": "subslide"
    }
   },
   "source": [
    "However,\n",
    "$$\n",
    "\\sum_{a \\in \\mathcal{A}}\\sum_{b \\in \\mathcal{B}}  p(A=a,B=b|C)  = 1 \n",
    "$$\n",
    "\n",
    "Hence, sum across all possible assignments to random variables on the left side of the bar will be one.\n",
    "$$\n",
    "\\sum_{a \\in \\mathcal{A}} ... \\sum_{X \\in \\mathcal{X}} p(A=a,B=b,...,X=x|Y=y) = 1\n",
    "$$\n"
   ]
  },
  {
   "cell_type": "markdown",
   "metadata": {
    "slideshow": {
     "slide_type": "slide"
    }
   },
   "source": [
    "# Marginalization\n",
    "\n",
    "Joint probabilities usually involve all of the variables in your model\n",
    "$$\n",
    "p(X,Y,Z) \n",
    "$$\n",
    "Examples of Marginal probabilities that can be obtained from this joint probability\n",
    "$$ p(X) = \\sum_{y}\\sum_{z} p(X,Y=y,Z=z)$$\n",
    "\n",
    "$$ p(Y) = \\sum_{x}\\sum_{z} p(X=x,Y, Z=z) $$\n",
    "\n",
    "$$ p(X,Z) = \\sum_{y} p(X,Y=y,Z) $$\n",
    "\n",
    "Operation of computing the marginal probability is called **marginalization**.\n"
   ]
  },
  {
   "cell_type": "markdown",
   "metadata": {
    "slideshow": {
     "slide_type": "slide"
    }
   },
   "source": [
    "# A simple probabilitic model\n",
    "Two random variables $LW \\in \\{0,1\\}$ and $R \\in \\{0,1\\}$\n",
    "\n",
    "* LW = 0, lawn is dry\n",
    "* LW = 1, lawn is wet\n",
    "* R = 0, no rain\n",
    "* R = 1, rain\n",
    "\n",
    "$$\n",
    "p(R=0) = 0.9\\\\\n",
    "p(R=1) = ?\n",
    "$$\n",
    "and\n",
    "$$\n",
    "\\begin{aligned}\n",
    "p(LW=0\\big|R=0) = 0.75& & p(LW=0\\big|R=1) = 0.05\\\\\n",
    "p(LW=1\\big|R=0) = 0.25& & p(LW=1\\big|R=1) = 0.95 \n",
    "\\end{aligned}\n",
    "$$\n"
   ]
  },
  {
   "cell_type": "code",
   "execution_count": 12,
   "metadata": {
    "slideshow": {
     "slide_type": "fragment"
    }
   },
   "outputs": [
    {
     "name": "stdout",
     "output_type": "stream",
     "text": [
      "Sanity check:\n",
      "p(LW=0|R=0) + p(LW=1|R=0) = 1.0\n",
      "p(LW=0|R=1) + p(LW=1|R=1) = 1.0\n"
     ]
    }
   ],
   "source": [
    "p_r = [0.9, 0.1]           # probability of rain must sum up to 1\n",
    "p_l_r = [ [0.75, 0.05],    # p(LW=0 | R=0 )=0.75    p(LW = 0| R=1 )=0.05\n",
    "          [0.25, 0.95] ];  # p(LW=1 | R=0 )=0.25    p(LW = 1| R=1 )=0.95\n",
    "print (\"Sanity check:\")\n",
    "print (\"p(LW=0|R=0) + p(LW=1|R=0) =\", p_l_r[0][0] + p_l_r[1][0])\n",
    "print (\"p(LW=0|R=1) + p(LW=1|R=1) =\", p_l_r[0][1] + p_l_r[1][1])"
   ]
  },
  {
   "cell_type": "markdown",
   "metadata": {
    "slideshow": {
     "slide_type": "slide"
    }
   },
   "source": [
    "# A simple probabilitic model\n",
    "\n",
    "Let's express **marginal probability** $p(LW)$ using $p(LW\\big|R)$ and $p(R)$:\n",
    "\n",
    "$$\n",
    "P(LW) = \\sum_{r \\in \\{0,1\\}} p(LW|R = r) p(R = r)\n",
    "$$\n"
   ]
  },
  {
   "cell_type": "code",
   "execution_count": 13,
   "metadata": {
    "slideshow": {
     "slide_type": "fragment"
    }
   },
   "outputs": [
    {
     "name": "stdout",
     "output_type": "stream",
     "text": [
      "Probability of lawn not being wet 0.68\n",
      "Probability of lawn being wet 0.32\n",
      "Sanity check: p(L=0) + p(L=1) = 1.0\n"
     ]
    }
   ],
   "source": [
    "p_l = [0,0] # preallocate for ease\n",
    "\n",
    "p_l[0] = p_l_r[0][1]*p_r[1] + p_l_r[0][0]*p_r[0]\n",
    "print (\"Probability of lawn not being wet\", p_l[0])\n",
    "\n",
    "p_l[1] =  p_l_r[1][0]*p_r[0] + p_l_r[1][1]*p_r[1]\n",
    "print (\"Probability of lawn being wet\", p_l[1])\n",
    "print (\"Sanity check: p(L=0) + p(L=1) =\", p_l[0] + p_l[1])"
   ]
  },
  {
   "cell_type": "markdown",
   "metadata": {
    "slideshow": {
     "slide_type": "slide"
    }
   },
   "source": [
    "# Some commonly used discrete distributions -- Notation\n",
    "\n",
    "We will look at following distributions\n",
    "* Bernoulli (coin toss) \n",
    "* Categorical (die roll)\n",
    "* Binomial (counts of heads and tails after multiple tosses)\n",
    "* Multinomial (counts of different sides of dies after multiple rolls)"
   ]
  },
  {
   "cell_type": "markdown",
   "metadata": {
    "slideshow": {
     "slide_type": "fragment"
    }
   },
   "source": [
    "We will use $\\sim$ to indicate that a random variable is assumes values according to a distribution $ X \\sim \\textrm{Bernoulli}(\\theta)$\n",
    "\n",
    "Each of the distributions has **parameters** -- $\\theta$ above. \n",
    "\n",
    "To indicate dependence of random variables on parameters we will add parameters behind the conditioning bar \n",
    "$$\n",
    "p(X\\big|\\theta).\n",
    "$$\n"
   ]
  },
  {
   "cell_type": "markdown",
   "metadata": {
    "slideshow": {
     "slide_type": "slide"
    }
   },
   "source": [
    "# Some commonly used discrete distributions -- Bernoulli\n",
    "\n",
    "\n",
    "* Bernoulli distributed random variable X will be denoted as\n",
    "$$\n",
    "X \\sim \\textrm{Bernoulli}(\\theta)\n",
    "$$\n",
    "State space is $\\{0,1\\}$ -- think coin toss. Parameter $\\theta \\in [0,1]$ specifies probability of one of the outcomes\n",
    "$$\n",
    "\\begin{aligned}\n",
    "p(X = 1\\big|\\theta) &= \\theta \\\\\n",
    "p(X = 0\\big|\\theta) &= 1 - \\theta.\n",
    "\\end{aligned}\n",
    "$$\n",
    "Note that we can write this out more compactly as:\n",
    "$$\n",
    "p(X = x\\big|\\theta) = \\theta^x(1-\\theta)^{1-x}\n",
    "$$"
   ]
  },
  {
   "cell_type": "markdown",
   "metadata": {
    "collapsed": true,
    "slideshow": {
     "slide_type": "slide"
    }
   },
   "source": [
    "# Some commonly used discrete distributions -- Categorical\n",
    "* Categorical distribution is a generalization of Bernoulli to more than two outcomes -- think rollin a $k$-sided die. \n",
    "$$\n",
    "X \\sim \\textrm{Categorical}(\\theta_1,\\theta_2,...,\\theta_{k-1})\n",
    "$$\n",
    "State space is $\\{1,2,3,...,k\\}$. Parameters $\\theta_1,..\\theta_{k-1}$ specify probability of outcomes $1,...k-1$\n",
    "$$\n",
    "\\begin{aligned}\n",
    "p(X = 1\\big|\\theta_1,..\\theta_{k-1}) &= \\theta_1 \\\\\n",
    "p(X = 2\\big|\\theta_1,..\\theta_{k-1}) &= \\theta_2 \\\\\n",
    "...\\\\\n",
    "p(X = k-1\\big|\\theta_1,..\\theta_{k-1}) &= \\theta_{k-1} \\\\\n",
    "p(X = k\\big|\\theta_1,..\\theta_{k-1}) &= 1 - \\sum_{i=1}^{k-1} \\theta_{k-1} = \\theta_k\n",
    "\\end{aligned}\n",
    "$$\n",
    "We note that $\\theta_k$ is not a parameter but rather computed from parameters for convience.\n",
    "\n",
    "Q: What constraints must we have on $\\theta_i$s in order for $p(\\cdot)$ to be a distribution?\n"
   ]
  },
  {
   "cell_type": "markdown",
   "metadata": {
    "slideshow": {
     "slide_type": "slide"
    }
   },
   "source": [
    "# Some commonly used discrete distributions -- Binomial and Multinomial\n",
    "\n",
    "Binomial and Multinomial distributions are generalizations of Bernoulli and Categorical distributrions.\n",
    "\n",
    "Instead of a single trial, a coin toss or die roll, we consider outcomes across multiple trials, multiple coin tosses and die rolls. \n",
    "\n",
    "$$\n",
    "\\begin{aligned}\n",
    "X &\\sim \\textrm{Binomial}(n,\\theta)\\\\\n",
    "p(X = k\\big|n,\\theta) &= \\binom{n}{k}\\theta^k(1-\\theta)^{n-k}\n",
    "\\end{aligned}\n",
    "$$\n",
    "where\n",
    "$$\n",
    "\\binom{n}{k} = \\frac{n!}{(n-k)!k!}\n",
    "$$"
   ]
  },
  {
   "cell_type": "markdown",
   "metadata": {
    "slideshow": {
     "slide_type": "fragment"
    }
   },
   "source": [
    "A random variable distributed according to Multinomial distribution is a vector of counts. \n",
    "For example, count of 1s, 2s, 3s, 4s, 5s, 6s observed after multiple six dies rolls.\n",
    "$$\n",
    "\\begin{aligned}\n",
    "X = (X_1,X_2,...,X_k) &\\sim \\textrm{Multinomial}(n,\\theta)\\\\\n",
    "p(X = \\mathbf{x}\\big|n,\\theta) &= \\binom{n}{x_1\\dots x_k }\\prod_{j=1}^k\\theta_j^{x_j}\n",
    "\\end{aligned}\n",
    "$$\n",
    "where\n",
    "$$\n",
    "\\binom{n}{x_1\\dots x_k } = \\frac{n!}{x_1!x_2!\\cdots x_k!}\n",
    "$$"
   ]
  },
  {
   "cell_type": "code",
   "execution_count": 16,
   "metadata": {
    "scrolled": true,
    "slideshow": {
     "slide_type": "slide"
    }
   },
   "outputs": [
    {
     "name": "stdout",
     "output_type": "stream",
     "text": [
      "Theta =  [0.2, 0.2, 0.2, 0.2, 0.2]\n",
      "[1 2 4 5 2 4 5 4 1 3 4 1 2 5 4 2 3 5 4 1 1 3 1 2 5 4 1 2 2 3 4 4 3 1 1 3 5\n",
      " 4 4 2 1 5 4 3 5 5 4 4 1 2 2 3 1 5 2 1 1 2 1 4 5 1 3 3 3 4 4 5 4 4 3 5 4 1\n",
      " 3 2 4 3 1 2 5 1 4 5 2 1 5 3 3 3 2 2 5 5 2 5 4 2 4 2]\n"
     ]
    },
    {
     "data": {
      "text/plain": [
       "Text(0,0.5,'count')"
      ]
     },
     "execution_count": 16,
     "metadata": {},
     "output_type": "execute_result"
    },
    {
     "data": {
      "image/png": "[encoded data removed]",
      "text/plain": [
       "<matplotlib.figure.Figure at 0x10d532978>"
      ]
     },
     "metadata": {},
     "output_type": "display_data"
    }
   ],
   "source": [
    "import numpy\n",
    "import matplotlib.pyplot as plt\n",
    "%matplotlib inline  \n",
    "theta = [1.0/5.0]*5 # this makes an array of length 5 with entries all being 1.0/5.0\n",
    "print (\"Theta = \", theta)\n",
    "state_space = [1,2,3,4,5]\n",
    "x = numpy.random.choice(state_space,size=100,p=theta)\n",
    "print (x)\n",
    "plt.hist(x,bins=[0.5,1.5,2.5,3.5,4.5,5.5],align='mid')\n",
    "plt.xlabel('X')\n",
    "plt.ylabel('count')"
   ]
  },
  {
   "cell_type": "code",
   "execution_count": 18,
   "metadata": {
    "slideshow": {
     "slide_type": "slide"
    }
   },
   "outputs": [
    {
     "name": "stdout",
     "output_type": "stream",
     "text": [
      "Theta =  [0.1, 0.5, 0.2, 0.01, 0.19]\n",
      "Counts of different outcomes across n = 20 trials: [3 9 4 0 4]\n",
      "Counts of different outcomes across n = 20 trials: [ 2 10  2  0  6]\n",
      "Counts of different outcomes across n = 20 trials: [ 1 10  3  0  6]\n",
      "Counts of different outcomes across n = 20 trials: [ 2 13  3  0  2]\n",
      "Counts of different outcomes across n = 20 trials: [1 9 7 0 3]\n"
     ]
    }
   ],
   "source": [
    "import numpy\n",
    "import matplotlib.pyplot as plt\n",
    "%matplotlib inline  \n",
    "theta = [0.1,0.5,0.2,0.01,0.19] \n",
    "assert(abs(numpy.sum(theta) - 1.0)<1e-10) # why abs(... - ...)<1e-10?\n",
    "print (\"Theta = \", theta)\n",
    "n = 20;\n",
    "for i in range(5):\n",
    "    x = numpy.random.multinomial(n,theta)\n",
    "    print (\"Counts of different outcomes across n =\", n, \"trials:\", x)\n"
   ]
  },
  {
   "cell_type": "markdown",
   "metadata": {
    "slideshow": {
     "slide_type": "slide"
    }
   },
   "source": [
    "# Intermission\n",
    "\n",
    "* Probabilities and their representations: tables vs analytic specification.\n",
    "\n",
    "* Everything thus far was generative in nature: given parameters generate data.\n",
    "\n",
    "* Learning works in the opposite direction: find thetas that explain the data.\n",
    "\n",
    "* When working with discrete probabilities make sure that things \"add up\"\n",
    "\n",
    "* We will frequently use marginalization and Bayes rule since they are crucial in inference\n",
    "\n"
   ]
  },
  {
   "cell_type": "markdown",
   "metadata": {
    "slideshow": {
     "slide_type": "slide"
    }
   },
   "source": [
    "# Continuous distributions\n",
    "\n",
    "Continous distributions spread their probability across infinite sets of possible outcomes (think real values).\n",
    "\n",
    "As a consequence, we can no longer simply sum over possible outcomes. Rather we integrate over the domain of the random variable.\n",
    "$$\n",
    "\\int_x p(X = x) dx = 1\n",
    "$$\n",
    "\n",
    "Marginalization\n",
    "$$\n",
    "p(A) = \\int_b p(A,B=b) db \n",
    "$$\n",
    "\n",
    "Bayes rule:\n",
    "$$\n",
    "p(B\\big|A) = \\frac{p(A,B)}{p(A)} = \\frac{p(A\\big|B)p(B)}{p(A)} = \\frac{p(A\\big|B)p(B)}{\\int_b p(A\\big|B=b)p(B=b) db}\n",
    "$$"
   ]
  },
  {
   "cell_type": "markdown",
   "metadata": {
    "slideshow": {
     "slide_type": "slide"
    }
   },
   "source": [
    "# Continuous distributions -- Gaussian\n",
    "\n",
    "$X$ is distributed according to normal (or Gaussian) distribution with mean $\\mu$ and variance $\\sigma^2$\n",
    "$$ \n",
    "\\begin{aligned}\n",
    "X &\\sim \\mathcal{N}(\\mu,\\sigma^2) \\\\\n",
    "p(X = x\\big|\\mu,\\sigma^2)&= \\frac{1}{\\sqrt{2\\pi\\sigma^2}} e^{-\\frac{1}{2\\sigma^2}(x-\\mu)^2}\n",
    "\\end{aligned}\n",
    "$$\n",
    "\n",
    "Note that the variance is $\\sigma^2$ and standard deviation is $\\sigma$.\n",
    "\n"
   ]
  },
  {
   "cell_type": "markdown",
   "metadata": {
    "slideshow": {
     "slide_type": "slide"
    }
   },
   "source": [
    "# Continuous distributions -- Gaussian\n",
    "\n",
    "Since you know that\n",
    "$$\n",
    "p(X = x\\big|\\mu,\\sigma^2) = \\frac{1}{\\sqrt{2\\pi\\sigma^2}} e^{-\\frac{1}{2\\sigma^2}(x-\\mu)^2} \n",
    "$$\n",
    "and\n",
    "$$\n",
    "\\int_x p(X = x\\big|\\mu,\\sigma^2) dx = 1 \n",
    "$$\n",
    "then you can say that\n",
    "$$\n",
    "\\int_x \\frac{1}{\\sqrt{2\\pi\\sigma^2}} e^{-\\frac{1}{2\\sigma^2}(x-\\mu)^2} dx= 1.\n",
    "$$\n",
    "\n",
    "\n",
    "\n",
    "Q: \n",
    "$$\n",
    " \\int_x e^{-\\frac{1}{2\\sigma^2}(x-\\mu)^2} dx = ?\n",
    "$$\n",
    "\n"
   ]
  },
  {
   "cell_type": "code",
   "execution_count": 19,
   "metadata": {
    "slideshow": {
     "slide_type": "slide"
    }
   },
   "outputs": [
    {
     "name": "stdout",
     "output_type": "stream",
     "text": [
      "Mean: 0.98589551727 Standard Deviation: 1.01974282752\n",
      "Mean: 10.0263562281 Standard Deviation: 1.00041998277\n",
      "Mean: -7.00823412957 Standard Deviation: 1.9604215166\n"
     ]
    },
    {
     "data": {
      "text/plain": [
       "<matplotlib.legend.Legend at 0x10d532278>"
      ]
     },
     "execution_count": 19,
     "metadata": {},
     "output_type": "execute_result"
    },
    {
     "data": {
      "image/png": "[encoded data removed]",
      "text/plain": [
       "<matplotlib.figure.Figure at 0x1107f7278>"
      ]
     },
     "metadata": {},
     "output_type": "display_data"
    }
   ],
   "source": [
    "import numpy\n",
    "import matplotlib.pyplot as plt\n",
    "%matplotlib inline  \n",
    "mus =    [1.0,10.0,-7.0]\n",
    "sigmas = [1.0, 1.0, 2.0]\n",
    "for (mu,sigma) in zip(mus,sigmas):\n",
    "    x = numpy.random.normal(mu,sigma,2000)\n",
    "    print (\"Mean: \" + str(numpy.mean(x)) + \" Standard Deviation: \" + str(numpy.std(x)))\n",
    "    plt.xlim(-15,15)\n",
    "    plt.hist(x,40,normed=True,label='mu:'+str(mu)+' sigma:'+str(sigma))\n",
    "\n",
    "plt.legend(bbox_to_anchor=(1.05, 1), loc=2)"
   ]
  },
  {
   "cell_type": "markdown",
   "metadata": {
    "slideshow": {
     "slide_type": "slide"
    }
   },
   "source": [
    "# Continuous distributions -- Laplace\n",
    "\n",
    "\n",
    "$X$ is distributed according to Laplace distribution with location $\\mu$ and scale $b$\n",
    "$$ \n",
    "\\begin{aligned}\n",
    "X &\\sim \\textrm{Laplace}(\\mu,b) \\\\\n",
    "p(X = x\\big|\\mu,b))&= \\frac{1}{2b}\\exp{\\left\\{-\\frac{|x - \\mu|}{b}\\right\\}} \\\\\n",
    "\\end{aligned}\n",
    "$$\n",
    "\n",
    "Location and scale are analogous to mean and variance in normal distribution. \n",
    "\n",
    "Let's generate some data from Laplace distribution."
   ]
  },
  {
   "cell_type": "code",
   "execution_count": 20,
   "metadata": {
    "slideshow": {
     "slide_type": "slide"
    }
   },
   "outputs": [
    {
     "name": "stdout",
     "output_type": "stream",
     "text": [
      "Location: 1.00022756191 Scale: 1.00759503392\n",
      "Location: 10.0254415278 Scale: 1.01661212847\n",
      "Location: -6.94413433604 Scale: 1.92228713737\n"
     ]
    },
    {
     "data": {
      "text/plain": [
       "<matplotlib.legend.Legend at 0x1108e6b70>"
      ]
     },
     "execution_count": 20,
     "metadata": {},
     "output_type": "execute_result"
    },
    {
     "data": {
      "image/png": "[encoded data removed]",
      "text/plain": [
       "<matplotlib.figure.Figure at 0x1108f09b0>"
      ]
     },
     "metadata": {},
     "output_type": "display_data"
    }
   ],
   "source": [
    "import numpy\n",
    "import matplotlib.pyplot as plt\n",
    "%matplotlib inline  \n",
    "locs =    [1.0,10.0,-7.0]\n",
    "scales = [1.0, 1.0, 2.0]\n",
    "for (loc,scale) in zip(locs,scales):\n",
    "    x = numpy.random.laplace(loc,scale,2000)\n",
    "    print (\"Location: \" + str(numpy.mean(x)) + \" Scale: \" + str(numpy.sqrt(numpy.var(x)/2)))    \n",
    "    plt.hist(x,50,normed=True,label=\"Location: \"+str(loc)+' Scale:'+str(scale))\n",
    "    plt.xlim(-15,15)\n",
    "\n",
    "plt.legend(bbox_to_anchor=(1.05, 1), loc=2)"
   ]
  },
  {
   "cell_type": "markdown",
   "metadata": {
    "slideshow": {
     "slide_type": "slide"
    }
   },
   "source": [
    "# Parameters and likelihood function\n",
    "\n",
    "Say we performed $N$ coin tosses and obtained a sequence of heads and tails\n",
    "$$\n",
    "\\mathbf{x} = \\{1,0,1,1,0,1,1,0...\\}\n",
    "$$\n",
    "\n",
    "Q: If we wanted to predict the result of the next coin toss what should we do?\n",
    "[Your first guess is probably right.]\n"
   ]
  },
  {
   "cell_type": "markdown",
   "metadata": {
    "slideshow": {
     "slide_type": "slide"
    }
   },
   "source": [
    "# Parameters and likelihood function\n",
    "\n",
    "Each of the coin tosses can be thought of as a realization of a random variable.\n",
    "\n",
    "Hence we can write probability of the data $\\mathbf{x}$.\n",
    "\n",
    "$$\n",
    "p(\\mathbf{x}|\\theta) = \\prod_{i=1}^N p(X = x_i|\\theta) = \\prod_{i=1}^N \\theta^{x_i}(1-\\theta)^{1-x_i}\n",
    "$$\n",
    "Pluging in different $\\theta$s give different probability of the data.\n",
    "\n",
    "Q: Could this help us figure out what the next toss could be?"
   ]
  },
  {
   "cell_type": "code",
   "execution_count": 21,
   "metadata": {
    "slideshow": {
     "slide_type": "slide"
    }
   },
   "outputs": [
    {
     "name": "stdout",
     "output_type": "stream",
     "text": [
      "Number of heads:  11\n",
      "Number of tails:  15\n",
      "3.895503726512704e-09\n",
      "1.4901161193847656e-08\n",
      "2.029464109446502e-08\n"
     ]
    }
   ],
   "source": [
    "def likelihood(theta,xs):\n",
    "    p = 1.0\n",
    "    for x in xs:\n",
    "        p = p*(theta**x * (1-theta)**(1-x))\n",
    "    return p\n",
    "\n",
    "xs = [0,1,0,0,1,0,1,0,1,0,0,0,1,0,0,1,0,0,1,0,1,0,0,1,1,1]\n",
    "n_heads = numpy.sum(xs)  #  since count of ones is the same as sum of all entries in xs\n",
    "n_tails = len(xs) - n_heads \n",
    "print ('Number of heads: ', n_heads)\n",
    "print ('Number of tails: ', n_tails)\n",
    "print (likelihood(0.6,xs))\n",
    "print (likelihood(0.5,xs))\n",
    "print (likelihood(11.0/26.0,xs))"
   ]
  },
  {
   "cell_type": "markdown",
   "metadata": {
    "slideshow": {
     "slide_type": "slide"
    }
   },
   "source": [
    "# Parameters and likelihood function\n",
    "\n",
    "Hence, we can try to find parameter $\\theta$ for which $p(\\mathbf{x}|\\theta)$ is the largest.\n",
    "\n",
    "$p(\\mathbf{x}|\\theta)$ can be seen as a function of **parameter** $\\theta$.\n",
    "\n",
    "This function is called *likelihood* \n",
    "$$\n",
    "\\mathcal{L(\\theta|\\mathbf{x})} = p(\\mathbf{x}|\\theta)\n",
    "$$\n",
    "\n",
    "$\\theta$ which results in the largest likelihood is called **maximum-likelihood estimate**.\n",
    "\n",
    "In many cases, learning is nothing more than maximizing likelihood."
   ]
  },
  {
   "cell_type": "markdown",
   "metadata": {
    "slideshow": {
     "slide_type": "slide"
    }
   },
   "source": [
    "# Specifying optimization problems\n",
    "\n",
    "Optimization problems such as finding maximum of likelihood are typically written in a particular form.\n",
    "\n",
    "Maximization problem:\n",
    "$$\n",
    "\\begin{aligned}\n",
    "\\mathop{\\textrm{maximize}}_{\\theta}&& f(\\theta)\n",
    "\\end{aligned}\n",
    "$$\n",
    "Equivalent minimization problem:\n",
    "$$\n",
    "\\begin{aligned}\n",
    "\\mathop{\\textrm{minimize}}_{\\theta}&& -f(\\theta)\n",
    "\\end{aligned}\n",
    "$$\n"
   ]
  },
  {
   "cell_type": "markdown",
   "metadata": {
    "slideshow": {
     "slide_type": "slide"
    }
   },
   "source": [
    "# Specifying optimization problems\n",
    "\n",
    "We need to distinguish between **minimum** of a function and a **minimizer** of a function.\n",
    "\n",
    "Minimum is the least value that the function achieves, minimizer is the argument for which the minimum is achived. \n",
    "\n",
    "For example: $f(x) = 6 + (x-1)^2$ has minimum of $6$. That minimum is achieved at $x=1$. Hence, its minimizer is $1$."
   ]
  },
  {
   "cell_type": "code",
   "execution_count": 22,
   "metadata": {
    "slideshow": {
     "slide_type": "slide"
    }
   },
   "outputs": [
    {
     "name": "stdout",
     "output_type": "stream",
     "text": [
      "[-2.         -1.84615385 -1.69230769 -1.53846154 -1.38461538 -1.23076923\n",
      " -1.07692308 -0.92307692 -0.76923077 -0.61538462 -0.46153846 -0.30769231\n",
      " -0.15384615  0.          0.15384615  0.30769231  0.46153846  0.61538462\n",
      "  0.76923077  0.92307692  1.07692308  1.23076923  1.38461538  1.53846154\n",
      "  1.69230769  1.84615385  2.          2.15384615  2.30769231  2.46153846\n",
      "  2.61538462  2.76923077  2.92307692  3.07692308  3.23076923  3.38461538\n",
      "  3.53846154  3.69230769  3.84615385  4.        ]\n"
     ]
    },
    {
     "data": {
      "text/plain": [
       "<matplotlib.legend.Legend at 0x110d355f8>"
      ]
     },
     "execution_count": 22,
     "metadata": {},
     "output_type": "execute_result"
    },
    {
     "data": {
      "image/png": "[encoded data removed]",
      "text/plain": [
       "<matplotlib.figure.Figure at 0x110804320>"
      ]
     },
     "metadata": {},
     "output_type": "display_data"
    }
   ],
   "source": [
    "import matplotlib.pyplot as plt\n",
    "%matplotlib inline\n",
    "import numpy\n",
    "xlimits = [-2,4]\n",
    "ylimits = [0,20]\n",
    "x = numpy.linspace(xlimits[0],xlimits[1],40)\n",
    "print (x)\n",
    "y = 6 + (x - 1.0)**2.0\n",
    "plt.plot(x,y,label = 'f(x) = 6 + (x - 1.0)**2.0')\n",
    "plt.ylim([ylimits[0],ylimits[1]])\n",
    "plt.plot([xlimits[0], xlimits[1]],[6.0, 6.0])\n",
    "plt.plot([1.0,1.0],[ylimits[0],6.0])\n",
    "plt.annotate('Minimizer x is 1.0',(1.0,ylimits[0]))\n",
    "plt.annotate('Minimum of f(x) is 6.0',(xlimits[0],6.0))\n",
    "plt.xlabel('x')\n",
    "plt.ylabel('f(x)')\n",
    "plt.legend()\n"
   ]
  },
  {
   "cell_type": "markdown",
   "metadata": {
    "slideshow": {
     "slide_type": "slide"
    }
   },
   "source": [
    "# Specifying optimization problems\n",
    "Minimum is value of function -- output --, minimizer is value of function's argument -- input.\n",
    "\n",
    "* Minimum: $$ \\mathop{\\textrm{min}}_x f(x)$$\n",
    "* Minimizer: $$ \\mathop{\\textrm{argmin}}_x f(x)$$\n",
    "* Maximum: $$ \\mathop{\\textrm{max}}_x f(x)$$\n",
    "* Maximizer: $$ \\mathop{\\textrm{argmax}}_x f(x)$$"
   ]
  },
  {
   "cell_type": "markdown",
   "metadata": {
    "slideshow": {
     "slide_type": "slide"
    }
   },
   "source": [
    "# Transforming optimization problems\n",
    "\n",
    "Monotonic transformations of functions do not change location of their minimizers/maximizers\n",
    "\n",
    "* $\\mathop{\\textrm{argmin}}_x f(x) = \\mathop{\\textrm{argmin}}_x f(x) + c$\n",
    "* $\\mathop{\\textrm{argmin}}_x f(x) = \\mathop{\\textrm{argmin}}_x cf(x)$, $c>0$\n",
    "* $\\mathop{\\textrm{argmin}}_x f(x) = \\mathop{\\textrm{argmin}}_x \\log f(x)$\n",
    "* $\\mathop{\\textrm{argmin}}_x f(x) = \\mathop{\\textrm{argmin}}_x \\exp f(x)$\n"
   ]
  },
  {
   "cell_type": "code",
   "execution_count": 23,
   "metadata": {
    "slideshow": {
     "slide_type": "slide"
    }
   },
   "outputs": [
    {
     "name": "stdout",
     "output_type": "stream",
     "text": [
      "[-2.         -1.84615385 -1.69230769 -1.53846154 -1.38461538 -1.23076923\n",
      " -1.07692308 -0.92307692 -0.76923077 -0.61538462 -0.46153846 -0.30769231\n",
      " -0.15384615  0.          0.15384615  0.30769231  0.46153846  0.61538462\n",
      "  0.76923077  0.92307692  1.07692308  1.23076923  1.38461538  1.53846154\n",
      "  1.69230769  1.84615385  2.          2.15384615  2.30769231  2.46153846\n",
      "  2.61538462  2.76923077  2.92307692  3.07692308  3.23076923  3.38461538\n",
      "  3.53846154  3.69230769  3.84615385  4.        ]\n"
     ]
    },
    {
     "data": {
      "text/plain": [
       "<matplotlib.legend.Legend at 0x117ee8f28>"
      ]
     },
     "execution_count": 23,
     "metadata": {},
     "output_type": "execute_result"
    },
    {
     "data": {
      "image/png": "[encoded data removed]",
      "text/plain": [
       "<matplotlib.figure.Figure at 0x110af5b00>"
      ]
     },
     "metadata": {},
     "output_type": "display_data"
    }
   ],
   "source": [
    "import matplotlib.pyplot as plt\n",
    "%matplotlib inline\n",
    "import numpy\n",
    "xlimits = [-2,4]\n",
    "ylimits = [-1.0,20]\n",
    "x = numpy.linspace(xlimits[0],xlimits[1],40)\n",
    "print (x)\n",
    "y = (x - 1.0)**2.0\n",
    "plt.plot(x,y,label = 'f(x) = (x - 1)**2')\n",
    "plt.plot(x,y+6.0, label = 'g(x) = 6 +f(x)')\n",
    "plt.plot(x,y*1.5, label = 'g(x) = 1.5*f(x)')\n",
    "plt.plot(x,numpy.exp(1./3.*y), label = 'g(x) = exp(f(x))')\n",
    "plt.plot(x,numpy.log(1.0 + y), label = 'g(x) = log(1.0 + f(x))')\n",
    "plt.xlabel('x')\n",
    "plt.ylabel('f(x)')\n",
    "plt.ylim(ylimits)\n",
    "plt.annotate('Same minimizer for all, x=1.0',(1.0,ylimits[0]))\n",
    "plt.plot([1.0,1.0],[ylimits[0],ylimits[1]])\n",
    "plt.legend()"
   ]
  },
  {
   "cell_type": "markdown",
   "metadata": {
    "slideshow": {
     "slide_type": "slide"
    }
   },
   "source": [
    "# Log-likelihood\n",
    "\n",
    "Maximization of likelihood can be tricky when datasets are large. Computing product of probabilities, by definition smaller than 1, can easily underflow.\n",
    "\n",
    "Typically, we maximize likelihood by finding maxima of log-likelihood. The location of the maximum's of these two functions coincide, and the only difference is that we avoid numerical problems.\n",
    "\n",
    "$$\n",
    "\\log \\mathcal{L}(\\theta|\\mathbf{x}) = \\log p(\\mathbf{x}|\\theta) = \\log \\prod_i p(x_i|\\theta) = \\sum_i \\log p(x_i|\\theta)\n",
    "$$\n",
    "\n",
    "In general, we will compute log probabilities and only convert them to probabilities when we need to perform marginalization. "
   ]
  },
  {
   "cell_type": "code",
   "execution_count": 24,
   "metadata": {
    "slideshow": {
     "slide_type": "fragment"
    }
   },
   "outputs": [
    {
     "name": "stdout",
     "output_type": "stream",
     "text": [
      "0.0\n",
      "-963.1782434607487\n"
     ]
    }
   ],
   "source": [
    "from math import log\n",
    "theta = 0.1\n",
    "n_h = 400\n",
    "n_t = 400\n",
    "print (theta**n_h*(1.0 - theta)**n_t)\n",
    "print (log(theta)*n_h + log(1.0 - theta)*n_t)"
   ]
  },
  {
   "cell_type": "markdown",
   "metadata": {
    "slideshow": {
     "slide_type": "slide"
    }
   },
   "source": [
    "# Maximizing likelihood \n",
    "\n",
    "Log-Likelihood in detail:\n",
    "$$\n",
    "\\log \\mathcal{L}(\\theta|\\mathbf{x}) = \\sum_i \\log p(x_i|\\theta)\n",
    "$$\n",
    "We plug in our Bernoulli distribution\n",
    "$$\n",
    "p(x_i|\\theta) = \\theta^{x_i} (1-\\theta)^{1 - x_i}\n",
    "$$\n",
    "and its log is\n",
    "$$\n",
    "\\log p(x_i|\\theta) = {x_i}\\log \\theta + (1-x_i)\\log(1-\\theta)\n",
    "$$\n",
    "Putting it all together\n",
    "$$\n",
    "\\log \\mathcal{L}(\\theta|\\mathbf{x}) = \\sum_i \\left[{x_i}\\log \\theta + (1-x_i)\\log(1-\\theta)\\right]\n",
    "$$\n",
    "\n"
   ]
  },
  {
   "cell_type": "code",
   "execution_count": 25,
   "metadata": {
    "slideshow": {
     "slide_type": "fragment"
    }
   },
   "outputs": [
    {
     "name": "stdout",
     "output_type": "stream",
     "text": [
      "-19.3634428395\n",
      "-18.0218266946\n",
      "-17.7129089712\n"
     ]
    }
   ],
   "source": [
    "def loglikelihood(theta,xs):\n",
    "    lp = 0.0\n",
    "    for x in xs:\n",
    "        lp = lp + numpy.log(theta)*x  + numpy.log(1-theta)*(1-x)\n",
    "    return lp\n",
    "xs = [0,1,0,0,1,0,1,0,1,0,0,0,1,0,0,1,0,0,1,0,1,0,0,1,1,1]\n",
    "print (loglikelihood(0.6,xs) )\n",
    "print (loglikelihood(0.5,xs) )\n",
    "print (loglikelihood(11.0/26.0,xs)) "
   ]
  },
  {
   "cell_type": "markdown",
   "metadata": {
    "slideshow": {
     "slide_type": "slide"
    }
   },
   "source": [
    "# Maximizing likelihood  \n",
    "\n",
    "Our coin toss example:\n",
    "\n",
    "Data: $$\n",
    "\\mathbf{x} = \\{0,1,0,0,1,0,1,0,1,...\\}\n",
    "$$\n",
    "Log-Likelihood: \n",
    "$$\n",
    "\\log \\mathcal{L}(\\theta|\\mathbf{x}) = \\log p(\\mathbf{x}|\\theta) = \\log \\prod_i p(x_i|\\theta) = \\sum_i \\log p(x_i|\\theta)\n",
    "$$\n",
    "Maximum likelihood estimate: $$\\theta^{\\textrm{ML}} = \\mathop{\\textrm{argmax}}_\\theta \\log \\mathcal{L}(\\theta|\\mathbf{x})$$\n",
    "\n",
    "Q: How do we find maxima/minima of functions?"
   ]
  },
  {
   "cell_type": "markdown",
   "metadata": {
    "slideshow": {
     "slide_type": "slide"
    }
   },
   "source": [
    "# Finding maximum/minimum of a function\n",
    "\n",
    "For a differentiable function $f(\\cdot)$, $x$ is a critical point if it's first derivative at that point is zero.\n",
    "$$\n",
    "f'(x) = 0\n",
    "$$\n",
    "\n",
    "A critical point may be a maximizer, minimizer of a saddle point.\n",
    "\n",
    "You can check whether you have a minimizer or maximizer inspect second derivative.\n",
    "\n",
    "Convex functions have nonnegative second derivative $\\forall x, f''(x) \\geq 0$.\n",
    "For a convex function, $f'(x) = 0$ implies that $x$ is a global minimizer.\n",
    "\n",
    "Concave functions have nonpositive second derivative $\\forall x, f''(x) \\leq 0$.\n",
    "For a concave function, $f'(x) = 0$ implies that $x$ is a global maximizer.\n",
    "\n",
    "For next few weeks, all the optimization problems will be convex. \n",
    "\n",
    "Notation: I will write $\\frac{\\partial}{\\partial x} f(x)$ to make it clear which derivative we are computing.\n"
   ]
  },
  {
   "cell_type": "markdown",
   "metadata": {
    "slideshow": {
     "slide_type": "slide"
    }
   },
   "source": [
    "# Finding maximum/minimum of log-likelihood\n",
    "\n",
    "Coin toss example again:\n",
    "$$\n",
    "\\log \\mathcal{L}(\\theta|\\mathbf{x}) = \\sum_i \\left[{x_i}\\log \\theta + (1-x_i)\\log(1-\\theta)\\right]\n",
    "$$\n",
    "Let's compute first derivative\n",
    "$$\n",
    "\\frac{\\partial}{\\partial \\theta}\\log \\mathcal{L}(\\theta|\\mathbf{x}) = \\sum_i \\left[{x_i}\\frac{1}{\\theta} + (1-x_i)(-\\frac{1}{1 - \\theta})\\right]\n",
    "$$\n"
   ]
  },
  {
   "cell_type": "markdown",
   "metadata": {
    "slideshow": {
     "slide_type": "slide"
    }
   },
   "source": [
    "# Finding maximum/minimum of log-likelihood\n",
    "\n",
    "To find best $\\theta$ we equate the derivative $\\frac{\\partial}{\\partial \\theta}\\log \\mathcal{L}(\\theta|\\mathbf{x})$ to zero  and solve\n",
    "$$\n",
    "\\frac{\\partial}{\\partial \\theta}\\log \\mathcal{L}(\\theta|\\mathbf{x}) = 0 \n",
    "$$"
   ]
  },
  {
   "cell_type": "markdown",
   "metadata": {
    "slideshow": {
     "slide_type": "slide"
    }
   },
   "source": [
    "# Finding maximum/minimum of log-likelihood\n",
    "For our coin toss example this amounts to:\n",
    "$$\n",
    "\\begin{aligned}\n",
    "\\sum_i \\left[{x_i}\\frac{1}{\\theta} + (1-x_i)\\frac{-1}{1 - \\theta}\\right] = 0\\\\\n",
    "\\sum_i {x_i}\\frac{1}{\\theta} - \\sum_i (1-x_i)\\frac{1}{1 - \\theta} &= 0\\\\\n",
    "\\sum_i {x_i}\\frac{1}{\\theta} &= \\sum_i (1-x_i)\\frac{1}{1 - \\theta} \\\\\n",
    "\\frac{1}{\\theta}\\underbrace{\\sum_i {x_i}}_{n_h} &= \\frac{1}{1 - \\theta}\\underbrace{\\sum_i (1-x_i)}_{n_t} \\\\\n",
    "(1 - \\theta)n_h &= \\theta n_t\\\\\n",
    "n_h  &= \\theta (n_t+n_h)\\\\\n",
    "\\theta &= \\frac{n_h}{n_t + n_h}\n",
    "\\end{aligned}\n",
    "$$\n",
    "\n",
    "Anti-climactic? Reassuring? From the first principles?"
   ]
  },
  {
   "cell_type": "markdown",
   "metadata": {
    "slideshow": {
     "slide_type": "slide"
    }
   },
   "source": [
    "# Exercise: Find MLE for parameter $\\mu$ of Gaussian distributed data\n",
    "\n",
    "$$\n",
    "\\begin{aligned}\n",
    "\\log \\mathcal{L}(\\mu|\\mathbf{x}) &= \\sum_{i=1}^N \\log \\frac{1}{\\sqrt{2\\pi\\sigma^2}} e^{-\\frac{1}{2\\sigma^2}(x_i-\\mu)^2} \\\\\n",
    "&= \\sum_{i=1}^N \\left[-\\frac{1}{2}\\log 2\\pi\\sigma^2 - \\frac{1}{2\\sigma^2}(x_i-\\mu)^2\\right] \\\\\n",
    "\\end{aligned}\n",
    "$$\n",
    "Equate to zero and solve\n",
    "$$\n",
    "\\frac{\\partial}{\\partial \\mu} \\log \\mathcal{L}(\\mu|\\mathbf{x}) = 0\n",
    "$$\n",
    "Hints: \n",
    "1. Recall that a constant added to a function does not change location of its minimizer.\n",
    "2. The answer is mean of the ${x_1,...,x_N}$. The point of the exercise is to get there. \n",
    "\n",
    "Please do this before next lecture. I will solve it at the beginning of the lecture. "
   ]
  },
  {
   "cell_type": "markdown",
   "metadata": {
    "slideshow": {
     "slide_type": "fragment"
    }
   },
   "source": [
    "# If you want to run the code in this notebook ...\n",
    "\n",
    "\n",
    "1. Install Anaconda. \n",
    "2. Download the notebook from the course webpage. \n",
    "3. In Anaconda command prompt:\n",
    "```\n",
    "cd <directory_where_you_saved_the_notebook>\n",
    "jupyter notebook\n",
    "```\n",
    "4. A browser window will pop up. Click on the notebook file (COMP 755 Lect2.ipynb)\n",
    "5. Mess with it as much as you like.\n"
   ]
  },
  {
   "cell_type": "code",
   "execution_count": null,
   "metadata": {
    "collapsed": true
   },
   "outputs": [],
   "source": []
  }
 ],
 "metadata": {
  "anaconda-cloud": {},
  "celltoolbar": "Slideshow",
  "kernelspec": {
   "display_name": "Python 3",
   "language": "python",
   "name": "python3"
  },
  "language_info": {
   "codemirror_mode": {
    "name": "ipython",
    "version": 3
   },
   "file_extension": ".py",
   "mimetype": "text/x-python",
   "name": "python",
   "nbconvert_exporter": "python",
   "pygments_lexer": "ipython3",
   "version": "3.6.5"
  }
 },
 "nbformat": 4,
 "nbformat_minor": 1
}
