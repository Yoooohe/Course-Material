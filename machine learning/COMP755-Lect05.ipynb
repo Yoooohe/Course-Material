{
 "cells": [
  {
   "cell_type": "markdown",
   "metadata": {
    "slideshow": {
     "slide_type": "slide"
    }
   },
   "source": [
    "# COMP 755\n",
    "\n",
    "Plan for today\n",
    "\n",
    "1. Review closed form linear regression, ridge regression\n",
    "2. Introduce sigmoid function\n",
    "3. Logistic regression \n",
    "4. Geometric view of logistic regression -- separating hyperplanes\n",
    "5. Regularization in logistic regression\n",
    "6. HW1 overview\n",
    "7. Bayesian interpretation of penalties\n",
    "\n",
    "$$\n",
    "\\renewcommand{\\xx}{\\mathbf{x}}\n",
    "\\renewcommand{\\yy}{\\mathbf{y}}\n",
    "\\renewcommand{\\zz}{\\mathbf{z}}\n",
    "\\renewcommand{\\vv}{\\mathbf{v}}\n",
    "\\renewcommand{\\loglik}{\\log\\mathcal{L}}\n",
    "\\renewcommand{\\likelihood}{\\mathcal{L}}\n",
    "\\renewcommand{\\Data}{\\textrm{Data}}\n",
    "\\renewcommand{\\given}{ \\big| }\n",
    "\\renewcommand{\\MLE}{\\textrm{MLE}}\n",
    "\\renewcommand{\\tth}{\\textrm{th}}\n",
    "\\renewcommand{\\Gaussian}[2]{\\mathcal{N}\\left(#1,#2\\right)}\n",
    "\\renewcommand{\\norm}[1]{\\left\\lVert#1\\right\\rVert}\n",
    "\\renewcommand{\\ones}{\\mathbf{1}}\n",
    "\\renewcommand{\\diag}[1]{\\textrm{diag}\\left( #1 \\right)}\n",
    "\\renewcommand{\\sigmoid}[1]{\\sigma\\left(#1\\right)}\n",
    "\\renewcommand{\\myexp}[1]{\\exp\\left\\{#1\\right\\}}\n",
    "$$"
   ]
  },
  {
   "cell_type": "markdown",
   "metadata": {
    "slideshow": {
     "slide_type": "slide"
    }
   },
   "source": [
    "# Last time -- closed form solution for linear regression\n",
    "\n",
    "\n",
    "\n",
    "$$\n",
    "\\begin{aligned}\n",
    "\\left[\n",
    "\\begin{array}{c}\n",
    "\\beta^{\\MLE}_0\\\\\n",
    "\\beta^{\\MLE} \n",
    "\\end{array}\n",
    "\\right] &= (X_1^TX_1)^{-1}X_1^T\\yy \\\\\n",
    "(\\sigma^{\\MLE})^2 &= \\frac{1}{N}\\sum_{i=1}^N\\left(\\yy - \\beta_0^{\\MLE} - X\\beta^{\\MLE}\\right)^2\n",
    "\\end{aligned}\n",
    "$$\n",
    "where\n",
    "$$ X_1 = \\left[\\mathbf{1}_p\\  X\\right] $$ and $\\mathbf{1}_r$ denotes $r$ long column-vector of 1s.\n"
   ]
  },
  {
   "cell_type": "markdown",
   "metadata": {
    "slideshow": {
     "slide_type": "slide"
    }
   },
   "source": [
    "# Last time -- regularization\n",
    "\n",
    "Ill-posed problems have many solutions.\n",
    "\n",
    "One way to break the ties between different solutions is to add regularization.\n",
    "\n",
    "Ridge regression is adds regularization to the log-likelihood:\n",
    "$$\n",
    "\\loglik(\\beta,\\beta_0,\\sigma^2|\\yy,X) - \\lambda\\norm{\\beta}^2\n",
    "= -\\frac{N}{2} \\log 2\\pi\\sigma^2  -\\frac{1}{2\\sigma^2}\\norm{\\yy -  \\beta_0 - X\\beta}^2 - \\lambda\\norm{\\beta}^2.\n",
    "$$\n",
    "\n",
    "Using this regularization spreads the weights between correlated predictors. \n",
    "\n",
    "Setting $\\lambda=0$ recovers the linear regression log-likelihood."
   ]
  },
  {
   "cell_type": "markdown",
   "metadata": {
    "slideshow": {
     "slide_type": "slide"
    }
   },
   "source": [
    "# Last time -- gradients for ridge penalized optimization\n",
    "\n",
    "Gradients of linear regression log-likelihood:\n",
    "$$\n",
    "\\begin{aligned}\n",
    "\\frac{\\partial}{\\partial \\beta_0} &= \\frac{1}{\\sigma^2}(\\yy-\\beta_0\\ones -X\\beta)^T\\ones \\\\\n",
    "\\nabla_\\beta \\loglik(\\beta\\given\\yy,\\xx) &= \\frac{1}{\\sigma^2}(\\yy-\\beta_0\\ones -X\\beta)^TX \n",
    "\\end{aligned}\n",
    "$$\n",
    "\n",
    "Gradients of ridge regression log-likelihood:\n",
    "$$\n",
    "\\begin{aligned}\n",
    "\\frac{\\partial}{\\partial \\beta_0} &= \\frac{1}{\\sigma^2}(\\yy-\\beta_0\\ones -X\\beta)^T\\ones \\\\\n",
    "\\nabla_\\beta \\loglik(\\beta\\given\\yy,\\xx) &= \\frac{1}{\\sigma^2}(\\yy-\\beta_0\\ones -X\\beta)^TX \\color{red}{- \\lambda\\beta}\n",
    "\\end{aligned}\n",
    "$$"
   ]
  },
  {
   "cell_type": "markdown",
   "metadata": {
    "slideshow": {
     "slide_type": "slide"
    }
   },
   "source": [
    "# Last time -- closed form solution for ridge regression\n",
    "\n",
    "$$\n",
    "\\begin{aligned}\n",
    "\\left[\n",
    "\\begin{array}{c}\n",
    "\\beta^{\\MLE}_0\\\\\n",
    "\\beta^{\\MLE} \n",
    "\\end{array}\n",
    "\\right] &= \\left(X_1^TX_1 \\color{red}{+ \\diag{\\left[\\begin{array}{c} 0\\\\\\lambda\\mathbf{1}_p \\end{array}\\right]}}\\right)^{-1}X_1^T\\yy \\\\\n",
    "(\\sigma^{\\MLE})^2 &= \\frac{1}{N}\\sum_{i=1}^N\\left(\\yy - \\beta_0^{\\MLE} - X\\beta^{\\MLE}\\right)^2\n",
    "\\end{aligned}\n",
    "$$\n",
    "where\n",
    "$$ X_1 = \\left[\\mathbf{1}_p\\  X\\right], $$ $\\mathbf{1}_r$ denotes $r$ long column-vector of 1s, and $\\diag{\\vv}$ is a diagonal matrix whose diagonal is populated by entries of vector $\\vv$.\n",
    "\n",
    "The only difference between the closed form of linear regression and ridge regression is the addition of the term shown in red.\n"
   ]
  },
  {
   "cell_type": "markdown",
   "metadata": {
    "collapsed": true,
    "slideshow": {
     "slide_type": "slide"
    }
   },
   "source": [
    "# Feature preprocessing -- Centering\n",
    "\n",
    "**Center** features\n",
    "$$\n",
    "\\begin{aligned}\n",
    "\\mu_i &= \\frac{1}{N}\\sum_{k=1}^N x_{i,k}\\\\\n",
    "x_{i,j} &= x_{i,j} - \\mu_i\n",
    "\\end{aligned}\n",
    "$$\n",
    "This makes each feature's mean equal to 0. Compute the mean first, then subtract it!\n"
   ]
  },
  {
   "cell_type": "markdown",
   "metadata": {
    "collapsed": true,
    "slideshow": {
     "slide_type": "slide"
    }
   },
   "source": [
    "# Feature preprocessing -- Standardizing\n",
    "\n",
    "\n",
    "**Standardize** centered features\n",
    "$$\n",
    "\\begin{aligned}\n",
    "\\sigma_i &= \\sqrt{ \\frac{1}{N-1}\\sum_j x_{i,j}^2 }\\\\\n",
    "x_{i,j}& = \\frac{x_{i,j}}{\\sigma_i}\n",
    "\\end{aligned}\n",
    "$$\n",
    "This makes each feature's scale the same. Compute the standard deviation, then divide by it.\n",
    "\n",
    "Note that standardized features are first centered and then divided by their standard deviation.\n"
   ]
  },
  {
   "cell_type": "markdown",
   "metadata": {
    "collapsed": true,
    "slideshow": {
     "slide_type": "slide"
    }
   },
   "source": [
    "# Feature preprocessing -- Normalizing\n",
    "\n",
    "Alternatively, **normalize** centered features\n",
    "$$\n",
    "\\begin{aligned}\n",
    "r_i &= \\sqrt{\\sum_j x_{i,j}^2 }\\\\\n",
    "x_{i,j}& = \\frac{x_{i,j}}{r_i}\n",
    "\\end{aligned}\n",
    "$$\n",
    "This makes each feature's scale the same regardless of the data set size. \n",
    "\n",
    "Note that normalized features are first centered and then divided by their norm.\n"
   ]
  },
  {
   "cell_type": "markdown",
   "metadata": {
    "slideshow": {
     "slide_type": "slide"
    }
   },
   "source": [
    "# Feature preprocessing\n",
    "Benefits:\n",
    "1. Centering \n",
    "  1. $\\beta_0$ is equal to the mean of the target variable \n",
    "  2. feature weights $\\beta$ now tell us how much does feature's departure from mean affect the target variable\n",
    "2. Standardization\n",
    "  1. all the features are on the same scale and their effects comparable\n",
    "  2. interpretation is easier: $\\beta$s tell us how much departure by single standard deviation affects the target variable\n",
    "3. Normalization\n",
    "  1. scale of features is the same, regardles of the size of the dataset\n",
    "  2. hence weights learend on different sized datasets can be compared\n",
    "  3. however, their combination might be problematic -- certainly we don't trust weights learned on few samples\n",
    "\n",
    "\n"
   ]
  },
  {
   "cell_type": "markdown",
   "metadata": {
    "collapsed": true,
    "slideshow": {
     "slide_type": "slide"
    }
   },
   "source": [
    "# Classification\n",
    "\n",
    "We used linear regression to fit a predictive model of continuous variables:\n",
    "$$\n",
    "y\\given\\xx \\sim \\Gaussian{\\beta_0 + \\xx^T\\beta}{\\sigma^2}\n",
    "$$\n",
    "\n",
    "Gaussian distribution is not well suited for modelling discrete variables\n",
    "\n",
    "Q: Why?"
   ]
  },
  {
   "cell_type": "markdown",
   "metadata": {
    "slideshow": {
     "slide_type": "slide"
    }
   },
   "source": [
    "# Classification -- Bernoulli view\n",
    "\n",
    "We can model a target variable $y \\in \\{0,1\\}$  using Bernouli\n",
    "$$\n",
    "p(y=1\\given\\theta) = \\theta\n",
    "$$\n",
    "\n",
    "We note that $\\theta$ has to be in range $[0,1]$.\n",
    "\n",
    "We cannot directly take weighted combination of features to obtain $\\theta$.\n",
    "\n",
    "We need a way to map $\\xx^T\\beta \\in \\mathbb{R}$ to range $[0,1]$.\n",
    "\n"
   ]
  },
  {
   "cell_type": "markdown",
   "metadata": {
    "slideshow": {
     "slide_type": "slide"
    }
   },
   "source": [
    "# Sigmoid function\n",
    "\n",
    "$$\n",
    "\\sigma(z) = \\frac{1}{1 + \\exp(-z)}\n",
    "$$\n",
    "\n",
    "Q: Argue that this function maps real line  to range $[0,1]$?\n",
    "\n",
    "Q: When does it achieve $0.5$?\n",
    "\n",
    "Q: Where does it achieve $0$? Where does it achieve $1$?"
   ]
  },
  {
   "cell_type": "code",
   "execution_count": 1,
   "metadata": {
    "slideshow": {
     "slide_type": "slide"
    }
   },
   "outputs": [
    {
     "data": {
      "text/plain": [
       "<matplotlib.legend.Legend at 0x10685e080>"
      ]
     },
     "execution_count": 1,
     "metadata": {},
     "output_type": "execute_result"
    },
    {
     "data": {
      "image/png": "[encoded data removed]",
      "text/plain": [
       "<matplotlib.figure.Figure at 0x10685e0b8>"
      ]
     },
     "metadata": {},
     "output_type": "display_data"
    }
   ],
   "source": [
    "import numpy\n",
    "import matplotlib.pyplot as plt\n",
    "%matplotlib inline\n",
    "x = numpy.arange(-10,10,0.1)\n",
    "scales = [1.0,0.5,2.0,10.0]\n",
    "labels = []\n",
    "for s in scales:\n",
    "    plt.plot(x,1.0/(1.0 + numpy.exp(-s*x)))\n",
    "    labels.append('sigma(' + str(s) +'*x)')\n",
    "plt.xlabel('x')\n",
    "plt.title('Sigmoid')\n",
    "plt.legend(labels,loc=4)"
   ]
  },
  {
   "cell_type": "markdown",
   "metadata": {
    "slideshow": {
     "slide_type": "slide"
    }
   },
   "source": [
    "# Some useful equalities involving sigmoid\n",
    "Definition:\n",
    "$$\n",
    "\\sigma(z) = \\frac{1}{1  + \\exp(-z)}\n",
    "$$\n",
    "\n",
    "Recognize the alternative way to write it:\n",
    "$$\n",
    "\\sigma(z) = \\frac{\\exp z}{1 + \\exp z} \n",
    "$$\n",
    "Complement is just flip of the sign in the argument\n",
    "$$\n",
    "\\sigma(-z) = 1 - \\sigma(z) \n",
    "$$\n",
    "Log ratio of probability (log odds) \n",
    "$$\n",
    "\\log \\frac{\\sigma(z)}{\\sigma(-z)} = z\n",
    "$$\n",
    "\n",
    "\n"
   ]
  },
  {
   "cell_type": "markdown",
   "metadata": {
    "slideshow": {
     "slide_type": "slide"
    }
   },
   "source": [
    "# Using sigmoid to parameterize Bernoulli\n",
    "\n",
    "$$\n",
    "p(y=1|\\theta) = \\theta\n",
    "$$\n",
    "\n",
    "Sigmoid \"squashes\" the whole real line into range $[0,1]$.\n",
    "\n",
    "Hence we can map weighted features into a parameter $\\theta$\n",
    "$$\n",
    "\\theta = \\sigma(\\beta_0 + \\xx^T\\beta) \n",
    "$$\n",
    "and use that $\\theta$  in our Bernoulli\n",
    "$$\n",
    "p(y=1\\given\\theta=\\sigma(\\beta_0 + \\xx^T\\beta) ) = \\sigma(\\beta_0 + \\xx^T\\beta) \n",
    "$$\n",
    "\n"
   ]
  },
  {
   "cell_type": "markdown",
   "metadata": {
    "slideshow": {
     "slide_type": "slide"
    }
   },
   "source": [
    "# Logistic regression \n",
    "\n",
    "In logistic regression we model a binary variable $\\color{red}{y \\in \\{-1,+1\\}}$\n",
    "$$\n",
    "\\begin{aligned}\n",
    "p({\\color{blue}{y=+1}}\\given\\xx,\\beta_0,\\beta) &= \\sigmoid{{\\color{blue}{+}}(\\beta_0 + \\xx^T\\beta)}\\\\\n",
    "p({\\color{red}{y=-1}}\\given\\xx,\\beta_0,\\beta) &= 1 - \\sigmoid{-(\\beta_0 + \\xx^T\\beta)} = \\sigmoid{{\\color{red}{-}}(\\beta_0 + \\xx^T\\beta)} \n",
    "\\end{aligned}\n",
    "$$\n",
    "This is equivalent to\n",
    "$$\n",
    "p(y\\given\\xx,\\beta_0,\\beta) = \n",
    "\\sigmoid{{\\color{green}{y}}(\\beta_0 + \\xx^T\\beta)} = \n",
    "\\frac{1}{1 + \\myexp{-y(\\beta_0 + \\xx^T\\beta)}}\n",
    "$$\n",
    "\n",
    "\n",
    "Q: Does above formula work for $y \\in \\{0,1\\}$?\n",
    "\n"
   ]
  },
  {
   "cell_type": "markdown",
   "metadata": {
    "slideshow": {
     "slide_type": "slide"
    }
   },
   "source": [
    "# Logistic regression -- log-likelihood\n",
    "\n",
    "Probability of a single sample is:\n",
    "$$\n",
    "p(y\\given\\xx,\\beta_0,\\beta) = \\frac{1}{1 + \\myexp{-y(\\beta_0 + \\xx^T\\beta)}}\n",
    "$$\n",
    "\n",
    "Likelihood function is:\n",
    "$$\n",
    "\\likelihood(\\beta_0,\\beta\\given\\yy,\\xx) = \\prod_i \\frac{1}{1 + \\myexp{-y_i(\\beta_0 + \\xx_i^T\\beta)}}\n",
    "$$\n",
    "\n",
    "Log-likelihood function is:\n",
    "$$\n",
    "\\loglik(\\beta_0,\\beta\\given\\yy,\\xx) = -\\sum_i \\log\\left\\{1 + \\myexp{-y_i(\\beta_0 + \\xx_i^T\\beta)} \\right\\}\n",
    "$$"
   ]
  },
  {
   "cell_type": "markdown",
   "metadata": {
    "slideshow": {
     "slide_type": "slide"
    }
   },
   "source": [
    "# Interpreting weights in logistic regression\n",
    "\n",
    "Q: When is $\\frac{1}{1 + \\myexp{-(\\beta_0 + \\xx^T\\beta)}} = 0.5?$\n",
    "\n",
    "Q: What does this set of $\\xx$ look like?"
   ]
  },
  {
   "cell_type": "markdown",
   "metadata": {
    "slideshow": {
     "slide_type": "slide"
    }
   },
   "source": [
    "# Separating hyperplanes\n",
    "\n",
    "![Separating Hyperplane](separating.png)"
   ]
  },
  {
   "cell_type": "markdown",
   "metadata": {
    "slideshow": {
     "slide_type": "slide"
    }
   },
   "source": [
    "# Convergence of optimization of logistic regression\n",
    "\n",
    "If there exists a hyperplane that splits the data perfectly, then log-likelihood can be indefinitely impoved driving weights to infinity.\n"
   ]
  },
  {
   "cell_type": "code",
   "execution_count": 2,
   "metadata": {
    "slideshow": {
     "slide_type": "fragment"
    }
   },
   "outputs": [
    {
     "data": {
      "image/png": "[encoded data removed]",
      "text/plain": [
       "<matplotlib.figure.Figure at 0x10d9b54a8>"
      ]
     },
     "metadata": {},
     "output_type": "display_data"
    }
   ],
   "source": [
    "import numpy\n",
    "import matplotlib.pyplot as plt\n",
    "\n",
    "def plot_data(xs,ys):\n",
    "    pos = [i for i in range(len(ys)) if ys[i]>0]\n",
    "    neg = [i for i in range(len(ys)) if ys[i]<0]\n",
    "    plt.plot(xs[pos],ys[pos],'b.',\n",
    "             markersize=20.,\n",
    "             label='positive examples')\n",
    "    plt.plot(xs[neg],ys[neg],'r.',\n",
    "             markersize=20.,\n",
    "             label='negative examples')\n",
    "\n",
    "def plot_sigmoid(s,color):\n",
    "    x = numpy.arange(-10.0,10.0,0.1)\n",
    "    plt.plot(x,1.0/(1.0 + numpy.exp(-s*x)),color,\n",
    "             linewidth = 4.,\n",
    "             label='p(y=1|x,beta='+str(s)+')')\n",
    "ys = numpy.asarray([-1.0,-1.0,-1.0,1.0,1.0,1.0])\n",
    "xs = numpy.asarray([-3.0,-2.0,-1.0,1.0,2.0,3.0])\n",
    "plt.subplot(2,1,1)\n",
    "plot_data(xs,ys)\n",
    "plt.ylim([-1.5,1.5])\n",
    "plt.xlim([-4.0,4.0])\n",
    "plt.xlabel('Feature x')\n",
    "plt.ylabel('Label y')\n",
    "plt.legend(loc=4)\n",
    "\n",
    "plt.subplot(2,1,2)\n",
    "plot_sigmoid(0.5,'g')\n",
    "plot_sigmoid(2.0,'m')\n",
    "plot_sigmoid(20.0,'k')\n",
    "plt.legend(loc=4)\n",
    "plt.xlabel('Feature x')\n",
    "plt.ylabel('p(y|x,beta)')\n",
    "plt.tight_layout()\n"
   ]
  },
  {
   "cell_type": "markdown",
   "metadata": {
    "slideshow": {
     "slide_type": "slide"
    }
   },
   "source": [
    "# Ridge penalty and logistic regression\n",
    "\n",
    "Adding ridge penalty to the logistic regression achieves\n",
    "1. Shrinkage of weights -- weights no longer explode in separable case\n",
    "2. Even splitting between correlated weights\n",
    "\n"
   ]
  },
  {
   "cell_type": "markdown",
   "metadata": {
    "slideshow": {
     "slide_type": "slide"
    }
   },
   "source": [
    "# Bayesian view of penalties\n",
    "\n",
    "We have seen two examples of supervised models\n",
    "1. Linear regression, $p(y|\\xx,\\beta)$ where $y \\in \\mathbb{R}$\n",
    "2. Logistic regression, $p(y|\\xx,\\beta)$ where $y \\in \\{-1,+1\\}$\n",
    "\n",
    "We then ut log-likelihoods\n",
    "$$\n",
    "\\loglik(\\beta|\\yy,X) = \\sum_i \\log p(y_i|\\xx_i,\\beta)\n",
    "$$\n",
    "and observed that we can add penalties to log-likelihoods\n",
    "$$\n",
    "\\loglik(\\beta|\\yy,X) + \\lambda f(\\beta)\n",
    "$$\n",
    "in order to deal with ill-posedness of the problems.\n"
   ]
  },
  {
   "cell_type": "markdown",
   "metadata": {
    "slideshow": {
     "slide_type": "slide"
    }
   },
   "source": [
    "# Bayesian view of penalties\n",
    "\n",
    "Given a likelihood\n",
    "$$\n",
    "p(\\Data\\given\\theta)\n",
    "$$\n",
    "Bayesian view of models treats each parameter $\\theta$  as just another random variable.\n",
    "\n",
    "\n",
    "This random variable has a distribution called **prior** distribution\n",
    "$$\n",
    "p(\\theta)\n",
    "$$\n",
    "\n",
    "Using Bayes rule we can also compute\n",
    "$$\n",
    "\\overbrace{p(\\theta\\given\\Data)}^{\\textrm{posterior}} = \\frac{\n",
    "\\overbrace{p(\\Data\\given \\theta)}^{\\textrm{likelihood}}\n",
    "\\overbrace{p(\\theta)}^{\\textrm{prior}}} {p(\\Data)}\n",
    "$$\n",
    "called **posterior** distribution.\n",
    "\n",
    "**Prior** encodes our beliefs **before** seing the data. \n",
    "\n",
    "**Posterior** reflects our updated beliefs **after** seeing the data.\n",
    "\n",
    "\n"
   ]
  },
  {
   "cell_type": "markdown",
   "metadata": {
    "slideshow": {
     "slide_type": "slide"
    }
   },
   "source": [
    "# Bayesian view of penalties -- Gaussian prior and linear regression\n",
    "\n",
    "For example we can assume a Gaussian **prior** on $\\beta_i$ \n",
    "$$\n",
    "\\begin{aligned}\n",
    "\\beta_i &\\sim \\Gaussian{0}{\\frac{1}{\\lambda}},& i>0\\\\\n",
    "y &\\sim \\Gaussian{\\beta_0  + \\xx^T\\beta}{\\sigma^2}\n",
    "\\end{aligned}\n",
    "$$\n",
    "\n",
    "Then posterior probability of the parameter $\\beta_i$:\n",
    "$$\n",
    "p(\\beta \\given \\yy,\\xx) = \\frac{ p(\\yy\\given\\xx,\\beta)p(\\beta) }{p(\\yy\\given\\xx)}\n",
    "$$\n",
    "\n"
   ]
  },
  {
   "cell_type": "markdown",
   "metadata": {
    "slideshow": {
     "slide_type": "slide"
    }
   },
   "source": [
    "# Bayesian view of penalties \n",
    "We can now try to find Maximum-A-Posteriori (MAP) estimate of $\\theta$ \n",
    "$$\n",
    "\\arg\\max_\\beta p(\\beta \\given \\yy,\\xx) = \\arg\\max_\\beta \\log p(\\yy\\given\\xx,\\beta) + \\log p(\\beta) \n",
    "$$\n",
    "and this is equivalent to\n",
    "$$\n",
    "\\arg\\max_\\beta p(\\beta \\given \\yy,\\xx) = \\arg\\max_\\beta - \\sum_{i=1}^N \\frac{1}{2\\sigma^2}(y_i - \\beta_0 - \\xx_i^T\\beta) - \\sum_{j=1}^p \\frac{\\lambda}{2}\\beta_j^2 +  \\textrm{const}\n",
    "$$\n",
    "\n",
    "\n",
    "Solving ridge regression is equivalent to finding Maximum-A-Posteriori estimate in Bayesian linear regression with Gaussian prior on weights."
   ]
  },
  {
   "cell_type": "markdown",
   "metadata": {
    "slideshow": {
     "slide_type": "slide"
    }
   },
   "source": [
    "# Bayesian view of penalties\n",
    "\n",
    "Penalties are log-probabilities of the parameters.\n",
    "\n",
    "Maximiziation of penalized log-likelihood is equivalent to maximizing posterior probability of the parameters.\n",
    "\n",
    "Further, uncertainty about parameters can be quantified once we have a distribution\n",
    "$$\n",
    "p(\\theta\\given\\Data)\n",
    "$$\n",
    "instead of just maximum likelihood estimate.\n"
   ]
  },
  {
   "cell_type": "markdown",
   "metadata": {
    "slideshow": {
     "slide_type": "slide"
    }
   },
   "source": [
    "# HW1 overview -- submission\n",
    "\n",
    "Submit your .ipynb file to **jsilva@cs.unc.edu**\n",
    "Give us your name, PID. Working in pairs is fine. List the name of your co-worker.\n",
    "\n",
    "```\n",
    "To: jsilva@cs.unc.edu\n",
    "From: Super Student\n",
    "Subject: HW1 submission\n",
    "\n",
    "First Name: Super\n",
    "Last Name: Student\n",
    "PID: 11111111\n",
    "\n",
    "Colaborated with: \n",
    "First Name: Another\n",
    "Last Name: Student\n",
    "```"
   ]
  },
  {
   "cell_type": "markdown",
   "metadata": {
    "slideshow": {
     "slide_type": "slide"
    }
   },
   "source": [
    "# HW1 overview -- submission\n",
    "\n",
    "The HW1 will be up at midgnight tonight.  \n",
    "\n",
    "You will have until 11:59PM 9/16 to submit.\n",
    "\n",
    "TAs office hours will be on Wednesday \n",
    "\n",
    "\n",
    "You can submit as many times as you want.\n",
    "\n",
    "The last one will be graded. \n",
    "\n",
    "We will look at the submitted files periodically and send comments when appropriate.\n",
    "\n",
    "If you are stuck, send an e-mail to both jsilva@cs and poirson@cs \n",
    "\n",
    "We will **not** debug your code. We might suggest things to think about. \n",
    "**Hints might help or hinder.**"
   ]
  },
  {
   "cell_type": "markdown",
   "metadata": {
    "slideshow": {
     "slide_type": "slide"
    }
   },
   "source": [
    "# HW1 a brief look\n"
   ]
  },
  {
   "cell_type": "markdown",
   "metadata": {},
   "source": [
    "# Today\n",
    "\n",
    "1. Review regularized/penalized linear regression\n",
    "2. Introduce sigmoid and logistic regression\n",
    "3. Geometric interpretation of logistic regression\n",
    "4. Bayesian view of regularized methods\n",
    "\n"
   ]
  },
  {
   "cell_type": "code",
   "execution_count": null,
   "metadata": {
    "collapsed": true
   },
   "outputs": [],
   "source": []
  }
 ],
 "metadata": {
  "anaconda-cloud": {},
  "celltoolbar": "Slideshow",
  "kernelspec": {
   "display_name": "Python 3",
   "language": "python",
   "name": "python3"
  },
  "language_info": {
   "codemirror_mode": {
    "name": "ipython",
    "version": 3
   },
   "file_extension": ".py",
   "mimetype": "text/x-python",
   "name": "python",
   "nbconvert_exporter": "python",
   "pygments_lexer": "ipython3",
   "version": "3.6.5"
  }
 },
 "nbformat": 4,
 "nbformat_minor": 1
}
