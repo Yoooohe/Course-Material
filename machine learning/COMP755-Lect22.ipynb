{
 "cells": [
  {
   "cell_type": "markdown",
   "metadata": {
    "nbpresent": {
     "id": "aab7fd3c-11a1-4073-a957-c10735d7afae"
    },
    "slideshow": {
     "slide_type": "slide"
    }
   },
   "source": [
    "# COMP 755\n",
    "\n",
    "Today:\n",
    "\n",
    "Fitting neural network's parameters using back-propagation\n",
    "\n",
    "\n",
    "$$\n",
    "\\renewcommand{\\vvec}[2]{\\left[ \\begin{array}{c} \\mathbf{#1}\\\\ \\mathbf{#2} \\end{array}\\right]}\n",
    "\\renewcommand{\\mmat}[4]{\\left[ \\begin{array}{cc} \\mathbf{#1}&\\mathbf{#2}\\\\ \\mathbf{#3}&\\mathbf{#4} \\end{array}\\right]}\n",
    "\\renewcommand{\\aaa}{\\mathbf{a}}\n",
    "\\renewcommand{\\AAA}{\\mathbf{A}}\n",
    "\\renewcommand{\\xyvec}{\\left[ \\begin{array}{c} \\xx\\\\\\yy \\end{array} \\right]}\n",
    "\\renewcommand{\\xyvecc}{\\left[ \\begin{array}{c} x^1\\\\y^1 \\end{array} \\right]}\n",
    "\\renewcommand{\\mm}{\\mathbf{m}}\n",
    "\\renewcommand{\\xx}{\\mathbf{x}}\n",
    "\\renewcommand{\\ff}{\\mathbf{f}}\n",
    "\\renewcommand{\\yy}{\\mathbf{y}}\n",
    "\\renewcommand{\\zz}{\\mathbf{z}}\n",
    "\\renewcommand{\\vv}{\\mathbf{v}}\n",
    "\\renewcommand{\\ee}{\\mathbf{e}}\n",
    "\\renewcommand{\\ww}{\\mathbf{w}}\n",
    "\\renewcommand{\\XX}{\\mathbf{X}}\n",
    "\\renewcommand{\\YY}{\\mathbf{Y}}\n",
    "\\renewcommand{\\WW}{\\mathbf{W}}\n",
    "\\renewcommand{\\VV}{\\mathbf{V}}\n",
    "\\renewcommand{\\DD}{\\mathbf{D}}\n",
    "\\renewcommand{\\dd}{\\mathbf{d}}\n",
    "\\renewcommand{\\ZZ}{\\mathbf{Z}}\n",
    "\\renewcommand{\\CC}{\\mathbf{C}}\n",
    "\\renewcommand{\\bbeta}{\\boldsymbol{\\mathbf{\\beta}}}\n",
    "\\renewcommand{\\ddelta}{\\boldsymbol{\\mathbf{\\delta}}}\n",
    "\\renewcommand{\\mmu}{\\boldsymbol{\\mathbf{\\mu}}}\n",
    "\\renewcommand{\\ssigma}{\\boldsymbol{\\mathbf{\\sigma}}}\n",
    "\\renewcommand{\\reals}{\\mathbb{R}}\n",
    "\\renewcommand{\\loglik}{\\mathcal{LL}}\n",
    "\\renewcommand{\\penloglik}{\\mathcal{PLL}}\n",
    "\\renewcommand{\\likelihood}{\\mathcal{L}}\n",
    "\\renewcommand{\\Data}{\\textrm{Data}}\n",
    "\\renewcommand{\\given}{ \\big| }\n",
    "\\renewcommand{\\MLE}{\\textrm{MLE}}\n",
    "\\renewcommand{\\EE}{\\mathbb{E}}\n",
    "\\renewcommand{\\EEE}{\\mathbf{E}}\n",
    "\\renewcommand{\\KL}{\\textrm{KL}}\n",
    "\\renewcommand{\\Bound}{\\mathcal{B}}\n",
    "\\renewcommand{\\tth}{\\textrm{th}}\n",
    "\\renewcommand{\\Gaussian}[2]{\\mathcal{N}\\left(#1,#2\\right)}\n",
    "\\renewcommand{\\norm}[1]{\\left\\lVert#1\\right\\rVert}\n",
    "\\renewcommand{\\ones}{\\mathbf{1}}\n",
    "\\renewcommand{\\corr}[2]{\\textrm{corr}(#1,#2)}\n",
    "\\renewcommand{\\diag}[1]{\\textrm{diag}\\left( #1 \\right)}\n",
    "\\renewcommand{\\sigmoid}[1]{\\sigma\\left(#1\\right)}\n",
    "\\renewcommand{\\myexp}[1]{\\exp\\left\\{#1\\right\\}}\n",
    "\\renewcommand{\\mylog}[1]{\\log\\left\\{#1\\right\\}}\n",
    "\\renewcommand{\\argmax}{\\mathop{\\textrm{argmax}}}\n",
    "\\renewcommand{\\new}{\\textrm{new}}\n",
    "\\renewcommand{\\old}{\\textrm{old}}\n",
    "\\renewcommand{\\bb}{\\mathbf{b}}\n",
    "\\renewcommand{\\ba}{\\mathbf{a}}\n",
    "\\renewcommand{\\bg}{\\mathbf{g}}\n",
    "\\renewcommand{\\BB}{\\mathbf{B}}\n",
    "\\renewcommand{\\BA}{\\mathbf{A}}\n",
    "\\renewcommand{\\BC}{\\mathbf{C}}\n",
    "\\renewcommand{\\UU}{\\mathbf{U}}\n",
    "\\renewcommand{\\uu}{\\mathbf{u}}\n",
    "\\renewcommand{\\hh}{\\mathbf{h}}\n",
    "\\renewcommand{\\SSS}{\\mathbf{S}}\n",
    "\\renewcommand{\\sss}{\\mathbf{s}}\n",
    "\\renewcommand{\\rr}{\\mathbf{r}}\n",
    "\\renewcommand{\\tr}[1]{\\textrm{tr}\\left\\{#1\\right\\}}\n",
    "\\renewcommand{\\argmin}{\\mathop{\\textrm{argmin}}}\n",
    "\\renewcommand{\\abs}[1]{\\left\\lvert#1\\right\\rvert}\n",
    "\\renewcommand{\\sign}{\\textrm{sign}}\n",
    "\\renewcommand{\\minimize}{\\mathop{\\textrm{minimize}}}\n",
    "\\renewcommand{\\subjectto}{\\mathop{\\textrm{subject to}}}\n",
    "\\renewcommand{\\evalat}[1]{\\Big|_{#1}} \n",
    "$$\n",
    "\n"
   ]
  },
  {
   "cell_type": "markdown",
   "metadata": {
    "slideshow": {
     "slide_type": "slide"
    }
   },
   "source": [
    "# (Deep) Neural networks compute through forward propagation\n",
    "Deep networks are built up out of layers.\n",
    "\n",
    "![](net.png)\n",
    "\n"
   ]
  },
  {
   "cell_type": "markdown",
   "metadata": {
    "slideshow": {
     "slide_type": "slide"
    }
   },
   "source": [
    "# (Deep) Neural networks compute through forward propagation\n",
    "\n",
    "Let $f$ be an activation function and \n",
    "$$\n",
    "\\ff(\\zz)_i = f(z_i).\n",
    "$$\n",
    "\n",
    "We will denote number of variables in layer $l$ as $n_l$.\n",
    "\n",
    "Size of the zeroth layer, $n_0$, is number of features in a sample.\n",
    "\n",
    "\n",
    "With each layer, $l>0$, we assoiate a matrix of size $\\WW^l: n_l \\times n_{l-1}$ and a bias vector $\\bb^l : n_l$\n",
    "\n",
    "Recursive specification for forward propagation is given by\n",
    "$$\n",
    "\\hh^l = \\ff(\\WW^1\\hh^{l-1} + \\bb^l).\n",
    "$$\n"
   ]
  },
  {
   "cell_type": "markdown",
   "metadata": {
    "slideshow": {
     "slide_type": "slide"
    }
   },
   "source": [
    "\n",
    "# Forward propagation restated\n",
    "\n",
    "\n",
    "\n",
    "\n",
    "We restate forward propagation to make it easier to compute derivatives\n",
    "\n",
    "\\begin{align}\n",
    "\\hh^0 &= \\xx \\\\\n",
    "\\zz^l &= \\WW^l\\hh^{l-1} + \\bb^l \\\\\n",
    "\\hh^l &= \\ff(\\zz^l).\n",
    "\\end{align}\n",
    "![](forward-prop-detailed.png)\n"
   ]
  },
  {
   "cell_type": "markdown",
   "metadata": {
    "slideshow": {
     "slide_type": "slide"
    }
   },
   "source": [
    "# Common loss functions for Deep neural nets\n",
    "\n",
    "Output of the network is $\\hat{y}(\\xx) = \\hh^L$, where $L$ is the depth of the network.\n",
    "\n",
    "In order to asses how the network is performing we need an objective.\n",
    "$$\n",
    "E = \\sum_t \\textrm{loss}(\\hat{y}(\\xx^t),y^t)\n",
    "$$\n",
    "\n",
    "Loss for continuous $y$: \n",
    "$$\n",
    "\\textrm{loss}(\\hat{y},y) = \\frac{1}{2}(y-\\hat{y})^2\n",
    "$$\n",
    "\n",
    "Loss for a binary $y$: \n",
    "$$\n",
    "\\textrm{loss}(\\hat{y},y) = -y\\log(\\hat{y}) - (1 - y)\\log(1 - \\hat{y})\n",
    "$$\n",
    "\n",
    "**Q: We can work through a sanity check here. Is the loss larger when $y \\neq \\hat{y}$ than when $y = \\hat{y}$?** \n",
    "\n",
    "[Hint: You can assume that $0\\log0 = 0$]"
   ]
  },
  {
   "cell_type": "markdown",
   "metadata": {
    "slideshow": {
     "slide_type": "slide"
    }
   },
   "source": [
    "# Looking at the objective and forward propagation\n",
    "\n",
    "We have \n",
    "\n",
    "\\begin{align}\n",
    "\\hh^0 &= \\xx \\\\\n",
    "\\zz^l &= \\WW^l\\hh^{l-1} + \\bb^l && \\textrm{input into the $l$th layer activation } \\\\\n",
    "\\hh^l &= \\ff(\\zz^l) && \\textrm{output of the $l$th layer activation} \\\\\n",
    "\\hat{y}(\\xx) &= h^L && \\textrm{output is the last layer's state} \\\\\n",
    "\\end{align}\n",
    "\n",
    "The objective is given by\n",
    "$$\n",
    "E = \\sum_t \\textrm{loss}(\\hat{y}(\\xx),y^t).\n",
    "$$\n",
    "\n",
    "We are interested in minimizing the loss, so we need partial derviatives $$\\frac{\\partial E}{\\partial w^l_{ij}} \\textrm{ and } \\frac{\\partial E}{\\partial b^l_{i}}$$ for all layers $l=1,...L$.\n"
   ]
  },
  {
   "cell_type": "markdown",
   "metadata": {
    "slideshow": {
     "slide_type": "slide"
    }
   },
   "source": [
    "# Frame of mind for back-prop(agation)\n",
    "\n",
    "Forward prop is a recursive procedure which propagates information upward to make a prediction.\n",
    "\n",
    "That error of that prediction $E$ can be reduced if we change parameter $w^l_{ij}$ according to the gradient \n",
    "$$\n",
    "\\frac{\\partial E}{\\partial w^{l}_{ij}}\n",
    "$$\n",
    "Chain rule tels us that\n",
    "$$\n",
    "\\frac{\\partial E}{\\partial w^{l}_{ij}} = \\frac{\\partial E}{\\partial h^l_i}\\frac{\\partial h^l_i}{\\partial w^{l}_{ij}} \n",
    "$$\n",
    "\n",
    "![](dependencies.png)\n",
    "\n"
   ]
  },
  {
   "cell_type": "markdown",
   "metadata": {
    "slideshow": {
     "slide_type": "slide"
    }
   },
   "source": [
    "# Frame of mind for back-prop\n",
    "\n",
    "\n",
    "We compute how much of the error in the prediction is attributable to each parameter.\n",
    "\n",
    "To do this we will break down computation into two parts:\n",
    "1. computing how a hidden variable affects the objective -- across all orange paths\n",
    "$$\n",
    "\\frac{\\partial E}{\\partial h^l_i}\n",
    "$$\n",
    "2. computing how parameter associated with the hidden variable affects the variable -- blue edge\n",
    "$$\n",
    "\\frac{\\partial h^l_i}{\\partial w^{l}_{ij}}\n",
    "$$\n",
    "\n",
    "![](dependencies.png)\n"
   ]
  },
  {
   "cell_type": "markdown",
   "metadata": {
    "slideshow": {
     "slide_type": "slide"
    }
   },
   "source": [
    "# Total derivative reminder \n",
    "\n",
    "\n",
    "Total derivative\n",
    "$$\n",
    "\\frac{\\partial\n",
    "f(\\zz(t)) }{\\partial t}= \\sum_i \\frac{\\partial f}{\\partial z_i}\\frac{\\partial z_i}{\\partial t} \n",
    "$$\n",
    "\n",
    "\n",
    "Let's say \n",
    "$$\n",
    "f(x,y,z) = x^2 + y^3 + z^4\n",
    "$$\n",
    "and let's say\n",
    "$$\n",
    "g(t) = f(t,t,1)\n",
    "$$\n",
    "then \n",
    "$$\n",
    "\\frac{\\partial g(t)}{\\partial t} = 2t + 3t^2\n",
    "$$"
   ]
  },
  {
   "cell_type": "markdown",
   "metadata": {
    "slideshow": {
     "slide_type": "slide"
    }
   },
   "source": [
    "# Evaluate-at notation\n",
    "Also, to be very explicit\n",
    "$$\n",
    "\\frac{\\partial f(\\zz)}{\\partial z_i}\\evalat{\\zz = \\zz_0}\n",
    "$$\n",
    "this is a partial derivative with respect to $z_i$ evaluated at $\\zz_0$.\n",
    "\n",
    "\n",
    "For example,\n",
    "$$\n",
    "\\frac{\\partial z_1^2 + z_2}{\\partial z_1}\\evalat{\\zz = [1.0,-1.0]} = 2z_1\\evalat{\\zz = [1.0,-1.0]} = 2\n",
    "$$\n",
    "\n",
    "Once we get used to this, I will drop the \"evaluate-at\" notation.\n",
    "\n",
    "As a rule of thumb, everything on the left of the vertical bar are variables and functions, **not** values.\n",
    "\n",
    "Values occur only on the right side of the bar."
   ]
  },
  {
   "cell_type": "markdown",
   "metadata": {
    "slideshow": {
     "slide_type": "slide"
    }
   },
   "source": [
    "# Using chain rule to compute derivatives -- back propagation\n",
    "\n",
    "For completness, we are briefly going to be very explicit about the states of the neural network for different samples.\n",
    "\n",
    "Forward propagation on each of the samples gives us \n",
    "\n",
    "\\begin{align}\n",
    "\\hh^{0,t} &= \\xx^t  && \\textrm{sample t, feature vector}\\\\\n",
    "\\zz^{l,t} &= \\WW^l\\hh^{l-1,t} + \\bb^{l} && \\textrm{sample t, input $l$th layer activation}\\\\\n",
    "\\hh^{l,t} &= \\ff(\\zz^{l,t}) && \\textrm{sample t, output $l$th layer activation}\\\\\n",
    "\\hat{y}(\\xx^t) &= h^{L,t} && \\textrm{sample t, network prediction} \\\\\n",
    "\\end{align}"
   ]
  },
  {
   "cell_type": "markdown",
   "metadata": {
    "slideshow": {
     "slide_type": "slide"
    }
   },
   "source": [
    "# Using chain rule to compute derivatives -- back propagation\n",
    "\n",
    "The objective is given by\n",
    "$$\n",
    "E = \\sum_t \\textrm{loss}(\\hat{y}(\\xx^t),y^t).\n",
    "$$\n",
    "\n",
    "Partial derivative\n",
    "\n",
    "\\begin{align}\n",
    "\\frac{\\partial E}{\\partial w^l_{ij} } &= \n",
    " \\sum_t\\frac{\\partial  \\textrm{loss}(\\hat{y},y^t)}{\\partial \\hat{y}}\\evalat{\\hat{y} = \\hat{y}(\\xx^t)}\\frac{ \\hat{y}}{\\partial h^L }\\evalat{h^L = h^{L,t}}\\frac{ \\partial h^L }{\\partial w^l_{ij}}\n",
    " \\end{align}\n",
    "\n",
    "Pausing here for a moment: $h^L$ is a variable, $h^{L,t}$ is a value computed through forward propagation starting with input $\\xx^t$."
   ]
  },
  {
   "cell_type": "markdown",
   "metadata": {
    "slideshow": {
     "slide_type": "slide"
    }
   },
   "source": [
    "# Simplifying math\n",
    "\n",
    "Carrying the sample index, $t$, and stating where the partial derivatives are evaluated is cumbersome.\n",
    "\n",
    "From this point on, we will compute partial derivative for a single sample and some parameter $\\theta$.\n",
    "\n",
    "Further, all derivatives will be evaluated at values obtained through forward propagation ($\\hh^l,\\zz^l$).\n",
    "\n",
    "Hence, this term\n",
    "\\begin{align}\n",
    "\\frac{\\partial \\textrm{loss}(\\hat{y}(\\xx^t),y^t)}{\\partial \\theta} &= \\frac{\\partial  \\textrm{loss}(\\hat{y},y^t)}{\\partial \\hat{y}}\\evalat{\\hat{y} = \\hat{y}(\\xx^t)}\\frac{ \\hat{y}}{\\partial h^L }\\evalat{h^L = h^{L,t}}\\frac{ \\partial h^L }{\\partial \\theta}\\end{align}\n",
    "after dropping sample index and removing evalate-at notation, simplifies to\n",
    "\\begin{align}\n",
    "\\frac{\\partial \\textrm{loss}(\\hat{y},y)}{\\partial \\theta} &= \n",
    "\\frac{\\partial  \\textrm{loss}(\\hat{y},y)}{\\partial \\hat{y}}\\frac{ \\hat{y}}{\\partial h^L }\\frac{ \\partial h^L }{\\partial \\theta}\\end{align}\n",
    "\n",
    "\n"
   ]
  },
  {
   "cell_type": "markdown",
   "metadata": {
    "slideshow": {
     "slide_type": "slide"
    }
   },
   "source": [
    "# Using chain rule to compute derivatives -- back propagation\n",
    "\n",
    "\n",
    "\n",
    "We are going to use the facts that $\\hh^m$ depends on $\\zz^{m}$ and $\\zz^m$ depends on $\\hh^{m-1}$ to keep expanding the derivative to highlight a pattern\n",
    "\n",
    "\n",
    "\\begin{align}\n",
    "\\frac{\\partial  \\textrm{loss}(\\hat{y},y)}{ \\partial \\theta} &= \\frac{\\partial  \\textrm{loss}(\\hat{y},y)}{\\partial \\hat{y}}\\sum_{i=1}^{n_L}\\frac{ \\hat{y}}{\\partial h_i^L } \\frac{ \\partial h_i^L}{\\partial z_i^L}\\frac{ \\partial z_i^L}{\\partial \\theta}\\\\\n",
    "&= \\frac{\\partial  \\textrm{loss}(\\hat{y},y)}{\\partial \\hat{y}}\\sum_{i=1}^{n_L}\\frac{ \\hat{y}}{\\partial h_i^L } \\frac{ \\partial h^L}{\\partial z_i^L}\\sum_{j=1}^{n_{L-1}} \\frac{ \\partial z_i^L}{\\partial h_j^{L-1}}\\frac{ \\partial h_j^{L-1}}{\\partial \\theta}\\\\\n",
    "&=\\sum_{j=1}^{n_{L-1}}\\underbrace{\\sum_{i=1}^{n_L} \\overbrace{\\frac{\\partial  \\textrm{loss}(\\hat{y},y)}{\\partial \\hat{y}}\\frac{ \\hat{y}}{\\partial h_i^L }}^{\\partial  \\textrm{loss}(\\hat{y},y)/\\partial h_i^{L}} \\frac{ \\partial h_i^L}{\\partial z_i^L} \\frac{ \\partial z_i^L}{\\partial h_j^{L-1}}}_{\\partial  \\textrm{loss}(\\hat{y},y)/\\partial h_j^{L-1}} \\frac{ \\partial h_j^{L-1}}{\\partial  \\theta}\\\\\n",
    "\\end{align}\n",
    "\n",
    "Hence, we can see a recursion needed to compute $\\frac{\\partial  \\textrm{loss}(\\hat{y},y)}{\\partial h_j^{L-1}}$ using $\\frac{\\partial  \\textrm{loss}(\\hat{y},y)}{\\partial h_i^{L}}$\n"
   ]
  },
  {
   "cell_type": "markdown",
   "metadata": {
    "slideshow": {
     "slide_type": "slide"
    }
   },
   "source": [
    "# Using chain rule to compute derivatives -- back propagation\n",
    "\n",
    "\n",
    "Start of recursion at $L$:\n",
    "\n",
    "\\begin{align}\n",
    "\\frac{\\partial  \\textrm{loss}(\\hat{y},y)}{\\partial h_i^{L}} &= \\frac{\\partial  \\textrm{loss}(\\hat{y},y)}{\\partial \\hat{y}}\\frac{ \\hat{y}}{\\partial h_i^L }\n",
    "\\end{align}\n",
    "\n",
    "Recursive rule, going **back** from layer $l$ to $l-1$:\n",
    "\n",
    "\\begin{align}\n",
    "\\frac{\\partial  \\textrm{loss}(\\hat{y},y)}{\\partial h_j^{l-1}} &= \\sum_{i=1}^{n_{l}}\\frac{\\partial  \\textrm{loss}(\\hat{y},y)}{\\partial h_i^{l}} \\frac{\\partial h^l_i}{\\partial z^l_i}\\frac{\\partial z^l_i}{\\partial h_j^{l-1}}\\\\\n",
    "&= \\sum_{i=1}^{n_{l}}\\frac{\\partial  \\textrm{loss}(\\hat{y},y)}{\\partial h_i^{l}} f'(z^l_i)w^l_{ij}\n",
    "\\end{align}\n"
   ]
  },
  {
   "cell_type": "markdown",
   "metadata": {
    "slideshow": {
     "slide_type": "slide"
    }
   },
   "source": [
    "# Recap\n",
    "\n",
    "Given a neural network we know how to use **forward propagation** to obtain $\\hh$ and $\\zz$.\n",
    "\n",
    "\n",
    "Using these $\\hh$ and $\\zz$ we can use a **back propagation** to compute $\\frac{\\partial  \\textrm{loss}(\\hat{y},y)}{\\partial h_i^{l}}$\n",
    "\n",
    "We can plug-in computed $\\frac{\\partial  \\textrm{loss}(\\hat{y},y)}{\\partial h_i^{l}}$ to obtain derivatives of the loss with respect to parameters \n",
    "\n",
    "\\begin{align}\n",
    "\\frac{\\partial E}{\\theta } &= \n",
    "\\frac{\\partial  \\textrm{loss}(\\hat{y},y)}{\\partial h_i^{l}}\\frac{ \\partial h_i^L }{\\partial \\theta}\n",
    "\\end{align}\n",
    "\n",
    "where $\\theta$ is either $w^l_{ij}$ or $b^l_i$"
   ]
  },
  {
   "cell_type": "markdown",
   "metadata": {
    "slideshow": {
     "slide_type": "slide"
    }
   },
   "source": [
    "# Computing derivatives within a layer\n",
    "<br>\n",
    "\n",
    "\\begin{align}\n",
    "\\frac{\\partial E}{\\theta } &= \n",
    "\\underbrace{\\frac{\\partial  \\textrm{loss}(\\hat{y},y)}{\\partial h_i^{l}}}_{\\textrm{know how to compute}}\\underbrace{\\frac{ \\partial h_i^L }{\\partial \\theta}}_{\\textrm{need to figure out}}\n",
    "\\end{align}\n",
    "\n",
    "\n",
    "Hence\n",
    "$$\n",
    "\\frac{ \\partial h_i^L }{\\partial \\theta}  = \\frac{ \\partial h_i^L }{\\partial z_i^l}\\frac{ \\partial z_i^L }{\\partial \\theta}\n",
    "$$"
   ]
  },
  {
   "cell_type": "markdown",
   "metadata": {
    "slideshow": {
     "slide_type": "slide"
    }
   },
   "source": [
    "\n",
    "$$\n",
    "\\frac{ \\partial h_i^L }{\\partial \\theta}  = \\frac{ \\partial h_i^L }{\\partial z_i^l}\\frac{ \\partial z_i^L }{\\partial \\theta}\n",
    "$$\n",
    "Gives us\n",
    "\n",
    "\\begin{align}\n",
    "\\frac{\\partial h_i^l}{\\partial w^l_{ij}} &=   f'(z^l_i)h^{l-1}_j \\\\ \n",
    "\\frac{\\partial h_i^l}{\\partial b^l_{i}} &=  f'(z^l_i)\n",
    "\\end{align}"
   ]
  },
  {
   "cell_type": "markdown",
   "metadata": {
    "slideshow": {
     "slide_type": "slide"
    }
   },
   "source": [
    "# Back-propagation: putting it together\n",
    "1. Run forward prop\n",
    "\\begin{align}\n",
    "\\hh^0 &= \\xx \\\\\n",
    "\\zz^l &= \\WW^l\\hh^{l-1} + \\bb^l && \\textrm{input into the $l$th layer activation } \\\\\n",
    "\\hh^l &= \\ff(\\zz^l) && \\textrm{output of the $l$th layer activation} \\\\\n",
    "\\hat{y}(\\xx) &= h^L && \\textrm{output is the last layer's state} \\\\\n",
    "\\end{align}\n",
    "2. Run backward prop\n",
    "\\begin{align}\n",
    "\\frac{\\partial  \\textrm{loss}(\\hat{y},y)}{\\partial h_i^{L}} &= \\frac{\\partial  \\textrm{loss}(\\hat{y},y)}{\\partial \\hat{y}}\\frac{ \\hat{y}}{\\partial h_i^L }\\\\\n",
    "\\frac{\\partial  \\textrm{loss}(\\hat{y},y)}{\\partial h_j^{l-1}} &= \\sum_{i=1}^{n_{l}}\\frac{\\partial  \\textrm{loss}(\\hat{y},y)}{\\partial h_i^{l}} f'(z^l_i)w^l_{ij}\n",
    "\\end{align}\n",
    "3. Compute gradients\n",
    "\n",
    "\\begin{align}\n",
    "\\frac{\\partial E}{w^l_{ij} } &= \n",
    "\\frac{\\partial  \\textrm{loss}(\\hat{y},y)}{\\partial h_i^{l}} f'(z^l_i)h^{l-1}_j\\\\\n",
    "\\frac{\\partial E}{b^l_{i} } &= \\frac{\\partial  \\textrm{loss}(\\hat{y},y)}{\\partial h_i^{l}} f'(z^l_i)\\\\\n",
    "\\end{align}"
   ]
  },
  {
   "cell_type": "code",
   "execution_count": 293,
   "metadata": {
    "slideshow": {
     "slide_type": "slide"
    }
   },
   "outputs": [],
   "source": [
    "import numpy as np\n",
    "\n",
    "def loss(yhat,y):\n",
    "    # loss(yhat,y)\n",
    "    l = 0.5*(yhat - y)**2.0\n",
    "    # d loss(yhat,y) / d yhat\n",
    "    g = (yhat - y)\n",
    "    return l,g\n",
    "\n",
    "def sigmoid(z):    \n",
    "    # if z is a vector\n",
    "    # h is a vector of outputs\n",
    "    # g is derivative of f at each z\n",
    "    h = 1.0/(1.0 + np.exp(-z))\n",
    "    g = h*(1.0 - h)  \n",
    "    return h,g\n",
    "\n",
    "def compute_loss(loss,predict,x,y):\n",
    "    yhat = predict(x)\n",
    "    val,_ = loss(yhat,y)\n",
    "    return val.squeeze()\n"
   ]
  },
  {
   "cell_type": "markdown",
   "metadata": {
    "slideshow": {
     "slide_type": "slide"
    }
   },
   "source": [
    "\n",
    "![](xor.png)"
   ]
  },
  {
   "cell_type": "markdown",
   "metadata": {
    "slideshow": {
     "slide_type": "slide"
    }
   },
   "source": [
    "1. Run forward prop\n",
    "\\begin{align}\n",
    "\\hh^0 &= \\xx \\\\\n",
    "\\zz^l &= \\WW^l\\hh^{l-1} + \\bb^l && \\textrm{input into the $l$th layer activation } \\\\\n",
    "\\hh^l &= \\ff(\\zz^l) && \\textrm{output of the $l$th layer activation} \\\\\n",
    "\\hat{y}(\\xx) &= h^L && \\textrm{output is the last layer's state} \\\\\n",
    "\\end{align}"
   ]
  },
  {
   "cell_type": "code",
   "execution_count": 206,
   "metadata": {
    "slideshow": {
     "slide_type": "slide"
    }
   },
   "outputs": [
    {
     "name": "stdout",
     "output_type": "stream",
     "text": [
      "Input:  [[ 0.  0.]] Output:  0.149132886381\n",
      "Input:  [[ 0.  1.]] Output:  0.893163783089\n",
      "Input:  [[ 1.  0.]] Output:  0.893163783089\n",
      "Input:  [[ 1.  1.]] Output:  0.149132886381\n"
     ]
    }
   ],
   "source": [
    "def forward_prop(x,f,Ws,bs):\n",
    "    # simple implementation of forward prop    \n",
    "    hs = [x]               # store h^0\n",
    "    zs = [np.zeros(len(x))] # store z^0\n",
    "    h = x                  # current layer is 0 \n",
    "    L = len(Ws)            \n",
    "    for l in range(L):     \n",
    "        Wl = Ws[l]            # get layer weights\n",
    "        bl = bs[l]            # get layer biases\n",
    "        nl = Wl.shape[0]      # number of variables in \n",
    "                              # layer l        \n",
    "        z = np.dot(Wl,h) + bl # input into layer l\n",
    "        h,_ = f(z)            # activation for each z\n",
    "        zs.append(z)        \n",
    "        hs.append(h)\n",
    "    return hs,zs\n",
    "\n",
    "# XOR net \n",
    "Ws = []\n",
    "bs = []\n",
    "F = 5.0\n",
    "# first layer \n",
    "Ws.append(F*np.asarray([[1.0,-1.0],\n",
    "                        [-1.0,1.0]]))\n",
    "bs.append(F*np.asarray([[-0.5],\n",
    "                      [-0.5]]))\n",
    "# second layer weights\n",
    "Ws.append(F*np.asarray([[1.0,1.0]]))\n",
    "bs.append(F*np.asarray([[-0.5]]))\n",
    "\n",
    "for x1 in [0.0,1.0]:\n",
    "    for x2 in [0.0,1.0]:\n",
    "        x = np.asarray([[x1],[x2]])\n",
    "        hs,zs = forward_prop(x,sigmoid,Ws,bs)\n",
    "        print \"Input: \",x.T,\"Output: \",hs[-1].squeeze()"
   ]
  },
  {
   "cell_type": "markdown",
   "metadata": {
    "slideshow": {
     "slide_type": "slide"
    }
   },
   "source": [
    "2. Run backward prop\n",
    "\\begin{align}\n",
    "\\frac{\\partial  \\textrm{loss}(\\hat{y},y)}{\\partial h_i^{L}} &= \\frac{\\partial  \\textrm{loss}(\\hat{y},y)}{\\partial \\hat{y}}\\frac{ \\hat{y}}{\\partial h_i^L }\\\\\n",
    "\\frac{\\partial  \\textrm{loss}(\\hat{y},y)}{\\partial h_j^{l-1}} &= \\sum_{i=1}^{n_{l}}\\frac{\\partial  \\textrm{loss}(\\hat{y},y)}{\\partial h_i^{l}} f'(z^l_i)w^l_{ij}\n",
    "\\end{align}"
   ]
  },
  {
   "cell_type": "code",
   "execution_count": 208,
   "metadata": {
    "slideshow": {
     "slide_type": "slide"
    }
   },
   "outputs": [],
   "source": [
    "def backward_prop(loss,f,Ws,bs,zs,y):\n",
    "    _,dldh = loss(hs[-1],y)\n",
    "    L = len(Ws)\n",
    "    dldhs = [[]]*(L+1) # one per layer    \n",
    "    dldhs[L] = dldh  # derivative of loss with respect to\n",
    "                     # prediction (yhat)\n",
    "    for l in reversed(range(L)):\n",
    "        Wl = Ws[l]\n",
    "        bl = bs[l]\n",
    "        nl = Wl.shape[0]\n",
    "        n = Wl.shape[1]\n",
    "        dldhs[l] = np.zeros((n,1))\n",
    "        for i in range(nl):\n",
    "            _,df = f(zs[l+1][i]) \n",
    "            m = dldhs[l+1][i]*df\n",
    "            for j in range(n):                            \n",
    "                dldhs[l][j] = m*Wl[i,j]\n",
    "    return dldhs\n"
   ]
  },
  {
   "cell_type": "markdown",
   "metadata": {
    "slideshow": {
     "slide_type": "slide"
    }
   },
   "source": [
    "3. Compute gradients\n",
    "\n",
    "\\begin{align}\n",
    "\\frac{\\partial E}{w^l_{ij} } &= \n",
    "\\frac{\\partial  \\textrm{loss}(\\hat{y},y)}{\\partial h_i^{l}} f'(z^l_i)h^{l-1}_j\\\\\n",
    "\\frac{\\partial E}{b^l_{i} } &= \\frac{\\partial  \\textrm{loss}(\\hat{y},y)}{\\partial h_i^{l}} f'(z^l_i)\\\\\n",
    "\\end{align}"
   ]
  },
  {
   "cell_type": "code",
   "execution_count": null,
   "metadata": {
    "collapsed": true,
    "slideshow": {
     "slide_type": "slide"
    }
   },
   "outputs": [],
   "source": [
    "def compute_gradients(dldhs,f,zs,hs):\n",
    "    L = len(dldhs)-1\n",
    "    dWs = [[]]*L\n",
    "    dbs = [[]]*L\n",
    "    for l in range(L):\n",
    "        nl = len(hs[l+1])\n",
    "        n = len(hs[l])\n",
    "        dWs[l] = np.zeros((nl,n))\n",
    "        for i in range(nl):             \n",
    "            _,g = f(zs[l+1][i])\n",
    "            hl = hs[l].squeeze()\n",
    "            dWs[l][i,:] = dldhs[l+1][i]*g*hl\n",
    "            dbs[l] = dldhs[l+1][i]*g\n",
    "            \n",
    "            \n",
    "    return dWs,dbs"
   ]
  },
  {
   "cell_type": "code",
   "execution_count": 329,
   "metadata": {
    "slideshow": {
     "slide_type": "skip"
    }
   },
   "outputs": [
    {
     "name": "stdout",
     "output_type": "stream",
     "text": [
      "(0.0031136092315531272, 0.0031136087408337918)\n",
      "(0.0031136092315531272, 0.0031136087408337918)\n",
      "(-0.0047451058360348242, -0.0047451063432885328)\n",
      "(-0.0047451058360348242, -0.0047451063432885328)\n",
      "(0.05932591112811636, 0.059325910360931711)\n",
      "(0.053831228363776518, 0.053831228615190692)\n"
     ]
    }
   ],
   "source": [
    "#\n",
    "# Gradient Checking code using finite diffrences\n",
    "# \n",
    "x = np.asarray([[1.0],[1.0]])\n",
    "y = np.asarray([[0.0]])\n",
    "Ws[0] = 0.1*np.random.randn(2,2)\n",
    "Ws[1] = 0.1*np.random.randn(1,2)\n",
    "bs[0] = 0.1*np.random.randn(2,1)\n",
    "bs[1] = 0.1*np.random.randn(1,1)\n",
    "hs,zs = forward_prop(x,sigmoid,Ws,bs)\n",
    "dldhs = backward_prop(loss,sigmoid,Ws,bs,zs,y)  \n",
    "dWs,dbs = compute_gradients(dldhs,sigmoid,zs,hs)\n",
    "\n",
    "L = len(dWs)\n",
    "eps = 1e-7\n",
    "fddWs = [[]]*L\n",
    "\n",
    "\n",
    "for l in range(L):\n",
    "    fddWs[l] = np.zeros(Ws[l].shape)\n",
    "    for i in range(Ws[l].shape[0]):\n",
    "        for j in range(Ws[l].shape[1]):\n",
    "            Wc = Ws[l].copy()\n",
    "            Ws[l][i,j] = Wc[i,j] + 0.5*eps            \n",
    "            predict = lambda x: forward_prop(x,sigmoid,Ws,bs)[0][-1].squeeze()\n",
    "            v1 = compute_loss(loss,predict,x,y)\n",
    "            Ws[l][i,j] = Wc[i,j] - 0.5*eps            \n",
    "            predict = lambda x: forward_prop(x,sigmoid,Ws,bs)[0][-1].squeeze()\n",
    "            v2 = compute_loss(loss,predict,x,y)\n",
    "            Ws[l] = Wc\n",
    "            fddWs[l][i,j] = (v1 - v2)/eps\n",
    "            print(fddWs[l][i,j],dWs[l][i,j])\n",
    "    "
   ]
  },
  {
   "cell_type": "code",
   "execution_count": 327,
   "metadata": {
    "scrolled": true,
    "slideshow": {
     "slide_type": "slide"
    }
   },
   "outputs": [],
   "source": [
    "\n",
    "import matplotlib.pyplot as plt\n",
    "%matplotlib inline\n",
    "np.random.seed(1)\n",
    "Ws[0] = 0.5*np.random.randn(2,2)\n",
    "Ws[1] = 0.5*np.random.randn(1,2)\n",
    "bs[0] = 0.5*np.random.randn(2,1)\n",
    "bs[1] = 0.5*np.random.randn(1,1)\n",
    "\n",
    "\n",
    "N = 1000\n",
    "x = (np.random.rand(2,N)>0.5).astype('float')\n",
    "x = x + 0.1*np.random.randn(2,N)\n",
    "\n",
    "y = np.logical_xor(x[0,:]>0.5,x[1,:]>0.5).astype('float')\n",
    "\n",
    "L = 2\n",
    "eta = 3e-2\n",
    "Es = []\n",
    "for it in range(200):\n",
    "    E = 0    \n",
    "    for l in range(L):\n",
    "        dWs[l] = np.zeros(Ws[l].shape)\n",
    "        dbs[l] = np.zeros(bs[l].shape)\n",
    "        \n",
    "    for t in range(N):\n",
    "        xt = x[:,[t]]\n",
    "        yt = y[t]\n",
    "        hs,zs = forward_prop(xt,sigmoid,Ws,bs)\n",
    "        dldhs = backward_prop(loss,sigmoid,Ws,bs,zs,yt)  \n",
    "        dtWs,dtbs = compute_gradients(dldhs,sigmoid,zs,hs)\n",
    "        for l in range(L):\n",
    "            dWs[l] = dWs[l] + dtWs[l]\n",
    "            dbs[l] = dbs[l] + dtbs[l]            \n",
    "        Et = loss(hs[-1][0][0],yt)[0]\n",
    "        E = E + Et    \n",
    "    for l in range(L):\n",
    "        Ws[l] = Ws[l] - eta*dWs[l]\n",
    "        bs[l] = bs[l] - eta*dbs[l]        \n",
    "    Es.append(E)     \n",
    "    \n",
    "\n"
   ]
  },
  {
   "cell_type": "code",
   "execution_count": 328,
   "metadata": {
    "slideshow": {
     "slide_type": "slide"
    }
   },
   "outputs": [
    {
     "name": "stdout",
     "output_type": "stream",
     "text": [
      "First layer weights:\n",
      "[[-3.2933533  -3.3736506 ]\n",
      " [-6.57363912 -6.7182171 ]]\n",
      "First layer biases:\n",
      "[[ 4.72145779]\n",
      " [ 3.46844846]]\n",
      "Second layer weights:\n",
      "[[ 9.89952122 -9.51866265]]\n",
      "Second layer biases:\n",
      "[[-4.20933528]]\n",
      "Input:  [[ 0.  0.]] Output:  0.0258780857113\n",
      "Input:  [[ 0.  1.]] Output:  0.96419601442\n",
      "Input:  [[ 1.  0.]] Output:  0.966669564212\n",
      "Input:  [[ 1.  1.]] Output:  0.0487062060114\n"
     ]
    },
    {
     "data": {
      "image/png": "[encoded data removed]",
      "text/plain": [
       "<matplotlib.figure.Figure at 0x7eea748>"
      ]
     },
     "metadata": {},
     "output_type": "display_data"
    }
   ],
   "source": [
    "plt.plot(Es)\n",
    "plt.xlabel('iterations')\n",
    "plt.ylabel('E')\n",
    "print \"First layer weights:\\n\",Ws[0]\n",
    "print \"First layer biases:\\n\",bs[0]\n",
    "print \"Second layer weights:\\n\",Ws[1]\n",
    "print \"Second layer biases:\\n\",bs[1]\n",
    "\n",
    "for x1 in [0.0,1.0]:\n",
    "    for x2 in [0.0,1.0]:\n",
    "        x = np.asarray([[x1],[x2]])\n",
    "        hs,zs = forward_prop(x,sigmoid,Ws,bs)\n",
    "        print \"Input: \",x.T,\"Output: \",hs[-1].squeeze()"
   ]
  },
  {
   "cell_type": "markdown",
   "metadata": {
    "slideshow": {
     "slide_type": "slide"
    }
   },
   "source": [
    "# Recap\n",
    "\n",
    "We introduced back-propagation.\n",
    "\n",
    "It decomposed computation of partial derivatives of the loss wrt parameters into two tasks\n",
    "1. derivative of loss with respect to hidden variables\n",
    "2. derivative of the hidden variable with respect to parameter\n",
    "\n",
    "First task was accomplished using chain rule to yield a recursive formula which works backwards from the loss -- back-propagation.\n",
    "\n",
    "Second task was accomplished by taking derivatives within a layer.\n",
    "\n"
   ]
  }
 ],
 "metadata": {
  "anaconda-cloud": {},
  "celltoolbar": "Slideshow",
  "kernelspec": {
   "display_name": "Python 3",
   "language": "python",
   "name": "python3"
  },
  "language_info": {
   "codemirror_mode": {
    "name": "ipython",
    "version": 3
   },
   "file_extension": ".py",
   "mimetype": "text/x-python",
   "name": "python",
   "nbconvert_exporter": "python",
   "pygments_lexer": "ipython3",
   "version": "3.6.5"
  },
  "nbpresent": {
   "slides": {
    "0351a772-c92a-4430-84b4-7130549e7ab0": {
     "id": "0351a772-c92a-4430-84b4-7130549e7ab0",
     "prev": "1ae7150b-6121-40bd-8f33-b1b0690791e2",
     "regions": {
      "da29fdf0-46b3-49f8-8047-2d5d7254a245": {
       "attrs": {
        "height": 0.8,
        "width": 0.8,
        "x": 0.1,
        "y": 0.1
       },
       "content": {
        "cell": "fbcdc5fe-8e7e-4180-9764-ecad0ef709ea",
        "part": "whole"
       },
       "id": "da29fdf0-46b3-49f8-8047-2d5d7254a245"
      }
     }
    },
    "12b628e8-f03d-4ade-acba-73b1c75754a9": {
     "id": "12b628e8-f03d-4ade-acba-73b1c75754a9",
     "prev": "ffc1d54c-925e-4648-8d83-24541d52be7c",
     "regions": {
      "7d32489a-204e-4b5c-b95b-a9fd5f7e447a": {
       "attrs": {
        "height": 0.8,
        "width": 0.8,
        "x": 0.1,
        "y": 0.1
       },
       "content": {
        "cell": "b934daf2-1dfd-4706-a216-f46f107d3fb7",
        "part": "whole"
       },
       "id": "7d32489a-204e-4b5c-b95b-a9fd5f7e447a"
      }
     }
    },
    "14c534af-5d17-41c3-a3b0-81839aa8692a": {
     "id": "14c534af-5d17-41c3-a3b0-81839aa8692a",
     "prev": "a7c7f5ef-322e-4638-9a05-4e6aab630bd7",
     "regions": {
      "f7032b61-9587-4bf6-99ef-c455b56a349c": {
       "attrs": {
        "height": 0.8,
        "width": 0.8,
        "x": 0.1,
        "y": 0.1
       },
       "content": {
        "cell": "8c34e974-39aa-46da-a01d-8cdfc4ee35c2",
        "part": "whole"
       },
       "id": "f7032b61-9587-4bf6-99ef-c455b56a349c"
      }
     }
    },
    "1ae7150b-6121-40bd-8f33-b1b0690791e2": {
     "id": "1ae7150b-6121-40bd-8f33-b1b0690791e2",
     "prev": "8600b916-dfb8-44a1-876a-6d80797c5899",
     "regions": {
      "d22b7fc2-48b8-4413-ad89-eb0b182d455a": {
       "attrs": {
        "height": 0.8,
        "width": 0.8,
        "x": 0.1,
        "y": 0.1
       },
       "content": {
        "cell": "e30a931b-932b-4b01-b4c1-884208eb4530",
        "part": "whole"
       },
       "id": "d22b7fc2-48b8-4413-ad89-eb0b182d455a"
      }
     }
    },
    "292fd08b-58d1-4a30-ae20-3a0ab5320860": {
     "id": "292fd08b-58d1-4a30-ae20-3a0ab5320860",
     "prev": "ddcfa80f-2c65-4afe-aa32-296ec97b2344",
     "regions": {
      "cbe3fa3e-c517-4207-ac11-d884ffa1f3ed": {
       "attrs": {
        "height": 0.8,
        "width": 0.8,
        "x": 0.1,
        "y": 0.1
       },
       "content": {
        "cell": "7cbecfc4-fa24-414c-82e4-fbb242fa3faf",
        "part": "whole"
       },
       "id": "cbe3fa3e-c517-4207-ac11-d884ffa1f3ed"
      }
     }
    },
    "2cdbba23-1148-4f6c-8549-692283c5e35c": {
     "id": "2cdbba23-1148-4f6c-8549-692283c5e35c",
     "prev": "eff734ad-96ec-463a-87fb-dda40cc8ce48",
     "regions": {
      "9724d964-f1ea-4f62-a7da-9bf35dfad5e7": {
       "attrs": {
        "height": 0.8,
        "width": 0.8,
        "x": 0.1,
        "y": 0.1
       },
       "content": {
        "cell": "e7cc0d43-4957-4271-bf7b-0a35ae71117c",
        "part": "whole"
       },
       "id": "9724d964-f1ea-4f62-a7da-9bf35dfad5e7"
      }
     }
    },
    "401fafc4-bb94-4bc6-a8b2-dee06ae8ae8b": {
     "id": "401fafc4-bb94-4bc6-a8b2-dee06ae8ae8b",
     "prev": "2cdbba23-1148-4f6c-8549-692283c5e35c",
     "regions": {
      "5b755dea-45ce-44d7-8dce-aecbebaabd58": {
       "attrs": {
        "height": 0.8,
        "width": 0.8,
        "x": 0.1,
        "y": 0.1
       },
       "content": {
        "cell": "107f8412-5f74-449a-b934-156820f0bbcf",
        "part": "whole"
       },
       "id": "5b755dea-45ce-44d7-8dce-aecbebaabd58"
      }
     }
    },
    "5446f7ea-d6d7-47b1-bba5-5bcec2a4fe25": {
     "id": "5446f7ea-d6d7-47b1-bba5-5bcec2a4fe25",
     "prev": "c5b602e5-22d8-4689-8a4c-acb935322846",
     "regions": {
      "df60a52d-fc25-4b64-b6c9-a04507dc6d76": {
       "attrs": {
        "height": 0.8,
        "width": 0.8,
        "x": 0.1,
        "y": 0.1
       },
       "content": {
        "cell": "14bb883c-5a7f-4e4e-b0ff-ad59c985dcb2",
        "part": "whole"
       },
       "id": "df60a52d-fc25-4b64-b6c9-a04507dc6d76"
      }
     }
    },
    "5623e543-fe11-4ac1-9102-c01ba6f47b2d": {
     "id": "5623e543-fe11-4ac1-9102-c01ba6f47b2d",
     "prev": null,
     "regions": {
      "2ecffa8e-1c79-43ef-b42d-bffa7cc4e3e7": {
       "attrs": {
        "height": 0.8,
        "width": 0.8,
        "x": 0.1,
        "y": 0.1
       },
       "content": {
        "cell": "aab7fd3c-11a1-4073-a957-c10735d7afae",
        "part": "whole"
       },
       "id": "2ecffa8e-1c79-43ef-b42d-bffa7cc4e3e7"
      }
     }
    },
    "5b0c87d2-037c-4ed2-bed3-f490bfa70ccf": {
     "id": "5b0c87d2-037c-4ed2-bed3-f490bfa70ccf",
     "prev": "6c826828-2be0-4c2e-b58f-af16d6eb14ad",
     "regions": {
      "02e13c85-fd99-4af5-a680-3d217e01cc92": {
       "attrs": {
        "height": 0.8,
        "width": 0.8,
        "x": 0.1,
        "y": 0.1
       },
       "content": {
        "cell": "84557d87-6b9c-4ddb-a44c-aac2c6b74479",
        "part": "whole"
       },
       "id": "02e13c85-fd99-4af5-a680-3d217e01cc92"
      }
     }
    },
    "6c826828-2be0-4c2e-b58f-af16d6eb14ad": {
     "id": "6c826828-2be0-4c2e-b58f-af16d6eb14ad",
     "prev": "14c534af-5d17-41c3-a3b0-81839aa8692a",
     "regions": {
      "432a5f24-6769-4f43-972d-ea82d6922c05": {
       "attrs": {
        "height": 0.8,
        "width": 0.8,
        "x": 0.1,
        "y": 0.1
       },
       "content": {
        "cell": "35539823-9e9b-4458-b888-23b67b4d6553",
        "part": "whole"
       },
       "id": "432a5f24-6769-4f43-972d-ea82d6922c05"
      }
     }
    },
    "8600b916-dfb8-44a1-876a-6d80797c5899": {
     "id": "8600b916-dfb8-44a1-876a-6d80797c5899",
     "prev": "865414d8-8321-4fbc-b7d3-fce492038da5",
     "regions": {
      "5855e7e6-e804-4aa5-8cf9-4479a558a6e7": {
       "attrs": {
        "height": 0.8,
        "width": 0.8,
        "x": 0.1,
        "y": 0.1
       },
       "content": {
        "cell": "4da9ff24-f0fe-4719-8e6a-275de188652f",
        "part": "whole"
       },
       "id": "5855e7e6-e804-4aa5-8cf9-4479a558a6e7"
      }
     }
    },
    "865414d8-8321-4fbc-b7d3-fce492038da5": {
     "id": "865414d8-8321-4fbc-b7d3-fce492038da5",
     "prev": "9b359c37-fe53-4ab5-a4f8-8b72091c2fab",
     "regions": {
      "62f2b0b2-bf80-4524-bb71-17cc3da900cb": {
       "attrs": {
        "height": 0.8,
        "width": 0.8,
        "x": 0.1,
        "y": 0.1
       },
       "content": {
        "cell": "7d3a96df-84a2-481a-a4e4-49ac4837dfbf",
        "part": "whole"
       },
       "id": "62f2b0b2-bf80-4524-bb71-17cc3da900cb"
      }
     }
    },
    "9b359c37-fe53-4ab5-a4f8-8b72091c2fab": {
     "id": "9b359c37-fe53-4ab5-a4f8-8b72091c2fab",
     "prev": "5623e543-fe11-4ac1-9102-c01ba6f47b2d",
     "regions": {
      "7bcfde74-125c-4cea-afdb-a2c39805f36c": {
       "attrs": {
        "height": 0.8,
        "width": 0.8,
        "x": 0.1,
        "y": 0.1
       },
       "content": {
        "cell": "e2b9a449-7f63-483e-9e3d-734d6c16887a",
        "part": "whole"
       },
       "id": "7bcfde74-125c-4cea-afdb-a2c39805f36c"
      }
     }
    },
    "a7c7f5ef-322e-4638-9a05-4e6aab630bd7": {
     "id": "a7c7f5ef-322e-4638-9a05-4e6aab630bd7",
     "prev": "401fafc4-bb94-4bc6-a8b2-dee06ae8ae8b",
     "regions": {
      "6dd5826b-c385-41b7-b84a-2995f50f89a6": {
       "attrs": {
        "height": 0.8,
        "width": 0.8,
        "x": 0.1,
        "y": 0.1
       },
       "content": {
        "cell": "595413d3-19fa-4bee-9f22-ced173614597",
        "part": "whole"
       },
       "id": "6dd5826b-c385-41b7-b84a-2995f50f89a6"
      }
     }
    },
    "c5b602e5-22d8-4689-8a4c-acb935322846": {
     "id": "c5b602e5-22d8-4689-8a4c-acb935322846",
     "prev": "12b628e8-f03d-4ade-acba-73b1c75754a9",
     "regions": {
      "609ea961-e72b-4ed6-8041-ee84c2a9203f": {
       "attrs": {
        "height": 0.8,
        "width": 0.8,
        "x": 0.1,
        "y": 0.1
       },
       "content": {
        "cell": "0d29e769-fc04-4a74-9eb2-30e115210e9c",
        "part": "whole"
       },
       "id": "609ea961-e72b-4ed6-8041-ee84c2a9203f"
      }
     }
    },
    "d4238c0e-8429-40b5-90fd-4e82eafd70b5": {
     "id": "d4238c0e-8429-40b5-90fd-4e82eafd70b5",
     "prev": "5b0c87d2-037c-4ed2-bed3-f490bfa70ccf",
     "regions": {
      "07e14a93-6398-42fe-b609-7caea3857a56": {
       "attrs": {
        "height": 0.8,
        "width": 0.8,
        "x": 0.1,
        "y": 0.1
       },
       "content": {
        "cell": "f60716a0-d1a3-4852-ae64-94199ef71bbe",
        "part": "whole"
       },
       "id": "07e14a93-6398-42fe-b609-7caea3857a56"
      }
     }
    },
    "ddcfa80f-2c65-4afe-aa32-296ec97b2344": {
     "id": "ddcfa80f-2c65-4afe-aa32-296ec97b2344",
     "prev": "5446f7ea-d6d7-47b1-bba5-5bcec2a4fe25",
     "regions": {
      "f296dad0-361a-4660-a095-e82b3adf102a": {
       "attrs": {
        "height": 0.8,
        "width": 0.8,
        "x": 0.1,
        "y": 0.1
       },
       "content": {
        "cell": "7d9ddcb3-65ab-4635-95f1-f919c084cf8a",
        "part": "whole"
       },
       "id": "f296dad0-361a-4660-a095-e82b3adf102a"
      }
     }
    },
    "eff734ad-96ec-463a-87fb-dda40cc8ce48": {
     "id": "eff734ad-96ec-463a-87fb-dda40cc8ce48",
     "prev": "292fd08b-58d1-4a30-ae20-3a0ab5320860",
     "regions": {
      "3e138a53-a7b2-44d0-bff0-379033d9849d": {
       "attrs": {
        "height": 0.8,
        "width": 0.8,
        "x": 0.1,
        "y": 0.1
       },
       "content": {
        "cell": "cb0cc60b-b4e5-400d-9e36-6370185f40b1",
        "part": "whole"
       },
       "id": "3e138a53-a7b2-44d0-bff0-379033d9849d"
      }
     }
    },
    "ffc1d54c-925e-4648-8d83-24541d52be7c": {
     "id": "ffc1d54c-925e-4648-8d83-24541d52be7c",
     "prev": "0351a772-c92a-4430-84b4-7130549e7ab0",
     "regions": {
      "251cd137-0738-4f41-b40d-1498d0ff49e6": {
       "attrs": {
        "height": 0.8,
        "width": 0.8,
        "x": 0.1,
        "y": 0.1
       },
       "content": {
        "cell": "1b3011bf-b293-454a-b391-c366d739f399",
        "part": "whole"
       },
       "id": "251cd137-0738-4f41-b40d-1498d0ff49e6"
      }
     }
    }
   },
   "themes": {}
  }
 },
 "nbformat": 4,
 "nbformat_minor": 1
}
