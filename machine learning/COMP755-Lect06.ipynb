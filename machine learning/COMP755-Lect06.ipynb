{
 "cells": [
  {
   "cell_type": "markdown",
   "metadata": {
    "slideshow": {
     "slide_type": "slide"
    }
   },
   "source": [
    "# COMP 755\n",
    "\n",
    "Plan for today\n",
    "\n",
    "1. Review logistic regression\n",
    "2. Multi-class logistic regression and Softmax \n",
    "3. BigData and Stochastic gradient descent \n",
    "\n",
    "$$\n",
    "\\renewcommand{\\xx}{\\mathbf{x}}\n",
    "\\renewcommand{\\yy}{\\mathbf{y}}\n",
    "\\renewcommand{\\zz}{\\mathbf{z}}\n",
    "\\renewcommand{\\vv}{\\mathbf{v}}\n",
    "\\renewcommand{\\bbeta}{\\boldsymbol{\\mathbf{\\beta}}}\n",
    "\\renewcommand{\\loglik}{\\mathcal{LL}}\n",
    "\\renewcommand{\\penloglik}{\\mathcal{PLL}}\n",
    "\\renewcommand{\\likelihood}{\\mathcal{L}}\n",
    "\\renewcommand{\\Data}{\\textrm{Data}}\n",
    "\\renewcommand{\\given}{ \\big| }\n",
    "\\renewcommand{\\MLE}{\\textrm{MLE}}\n",
    "\\renewcommand{\\tth}{\\textrm{th}}\n",
    "\\renewcommand{\\Gaussian}[2]{\\mathcal{N}\\left(#1,#2\\right)}\n",
    "\\renewcommand{\\norm}[1]{\\left\\lVert#1\\right\\rVert}\n",
    "\\renewcommand{\\ones}{\\mathbf{1}}\n",
    "\\renewcommand{\\diag}[1]{\\textrm{diag}\\left( #1 \\right)}\n",
    "\\renewcommand{\\sigmoid}[1]{\\sigma\\left(#1\\right)}\n",
    "\\renewcommand{\\myexp}[1]{\\exp\\left\\{#1\\right\\}}\n",
    "\\renewcommand{\\mylog}[1]{\\log\\left\\{#1\\right\\}}\n",
    "$$"
   ]
  },
  {
   "cell_type": "code",
   "execution_count": 1,
   "metadata": {
    "slideshow": {
     "slide_type": "slide"
    }
   },
   "outputs": [
    {
     "data": {
      "text/plain": [
       "<matplotlib.legend.Legend at 0x107a88080>"
      ]
     },
     "execution_count": 1,
     "metadata": {},
     "output_type": "execute_result"
    },
    {
     "data": {
      "image/png": "[encoded data removed]",
      "text/plain": [
       "<matplotlib.figure.Figure at 0x107a880b8>"
      ]
     },
     "metadata": {},
     "output_type": "display_data"
    }
   ],
   "source": [
    "import numpy\n",
    "import matplotlib.pyplot as plt\n",
    "%matplotlib inline\n",
    "x = numpy.arange(-10,10,0.1)\n",
    "scales = [1.0,0.5,2.0,10.0]\n",
    "labels = []\n",
    "for s in scales:\n",
    "    plt.plot(x,1.0/(1.0 + numpy.exp(-s*x)))\n",
    "    labels.append('sigma(' + str(s) +'*x)')\n",
    "plt.xlabel('x')\n",
    "plt.title('Sigmoid')\n",
    "plt.legend(labels,loc=4)"
   ]
  },
  {
   "cell_type": "markdown",
   "metadata": {
    "slideshow": {
     "slide_type": "slide"
    }
   },
   "source": [
    "# Logistic regression -- log-likelihood for $\\pm$ 1 labels\n",
    "\n",
    "Probability of a single sample is when $y \\in \\{-1,+1\\}$:\n",
    "$$\n",
    "p(y\\given\\xx,\\beta_0,\\beta) = \\frac{1}{1 + \\myexp{-y(\\beta_0 + \\xx^T\\beta)}}\n",
    "$$\n",
    "\n",
    "Likelihood function is:\n",
    "$$\n",
    "\\likelihood(\\beta_0,\\beta\\given\\yy,\\xx) = \\prod_i \\frac{1}{1 + \\myexp{-y_i(\\beta_0 + \\xx_i^T\\beta)}}\n",
    "$$\n",
    "\n",
    "Log-likelihood function is:\n",
    "$$\n",
    "\\loglik(\\beta_0,\\beta\\given\\yy,\\xx) = -\\sum_i \\log\\left\\{1 + \\myexp{-y_i(\\beta_0 + \\xx_i^T\\beta)} \\right\\}\n",
    "$$\n",
    "\n",
    "Ridge regularized log-likelihood:\n",
    "$$\n",
    "\\penloglik(\\beta_0,\\beta\\given\\yy,\\xx) = -\\sum_i \\log\\left\\{1 + \\myexp{-y_i(\\beta_0 + \\xx_i^T\\beta)} \\right\\} - \\frac{\\lambda}{2}\\norm{\\beta}^2\n",
    "$$\n",
    "\n"
   ]
  },
  {
   "cell_type": "markdown",
   "metadata": {
    "slideshow": {
     "slide_type": "slide"
    }
   },
   "source": [
    "# Logistic regression -- log-likelihood for $0,1$ labels\n",
    "\n",
    "Probability of a single sample is when $y \\in \\{0,1\\}$:\n",
    "$$\n",
    "p(y\\given\\xx,\\beta_0,\\beta) = \\frac{\\myexp{y(\\beta_0 + \\xx^T\\beta)}}{1 + \\myexp{(\\beta_0 + \\xx^T\\beta)}}\n",
    "$$\n",
    "\n",
    "Likelihood function is:\n",
    "$$\n",
    "\\likelihood(\\beta_0,\\beta\\given\\yy,\\xx) = \\prod_i \\frac{\\myexp{y_i(\\beta_0 + \\xx_i^T\\beta)}}{1 + \\myexp{(\\beta_0 + \\xx^T\\beta)}}\n",
    "$$\n",
    "\n",
    "Log-likelihood function is:\n",
    "$$\n",
    "\\loglik(\\beta_0,\\beta\\given\\yy,\\xx) = \\sum_i y_i(\\beta_0 + \\xx_i^T\\beta) - \\log\\left\\{1 + \\myexp{(\\beta_0 + \\xx_i^T\\beta)} \\right\\}\n",
    "$$\n",
    "\n",
    "Ridge regularized log-likelihood:\n",
    "$$\n",
    "\\penloglik(\\beta_0,\\beta\\given\\yy,\\xx) =  \\sum_i y_i(\\beta_0 + \\xx_i^T\\beta) - \\log\\left\\{1 + \\myexp{(\\beta_0 + \\xx_i^T\\beta)} \\right\\} - \\frac{\\lambda}{2}\\norm{\\beta}^2\n",
    "$$\n",
    "\n"
   ]
  },
  {
   "cell_type": "markdown",
   "metadata": {
    "slideshow": {
     "slide_type": "slide"
    }
   },
   "source": [
    "# Decision boundary -- Separating hyperplane\n",
    "\n",
    "For Logistic regression:\n",
    "$$p(y=1\\given\\xx,\\beta,\\beta_0) = 0.5 \\iff \\beta_0 + \\xx^T\\beta = 0$$\n",
    "\n",
    "![Separating Hyperplane](separating.png)"
   ]
  },
  {
   "cell_type": "markdown",
   "metadata": {
    "collapsed": true,
    "slideshow": {
     "slide_type": "slide"
    }
   },
   "source": [
    "# Multiclass classification\n",
    "\n",
    "Given a feature vector $\\xx$ we wish to predict which of the $C$ classes it came from.\n",
    "If $C=2$ we can use logistic regression. What if $C>2$?\n",
    "\n",
    "Q: Suggest how you might use a two class classifier in training a multiclass classifier? Hint: you can train more than one two-class classifier and aggregate their predictions.\n",
    "\n"
   ]
  },
  {
   "cell_type": "markdown",
   "metadata": {
    "slideshow": {
     "slide_type": "slide"
    }
   },
   "source": [
    "# Multiclass classification\n",
    "\n",
    "We need to specify \n",
    "$$\n",
    "p(y=1\\given\\xx),p(y=2\\given\\xx),...,p(y=C\\given\\xx)\n",
    "$$\n",
    "where we note that\n",
    "$$\n",
    "\\begin{aligned}\n",
    "\\sum_{c=1}^C p(y=c\\given\\xx) &= 1.0 \\\\\n",
    "p(y=c\\given\\xx)&\\geq 0,& 1\\leq c\\leq C\n",
    "\\end{aligned}\n",
    "$$"
   ]
  },
  {
   "cell_type": "markdown",
   "metadata": {
    "slideshow": {
     "slide_type": "slide"
    }
   },
   "source": [
    "# Softmax\n",
    "\n",
    "Sigmoid:\n",
    "$$\n",
    "\\sigma(z) = \\frac{1}{1 + \\myexp{-z}} = \\frac{\\myexp{z}}{1 + \\myexp{z}}\n",
    "$$\n",
    "\n",
    "Softmax is a generalization of sigmoid:\n",
    "$$\n",
    "\\sigma(\\zz)_j = \\frac{\\myexp{z_j}}{\\sum_{c=1}^C \\myexp{z_j}}\n",
    "$$\n",
    "For example:\n",
    "$$\n",
    "\\begin{aligned}\n",
    "\\sigma(\\zz)_1 &= \\frac{\\myexp{z_1}}{\\myexp{z_1} + \\myexp{z_2} + \\myexp{z_3}} \\\\\n",
    "\\sigma(\\zz)_2 &= \\frac{\\myexp{z_2}}{\\myexp{z_1} + \\myexp{z_2} + \\myexp{z_3}} \\\\\n",
    "\\sigma(\\zz)_3 &= \\frac{\\myexp{z_3}}{\\myexp{z_1} + \\myexp{z_2} + \\myexp{z_3}} \n",
    "\\end{aligned}\n",
    "$$"
   ]
  },
  {
   "cell_type": "markdown",
   "metadata": {
    "slideshow": {
     "slide_type": "slide"
    }
   },
   "source": [
    "# Why is it called softmax?\n",
    "\n",
    "Imagine a function that gives back an indicator vector where $1$ for the largest entry, $0$ for others.\n",
    "\n",
    "For example, $[0.1, 0.5, 0.3]$ would map to $[0,1,0]$ because the second entry is the largest.\n",
    "\n",
    "Softmax maps input values into probabilities. The largest value is mapped into the largest probability, but no probability is 0. \n",
    "\n",
    "Hence, softmax is a \"soft\" version of the above max function.\n"
   ]
  },
  {
   "cell_type": "code",
   "execution_count": 54,
   "metadata": {
    "slideshow": {
     "slide_type": "fragment"
    }
   },
   "outputs": [
    {
     "name": "stdout",
     "output_type": "stream",
     "text": [
      "z:  [0.1, 0.5, 0.3] Hardmax(z): [ 0.  1.  0.]\n",
      "z:  [0.1, 0.5, 0.3] Softmax(z): [ 0.2693075   0.40175958  0.32893292]\n",
      "z:  [0.01, 0.05, 0.03] Softmax(z): [ 0.32668933  0.34002178  0.33328889]\n",
      "z:  [10, 50, 30] Softmax(z): [  4.24835425e-18   9.99999998e-01   2.06115362e-09]\n",
      "z:  [50, 50, 30] Softmax(z): [  4.99999999e-01   4.99999999e-01   1.03057681e-09]\n"
     ]
    }
   ],
   "source": [
    "# why softmax\n",
    "from __future__ import print_function\n",
    "import numpy\n",
    "def hardmax(z):\n",
    "    m = numpy.max(z)\n",
    "    h = numpy.double(z == m)\n",
    "    print(\"z: \",z,\"Hardmax(z):\",h)\n",
    "    return h\n",
    "\n",
    "def softmax(z,verbose=True):\n",
    "    s = numpy.exp(z)\n",
    "    s = s/numpy.sum(s)\n",
    "    if verbose:\n",
    "        print(\"z: \",z,\"Softmax(z):\",s)\n",
    "    return s\n",
    "\n",
    "hardmax([0.1,0.5,0.3])\n",
    "softmax([0.1,0.5,0.3])\n",
    "softmax([0.01,0.05,0.03])\n",
    "softmax([10,50,30])\n",
    "softmax([50,50,30]);\n"
   ]
  },
  {
   "cell_type": "markdown",
   "metadata": {
    "slideshow": {
     "slide_type": "slide"
    }
   },
   "source": [
    "# Softmax and temperature\n",
    "\n",
    "Note that\n",
    "$$\n",
    "\\sigmoid{\\zz} \\neq \\sigmoid{\\frac{1}{T}\\zz}, T \\neq 1\n",
    "$$\n",
    "\n",
    "In fact, for small $T$ the softmax output approaches the indicator vector which tells you which entries are the largest.\n",
    "\n",
    "Hence softmax can be made arbirarily \"sharp\" or \"peaked\" by scaling its inputs.\n",
    "\n",
    "BTW. If you've done any simulated annealing, you have been using softmax and tuning the temperature up to drive the algorithm to find the maximum.\n",
    "\n",
    "\n"
   ]
  },
  {
   "cell_type": "code",
   "execution_count": 75,
   "metadata": {
    "slideshow": {
     "slide_type": "fragment"
    }
   },
   "outputs": [
    {
     "name": "stdout",
     "output_type": "stream",
     "text": [
      "[array([ 0.85397529]), array([ 0.84656149])]\n"
     ]
    },
    {
     "data": {
      "image/png": "[encoded data removed]",
      "text/plain": [
       "<matplotlib.figure.Figure at 0x8ea2198>"
      ]
     },
     "metadata": {},
     "output_type": "display_data"
    }
   ],
   "source": [
    "import matplotlib.pyplot as plt\n",
    "%matplotlib inline\n",
    "numpy.random.seed(2)\n",
    "x = numpy.random.rand(20,1)\n",
    "plt.plot(x,'b',label='x')\n",
    "plt.plot(softmax(x,verbose=False),'r',label='Softmax(x)')\n",
    "plt.plot(softmax(100.0*x,verbose=False),'k',label='Softmax(10*x)');\n",
    "plt.xlim([-0.5,20.5])\n",
    "plt.legend(loc=0)\n",
    "print([x[16],x[18]])"
   ]
  },
  {
   "cell_type": "markdown",
   "metadata": {
    "slideshow": {
     "slide_type": "slide"
    }
   },
   "source": [
    "# Multiclass logistic regression and softmax\n",
    "\n",
    "We can write out probability of partcular class using softmax\n",
    "$$\n",
    "p(y=c\\given\\xx,\\beta_0,B) = \\boxed{\\frac{ \\myexp{\\beta_{0,c} + \\xx^T\\bbeta_c}}{\\sum_{k=1}^C\\myexp{\\beta_{0,k} + \\xx^T\\bbeta_k}}}\n",
    "$$\n",
    "where\n",
    "$$\n",
    "B = \\left[\\bbeta_1 \\bbeta_2 ... \\bbeta_C \\right]\n",
    "$$\n",
    "and each $\\bbeta_c$ is a vector of class specific feature weights.\n",
    "\n",
    "\n",
    "Note that the $p(y=c\\given\\cdots)$ is a categorical distribution over $C$ possible states. Probabilities of each state are given by softmax.\n",
    "\n",
    "\n"
   ]
  },
  {
   "cell_type": "markdown",
   "metadata": {
    "slideshow": {
     "slide_type": "slide"
    }
   },
   "source": [
    "# Excess of parameters\n",
    "\n",
    "Probability of a single sample in logistic regression assuming where $y \\in \\{1,2\\}$\n",
    "$$\n",
    "\\begin{aligned}\n",
    "p(y=1\\given\\xx,\\beta_0,\\beta) &= \\frac{1}{1 + \\myexp{\\beta_0 + \\xx^T\\beta)}}\\\\\n",
    "p(y=2\\given\\xx,\\beta_0,\\beta) &= \\frac{\\myexp{\\beta_0 + \\xx^T\\beta}}{1 + \\myexp{\\beta_0 + \\xx^T\\beta}}\n",
    "\\end{aligned}\n",
    "$$\n",
    "\n",
    "But in our multiclass logistic regression for $C=2$ we have\n",
    "$$\n",
    "\\begin{aligned}\n",
    "p(y=1\\given\\xx,\\beta_0,B) &\\propto \\frac{ \\myexp{\\beta_{0,1} + \\xx^T\\bbeta_1}}{\\myexp{\\beta_{0,1} + \\xx^T\\bbeta_1} + \\myexp{\\beta_{0,2} + \\xx^T\\bbeta_2}} \\\\\n",
    "p(y=2\\given\\xx,\\beta_0,B) &= \\frac{ \\myexp{\\beta_{0,2} + \\xx^T\\bbeta_2}}{\\myexp{\\beta_{0,1} + \\xx^T\\bbeta_1} + \\myexp{\\beta_{0,2} + \\xx^T\\bbeta_2}} \\\\\n",
    "\\end{aligned}\n",
    "$$\n",
    "\n",
    "Multiclass logistic regression for $C=2$ has more paramters than logistic regresssion. \n",
    "\n",
    "Q: Do we need these parameters? If not, why not and how do we get rid of them? Just need intuition here, we will work it out on the board.\n",
    "\n"
   ]
  },
  {
   "cell_type": "markdown",
   "metadata": {
    "collapsed": true,
    "slideshow": {
     "slide_type": "slide"
    }
   },
   "source": [
    "# Counting parameters\n",
    "\n",
    "$$\n",
    "p(y=c\\given\\xx,\\beta_0,B) = \\boxed{\\frac{ \\myexp{\\beta_{0,c} + \\xx^T\\bbeta_c}}{\\sum_{k=1}^C\\myexp{\\beta_{0,k} + \\xx^T\\bbeta_k}}} \n",
    "$$\n",
    "\n",
    "If there are $C$ classes and $p$ features\n",
    "\n",
    "Q: Size of $\\beta_0$? \n",
    "\n",
    "Q: Size of $$\n",
    "B = \\left[\\bbeta_1 \\bbeta_2 ... \\bbeta_C \\right]\n",
    "$$ \n",
    "matrix of $\\bbeta$ vectors? \n",
    "\n",
    "Q: Assuming that $\\beta_{0,C} = 0$ and $\\bbeta_{j,C} = 0$, total parameter count is? "
   ]
  },
  {
   "cell_type": "markdown",
   "metadata": {
    "slideshow": {
     "slide_type": "slide"
    }
   },
   "source": [
    "# One-hot representation of labels\n",
    "\n",
    "Thus far we have been using a random variable $y$ and writing probabilities as\n",
    "$$\n",
    "p(y = c\\given \\cdots) = \n",
    "$$\n",
    "\n",
    "\n",
    "If you give me a discrete variable $z \\in \\{1,...C\\}$ I can construct a C-long binary vector\n",
    "$$\n",
    "y_c = \\left\\{ \\begin{aligned}\n",
    " 1,&& z=c\\\\\n",
    "0, && z \\neq c\n",
    "\\end{aligned}\n",
    "\\right.\n",
    "$$\n",
    "This bit vector is **one-hot** representation of original variable $z$.\n",
    "\n",
    "For example, if C = 5\n",
    "1. $z = 3$ then  $y = [0 0 1 0 0]$\n",
    "2. $z = 2$ then  $y = [0 1 0 0 0]$\n",
    "3. $z = 4$ then   $y = [0 0 0 1 0]$, and $$\n",
    "\\prod_{c=1}^C \\theta_c^{y_c} = \\theta_1^0\\theta_2^0\\theta_3^0\\theta_4^{\\color{red}{1}}\\theta_5^0=\\theta_4\n",
    "$$\n",
    "and\n",
    "$$\n",
    "\\log\\prod_{c=1}^C \\theta_c^{y_c} = \\sum_c y_c \\log \\theta_c = \\log \\theta_4\n",
    "$$\n"
   ]
  },
  {
   "cell_type": "markdown",
   "metadata": {
    "slideshow": {
     "slide_type": "slide"
    }
   },
   "source": [
    "# Log-Likelihood\n",
    "\n",
    "1. There are $N$ samples, each in one of $C$ classes, and $p$ features\n",
    "2. Labels are represented using one-hot vectors $y_i$\n",
    "3. Feature matrix $X$ contains a column of 1s -- corresponding to the bias term.\n",
    "4. First row of weight matrix $B$ are bias terms.\n",
    "5. $\\bbeta_{k}$ is $k^\\tth$ column of matrix $B$\n",
    "\n",
    "|   |Variable   |Dimensions |\n",
    "|---|:---:|:-----:|\n",
    "|feature matrix| $X$ | $N\\times (p+1)$ |\n",
    "| label matrix |$Y$ | $N\\times C$| \n",
    "| weight matrix| $B$ | $(p+1)\\times C$|\n",
    "\n",
    "\n",
    "\n",
    "Likelihood is \n",
    "$$\n",
    "\\likelihood(B\\given Y,X) = \\underbrace{\\prod_{i=1}^N}_{\\textrm{samples}}\\underbrace{\\prod_{c=1}^C}_{\\textrm{classes}}\\left[\\frac{ \\myexp{\\xx_i^T\\bbeta_c}}{\\sum_{k=1}^C\\myexp{\\xx_i^T\\bbeta_k}}\\right]^{y_{i,c}}\n",
    "$$\n",
    "Log-likelihood is\n",
    "$$\n",
    "\\loglik(\\beta_0,B\\given Y,X) = \\sum_{i=1}^N\n",
    "\\sum_{c=1}^C y_{i,c}\\left(\\xx_i^T\\bbeta_c - \\mylog{\\sum_{k=1}^C\\myexp{\\xx_i^T\\bbeta_k}} \\right)\n",
    "$$\n",
    "\n"
   ]
  },
  {
   "cell_type": "markdown",
   "metadata": {
    "slideshow": {
     "slide_type": "slide"
    }
   },
   "source": [
    "# Ridge regularized log-likelihood\n",
    "\n",
    "\n",
    "Ridge regularized log-likelihood\n",
    "$$\n",
    "\\begin{aligned}\n",
    "\\penloglik(B\\given Y,X) =& \\sum_{i=1}^N\n",
    "\\sum_{c=1}^C y_{i,c}\\left(\\xx_i^T\\bbeta_c - \\mylog{\\sum_{k=1}^C\\myexp{\\xx_i^T\\bbeta_k}} \\right)\\\\ &- \\frac{\\lambda}{2}\\sum_{k=1}^C \\sum_{j=1}^p \\beta_{j,k}^2\n",
    "\\end{aligned}\n",
    "$$\n",
    "\n",
    "Note that we keep the last column of $B$ fixed at 0 to get rid of excess parameters. \n",
    "\n",
    "These parameters will not contribute to the regularization -- sum of their squares is 0.\n",
    "\n",
    "\n"
   ]
  },
  {
   "cell_type": "markdown",
   "metadata": {
    "slideshow": {
     "slide_type": "slide"
    }
   },
   "source": [
    "# Cross-entropy\n",
    "\n",
    "Frequently you will encounter mentions of cross-entropy. It is negative log likelihood of multiclass logistic\n",
    "$$\n",
    "\\begin{aligned}\n",
    "\\textrm{crossentropy}(B) &= -\\loglik(B\\given Y,X)\\\\& = -\\sum_{i=1}^N\n",
    "\\sum_{c=1}^C y_{i,c}\\left(\\xx_i^T\\bbeta_c - \\mylog{\\sum_{k=1}^C\\myexp{\\xx_i^T\\bbeta_k}} \\right)\n",
    "\\end{aligned}\n",
    "$$\n",
    "\n",
    "Ridge regularized cross-entropy \n",
    "$$\n",
    "\\begin{aligned}\n",
    "\\textrm{crossentropy}(B) =& -\\sum_{i=1}^N \\sum_{c=1}^C y_{i,c}\\left(\\xx_i^T\\bbeta_c - \\mylog{\\sum_{k=1}^C\\myexp{\\xx_i^T\\bbeta_k}} \\right) \\\\ \n",
    "&{\\color{red}{+}}\\frac{\\lambda}{2}\\sum_{k=1}^C \\sum_{j=1}^p \\beta_{j,k}^2\n",
    "\\end{aligned}\n",
    "$$\n",
    "\n",
    "Note the sign flip in the regularization. \n"
   ]
  },
  {
   "cell_type": "markdown",
   "metadata": {
    "slideshow": {
     "slide_type": "slide"
    }
   },
   "source": [
    "# Gradients of log-likelihood\n",
    "We will work this out in a pedestrian fashion and then obtain a compact expression:\n",
    "$$\n",
    "\\loglik(B)=\\sum_{i=1}^N \\sum_{c=1}^C y_{i,c}\\left(\\underbrace{\\xx_i^T\\bbeta_c}_{\\textrm{involves only $\\beta_c$}} - \\underbrace{\\mylog{\\sum_{k=1}^C\\myexp{\\xx_i^T\\bbeta_k}}}_{\\textrm{involves all columns of $B$}} \\right) \n",
    "$$\n",
    "Break it down\n",
    "$$\n",
    "\\begin{aligned}\n",
    "\\loglik(B)&=\\sum_{i=1}^N \\sum_{c=1}^C y_{i,c}\\left(\\xx_i^T\\bbeta_c\\right)\n",
    "\\\\\n",
    "&-\\sum_{i=1}^N \\sum_{c=1}^C y_{i,c}\\underbrace{\\mylog{\\sum_{k=1}^C\\myexp{\\xx_i^T\\bbeta_k}}}_{\\textrm{does not involve c}}\n",
    "\\end{aligned}\n",
    "$$\n",
    "Hence\n",
    "$$\n",
    "\\begin{aligned}\n",
    "\\loglik(B)&=\\sum_{i=1}^N \\sum_{c=1}^C y_{i,c}\\left(\\xx_i^T\\bbeta_c\\right)\\\\\n",
    "&-\\sum_{i=1}^N\\mylog{\\sum_{k=1}^C\\myexp{\\xx_i^T\\bbeta_k}}\n",
    "\\end{aligned}\n",
    "$$\n",
    "\n"
   ]
  },
  {
   "cell_type": "markdown",
   "metadata": {
    "slideshow": {
     "slide_type": "fragment"
    }
   },
   "source": [
    "On board we will work out \n",
    "$$\n",
    "\\frac{\\partial}{\\partial \\beta_{j,l}}\\mylog{\\sum_{k=1}^C\\myexp{\\xx_i^T\\bbeta_k}} = \\boxed{\\frac{\\myexp{\\xx_i^T\\bbeta_l}}{\\sum_{k=1}^C\\myexp{\\xx_i^T\\bbeta_k}}}x_{i,j}\n",
    "$$"
   ]
  },
  {
   "cell_type": "markdown",
   "metadata": {
    "slideshow": {
     "slide_type": "fragment"
    }
   },
   "source": [
    "Hence \n",
    "$$\n",
    "\\begin{aligned}\n",
    "\\frac{\\partial}{\\partial\\beta_{j,l}} \\loglik(B) &= \\sum_i y_{i,l}x_{i,j}\\\\\n",
    "&-\\sum_{i=1}^N \\frac{\\myexp{\\xx_i^T\\bbeta_l}}{\\sum_{k=1}^C\\myexp{\\xx_i^T\\bbeta_k}}x_{i,j}\n",
    "\\end{aligned}\n",
    "$$\n",
    "For compactness, model's probability of class $l$ for sample $i$ will be denoted $\\mu_{i,l}$\n",
    "$$\n",
    "\\mu_{i,l} = \\frac{\\myexp{\\xx_i^T\\bbeta_l}}{\\sum_{k=1}^C\\myexp{\\xx_i^T\\bbeta_k}}\n",
    "$$\n",
    "and\n",
    "$$\n",
    "\\frac{\\partial}{\\partial\\beta_{j,l}} \\loglik(B) = \\sum_i y_{i,l}x_{i,j}\n",
    "-\\sum_{i=1}^N \\mu_{i,l}x_{i,j} = \\sum_i x_{i,j}\\underbrace{(y_{i,l} - \\mu_{i,l})}_{\\textrm{residual}}\n",
    "$$"
   ]
  },
  {
   "cell_type": "markdown",
   "metadata": {
    "slideshow": {
     "slide_type": "slide"
    }
   },
   "source": [
    "$$\n",
    "\\frac{\\partial}{\\partial\\beta_{j,l}} \\loglik(B) = \\sum_i \\underbrace{x_{i,j}}_{\\textrm{feature $j$}}\\underbrace{(y_{i,l} - \\mu_{i,l})}_{\\textrm{residual in predicting class $l$}} = \\xx_{:,j}^T(\\yy_{:,l} - \\mu_{:,l})\n",
    "$$\n",
    "\n",
    "In words, partial derivative of log-likelihood with respect to $j^\\tth$ feature's weight for class $l$ is inner product between the feature and disagreement between prediction and the true label.\n",
    "\n",
    "Gradient of log likelihood with respect to a column of $B$\n",
    "$$\n",
    "\\nabla_{\\beta_c} \\loglik(B) = \\sum_i (y_{i,c} - \\mu_{i,c})\\xx_i\n",
    "$$\n",
    "\n",
    "Gradient of ridge regularized log-likelihood with respect to a column of $B$\n",
    "\n",
    "$$\n",
    "\\nabla_{\\beta_c} \\penloglik(B) = \\sum_i (y_{i,c} - \\mu_{i,c})\\xx_i - \\lambda\\left[\\begin{aligned}0\\\\\\ones_p\\end{aligned}\\right]\n",
    "$$"
   ]
  },
  {
   "cell_type": "markdown",
   "metadata": {
    "slideshow": {
     "slide_type": "slide"
    }
   },
   "source": [
    "# BigData and stochastic gradient\n",
    "\n",
    "If the number of samples $N$ is in thousands rather than millions then computation of gradients like\n",
    "$$\n",
    "\\begin{aligned}\n",
    "\\mu_{i,l} &= \\frac{\\myexp{\\xx_i^T\\bbeta_l}}{\\sum_{k=1}^C\\myexp{\\xx_i^T\\bbeta_k}}\\\\\n",
    "\\nabla_{\\beta_c} \\loglik(B) &= \\sum_i (y_{i,c} - \\mu_{i,c})\\xx_i\n",
    "\\end{aligned}\n",
    "$$\n",
    "is not overly expensive. \n",
    "\n",
    "Methods that use the whole dataset on every update of parameters are called **batch** methods.\n",
    "\n",
    "\n"
   ]
  },
  {
   "cell_type": "markdown",
   "metadata": {
    "slideshow": {
     "slide_type": "slide"
    }
   },
   "source": [
    "# BigData and stochastic gradient\n",
    "\n",
    "Once the number of samples becomes large iterating over all of them has diminishing returns.\n",
    "\n",
    "Stochastic gradient methods compute gradients using a portion of data called **mini-batches**.\n",
    "\n",
    "An extreme example of this is **online learning** -- data is streamed one sample at a time."
   ]
  },
  {
   "cell_type": "markdown",
   "metadata": {
    "slideshow": {
     "slide_type": "slide"
    }
   },
   "source": [
    "# BigData and stochastic gradient\n",
    "\n",
    "Updating parameters based on a small set of data if not guaranteed to monotonically improve log-likelihood.\n",
    "\n",
    "Hence, step-size cannot be chosen using line-search. \n",
    "\n",
    "Instead, step sizes for each iteration $k$ are computed \n",
    "$$\n",
    "\\begin{aligned}\n",
    "s^{(k)} &= \\left(s^{(k-1)}\\right)^{1-\\epsilon} & \\epsilon \\in [0,1]\\\\\n",
    "s^{(k)} &= \\frac{1}{\\tau + k} & \\tau > 0 \n",
    "\\end{aligned}\n",
    "$$\n",
    "and lead to diminishing step-size."
   ]
  },
  {
   "cell_type": "code",
   "execution_count": null,
   "metadata": {
    "collapsed": true,
    "slideshow": {
     "slide_type": "slide"
    }
   },
   "outputs": [],
   "source": [
    "def stochastic_gradient_ascent(f,x,get_next_batch,iters,epsilon=0.99):    \n",
    "    for it in range(iters):\n",
    "        batch = get_next_batch()\n",
    "        v,g = f(x,batch)    \n",
    "        x = x + step*g\n",
    "        step = step**(1.0 - epsilon)\n",
    "    return x\n",
    "\n",
    "def stochastic_gradient_descent(f,x,get_next_batch,iters,epsilon=0.99):    \n",
    "    for it in range(iters):\n",
    "        batch = get_next_batch()\n",
    "        v,g = f(x,batch)    \n",
    "        x = x - step*g\n",
    "        step = step**(1.0 - epsilon)\n",
    "    return x\n"
   ]
  },
  {
   "cell_type": "markdown",
   "metadata": {
    "slideshow": {
     "slide_type": "slide"
    }
   },
   "source": [
    "![](SGD.png)"
   ]
  },
  {
   "cell_type": "markdown",
   "metadata": {
    "slideshow": {
     "slide_type": "slide"
    }
   },
   "source": [
    "# Today\n",
    "\n",
    "Softmax -- generalization of sigmoid.\n",
    "\n",
    "Multiclass classification using logistic regression.\n",
    "\n",
    "Started looking at Stochastic gradients and BigData."
   ]
  }
 ],
 "metadata": {
  "anaconda-cloud": {},
  "celltoolbar": "Slideshow",
  "kernelspec": {
   "display_name": "Python 3",
   "language": "python",
   "name": "python3"
  },
  "language_info": {
   "codemirror_mode": {
    "name": "ipython",
    "version": 3
   },
   "file_extension": ".py",
   "mimetype": "text/x-python",
   "name": "python",
   "nbconvert_exporter": "python",
   "pygments_lexer": "ipython3",
   "version": "3.6.5"
  }
 },
 "nbformat": 4,
 "nbformat_minor": 1
}
