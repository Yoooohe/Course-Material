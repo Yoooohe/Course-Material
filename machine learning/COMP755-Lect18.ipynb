{
 "cells": [
  {
   "cell_type": "markdown",
   "metadata": {
    "nbpresent": {
     "id": "aab7fd3c-11a1-4073-a957-c10735d7afae"
    },
    "slideshow": {
     "slide_type": "slide"
    }
   },
   "source": [
    "# COMP 755\n",
    "\n",
    "Plan for today\n",
    "\n",
    "1. Review Coordinate Descent for Ridge and Lasso\n",
    "2. Fix-point analysis -- exam question practice\n",
    "3. Full regularization path solution\n",
    "4. Least Angle Regression solver for Lasso\n",
    "5. Issues with Lasso \n",
    "\n",
    "\n",
    "$$\n",
    "\\renewcommand{\\vvec}[2]{\\left[ \\begin{array}{c} \\mathbf{#1}\\\\ \\mathbf{#2} \\end{array}\\right]}\n",
    "\\renewcommand{\\mmat}[4]{\\left[ \\begin{array}{cc} \\mathbf{#1}&\\mathbf{#2}\\\\ \\mathbf{#3}&\\mathbf{#4} \\end{array}\\right]}\n",
    "\\renewcommand{\\aaa}{\\mathbf{a}}\n",
    "\\renewcommand{\\AAA}{\\mathbf{A}}\n",
    "\\renewcommand{\\xyvec}{\\left[ \\begin{array}{c} \\xx\\\\\\yy \\end{array} \\right]}\n",
    "\\renewcommand{\\xyvecc}{\\left[ \\begin{array}{c} x^1\\\\y^1 \\end{array} \\right]}\n",
    "\\renewcommand{\\mm}{\\mathbf{m}}\n",
    "\\renewcommand{\\xx}{\\mathbf{x}}\n",
    "\\renewcommand{\\yy}{\\mathbf{y}}\n",
    "\\renewcommand{\\zz}{\\mathbf{z}}\n",
    "\\renewcommand{\\vv}{\\mathbf{v}}\n",
    "\\renewcommand{\\ee}{\\mathbf{e}}\n",
    "\\renewcommand{\\ww}{\\mathbf{w}}\n",
    "\\renewcommand{\\XX}{\\mathbf{X}}\n",
    "\\renewcommand{\\YY}{\\mathbf{Y}}\n",
    "\\renewcommand{\\WW}{\\mathbf{W}}\n",
    "\\renewcommand{\\VV}{\\mathbf{V}}\n",
    "\\renewcommand{\\DD}{\\mathbf{D}}\n",
    "\\renewcommand{\\dd}{\\mathbf{d}}\n",
    "\\renewcommand{\\ZZ}{\\mathbf{Z}}\n",
    "\\renewcommand{\\CC}{\\mathbf{C}}\n",
    "\\renewcommand{\\bbeta}{\\boldsymbol{\\mathbf{\\beta}}}\n",
    "\\renewcommand{\\mmu}{\\boldsymbol{\\mathbf{\\mu}}}\n",
    "\\renewcommand{\\ssigma}{\\boldsymbol{\\mathbf{\\sigma}}}\n",
    "\\renewcommand{\\reals}{\\mathbb{R}}\n",
    "\\renewcommand{\\loglik}{\\mathcal{LL}}\n",
    "\\renewcommand{\\penloglik}{\\mathcal{PLL}}\n",
    "\\renewcommand{\\likelihood}{\\mathcal{L}}\n",
    "\\renewcommand{\\Data}{\\textrm{Data}}\n",
    "\\renewcommand{\\given}{ \\big| }\n",
    "\\renewcommand{\\MLE}{\\textrm{MLE}}\n",
    "\\renewcommand{\\EE}{\\mathbb{E}}\n",
    "\\renewcommand{\\EEE}{\\mathbf{E}}\n",
    "\\renewcommand{\\KL}{\\textrm{KL}}\n",
    "\\renewcommand{\\Bound}{\\mathcal{B}}\n",
    "\\renewcommand{\\tth}{\\textrm{th}}\n",
    "\\renewcommand{\\Gaussian}[2]{\\mathcal{N}\\left(#1,#2\\right)}\n",
    "\\renewcommand{\\norm}[1]{\\left\\lVert#1\\right\\rVert}\n",
    "\\renewcommand{\\ones}{\\mathbf{1}}\n",
    "\\renewcommand{\\corr}[2]{\\textrm{corr}(#1,#2)}\n",
    "\\renewcommand{\\diag}[1]{\\textrm{diag}\\left( #1 \\right)}\n",
    "\\renewcommand{\\sigmoid}[1]{\\sigma\\left(#1\\right)}\n",
    "\\renewcommand{\\myexp}[1]{\\exp\\left\\{#1\\right\\}}\n",
    "\\renewcommand{\\mylog}[1]{\\log\\left\\{#1\\right\\}}\n",
    "\\renewcommand{\\argmax}{\\mathop{\\textrm{argmax}}}\n",
    "\\renewcommand{\\new}{\\textrm{new}}\n",
    "\\renewcommand{\\old}{\\textrm{old}}\n",
    "\\renewcommand{\\bb}{\\mathbf{b}}\n",
    "\\renewcommand{\\ba}{\\mathbf{a}}\n",
    "\\renewcommand{\\BB}{\\mathbf{B}}\n",
    "\\renewcommand{\\BA}{\\mathbf{A}}\n",
    "\\renewcommand{\\BC}{\\mathbf{C}}\n",
    "\\renewcommand{\\UU}{\\mathbf{U}}\n",
    "\\renewcommand{\\uu}{\\mathbf{u}}\n",
    "\\renewcommand{\\SSS}{\\mathbf{S}}\n",
    "\\renewcommand{\\sss}{\\mathbf{s}}\n",
    "\\renewcommand{\\rr}{\\mathbf{r}}\n",
    "\\renewcommand{\\tr}[1]{\\textrm{tr}\\left\\{#1\\right\\}}\n",
    "\\renewcommand{\\argmin}{\\mathop{\\textrm{argmin}}}\n",
    "\\renewcommand{\\abs}[1]{\\left\\lvert#1\\right\\rvert}\n",
    "\\renewcommand{\\sign}{\\textrm{sign}}\n",
    "\\renewcommand{\\minimize}{\\mathop{\\textrm{minimize}}}\n",
    "$$\n",
    "\n"
   ]
  },
  {
   "cell_type": "code",
   "execution_count": 1,
   "metadata": {
    "collapsed": true,
    "slideshow": {
     "slide_type": "skip"
    }
   },
   "outputs": [],
   "source": [
    " def draw_contours(b1s,b2s,objective,n=40):\n",
    "    B1s, B2s = np.meshgrid(b1s,b2s)\n",
    "    O = np.zeros((len(b1s),len(b2s)))\n",
    "    for (i,b1) in enumerate(b1s):\n",
    "        for (j,b2) in enumerate(b2s):\n",
    "            beta = np.asarray([[b1],[b2]])\n",
    "            O[i,j] = objective(beta)\n",
    "    plt.contour(B1s,B2s,O,n)  \n"
   ]
  },
  {
   "cell_type": "markdown",
   "metadata": {
    "collapsed": true,
    "slideshow": {
     "slide_type": "slide"
    }
   },
   "source": [
    "# Sparsity in parameters\n",
    "\n",
    "Optimization of ridge penalized linear regression objective\n",
    "$$\n",
    "\\overbrace{\\underbrace{\\frac{1}{2}\\norm{\\yy - \\XX\\bbeta}_2^2}_{\\textrm{Negative Log Likelihood}} + \\underbrace{\\frac{\\alpha}{2}\\sum_j\\beta_j^2}_{\\textrm{ridge penalty}}}^{\\textrm{Ridge Regression}}\n",
    "$$\n",
    "does not produce sparse $\\bbeta$.\n",
    "\n",
    "We can consider other functions in place of ridge penalty\n",
    "$$\n",
    "\\overbrace{\\underbrace{\\frac{1}{2}\\norm{\\yy - \\XX\\bbeta}_2^2}_{\\textrm{Negative Log Likelihood}} + \n",
    "\\underbrace{\\lambda\\sum_j \\abs{\\beta_j}}_{\\ell_1 \\textrm{ penalty}}}^{\\textrm{LASSO regression}}.\n",
    "$$\n",
    "\n",
    "The name of the penalty stems from $\\ell_1$ norm\n",
    "$$\n",
    "\\norm{\\zz}_1 = \\sum_j \\abs{z_j}.\n",
    "$$\n",
    "and **LASSO** stands for Least absolute shrinkage and selection operator.\n",
    "\n",
    "\n"
   ]
  },
  {
   "cell_type": "markdown",
   "metadata": {
    "slideshow": {
     "slide_type": "slide"
    }
   },
   "source": [
    "# Coordinate descent\n",
    "\n",
    "However, you could also use a simpler approach of updating single $\\beta_i$ at a time\n",
    "\n",
    "For example,\n",
    "\n",
    "\\begin{eqnarray*}\n",
    "\\beta_1^{\\new} &=& \\argmin_{\\color{red}{\\beta_1}} f({\\color{red}{\\beta_1}},\\beta^\\old_2,\\beta^\\old_3) \\\\\n",
    "\\beta_2^{\\new} &=& \\argmin_{\\color{red}{\\beta_2}} f(\\beta^{\\new}_1,{\\color{red}{\\beta_2}},\\beta^\\old_3) \\\\\n",
    "\\beta_3^{\\new} &=& \\argmin_{\\color{red}{\\beta_3}} f(\\beta^{\\new}_1,\\beta^{\\new}_2,{\\color{red}{\\beta_3}}) \\\\\n",
    "\\end{eqnarray*}\n",
    "\n",
    "and cycling these updates until the changes become small $\\sum_j \\abs{\\beta_j^\\new - \\beta_j^\\old} < \\epsilon$\n",
    "\n",
    "At each step, we update a variable to **optimal** value given the rest."
   ]
  },
  {
   "cell_type": "markdown",
   "metadata": {
    "slideshow": {
     "slide_type": "slide"
    }
   },
   "source": [
    "# Coordinate descent -- derivation procedure\n",
    "\n",
    "1. Express objective in terms of a single variable ($\\beta_k$) while keeping rest fixed\n",
    "2. Compute partial derivative with respect to the variable\n",
    "3. Equate the partial derivative zero and solve to obtain the update"
   ]
  },
  {
   "cell_type": "code",
   "execution_count": 370,
   "metadata": {
    "slideshow": {
     "slide_type": "slide"
    }
   },
   "outputs": [
    {
     "data": {
      "text/plain": [
       "<matplotlib.text.Text at 0x2f5ff9e8>"
      ]
     },
     "execution_count": 370,
     "metadata": {},
     "output_type": "execute_result"
    },
    {
     "data": {
      "image/png": "[encoded data removed]",
      "text/plain": [
       "<matplotlib.figure.Figure at 0x25ce07b8>"
      ]
     },
     "metadata": {},
     "output_type": "display_data"
    }
   ],
   "source": [
    "   \n",
    "def objective(X,y,beta,alpha):\n",
    "    return ( 0.5*np.sum((y - np.dot(X,beta)) **2.0) \n",
    "            + alpha/2.0*np.sum(beta**2.0) )\n",
    "\n",
    "def update(X,y,beta,alpha,k):      \n",
    "    beta[k] = 0        \n",
    "    y_k = y - np.dot(X,beta) # residual since beta[k]=0\n",
    "    xk = X[:,[k]]    \n",
    "    beta[k] = np.dot(y_k.T,xk)/(np.dot(xk.T,xk) +  alpha)    \n",
    "    return beta\n",
    "    \n",
    "n = 10\n",
    "p = 2\n",
    "np.random.seed(1)\n",
    "X = np.random.randn(n,p) \n",
    "\n",
    "y = 1.0*X[:,[0]]+1.0*X[:,[1]] + 0.1*np.random.randn(n,1)\n",
    "bs = np.arange(-5,5,0.1)\n",
    "draw_contours(bs,bs,lambda b: objective(X,y,b,0.1))\n",
    "\n",
    "beta = np.asarray([[-4.],[-4.]])\n",
    "for it in range(10):\n",
    "    for k in range(2):\n",
    "        beta_old = np.copy(beta)        \n",
    "        beta = update(X,y,beta,0.1,k)  \n",
    "        plt.plot([beta_old[0],beta[0]],\n",
    "                 [beta_old[1],beta[1]],'b',linewidth=4)\n",
    "        \n",
    "plt.xlabel('$\\\\beta_1$',fontsize=20)\n",
    "plt.ylabel('$\\\\beta_2$',fontsize=20)\n",
    "plt.title('Trace of coordinate descent solving ridge regression')\n",
    "        "
   ]
  },
  {
   "cell_type": "markdown",
   "metadata": {
    "slideshow": {
     "slide_type": "slide"
    }
   },
   "source": [
    "# Coordinate descent for penalized linear regression \n",
    "\n",
    "Updates for $\\beta_k$ variable for Ridge and Lasso\n",
    "\n",
    "\\begin{align}\n",
    "\\beta^{\\new}_k  &= \\frac{\\xx_k^T\\yy^{[-k]}}{\\xx_k^T\\xx_k + \\alpha} \\tag{Ridge}\\\\\n",
    "\\beta_k^\\new &= S\\left(\\frac{\\xx_k^T\\yy^{[-k]}}{\\xx_k^T\\xx_k},\\lambda\\right) \\tag{Lasso}\n",
    "\\end{align}\n",
    "\n",
    "where \n",
    "$$\n",
    "y_t^{[-k]} = y_t - \\sum_{j\\neq k} \\beta_j x_{tj} \n",
    "$$ \n",
    "\n",
    "and \n",
    "$$\n",
    "S(y,\\lambda) = \\sign(y)\\max(\\abs{y}-\\lambda,0) \n",
    "$$\n",
    "\n"
   ]
  },
  {
   "cell_type": "code",
   "execution_count": 108,
   "metadata": {
    "slideshow": {
     "slide_type": "slide"
    }
   },
   "outputs": [
    {
     "name": "stdout",
     "output_type": "stream",
     "text": [
      "(10L, 1L)\n"
     ]
    },
    {
     "data": {
      "text/plain": [
       "<matplotlib.legend.Legend at 0x18658da0>"
      ]
     },
     "execution_count": 108,
     "metadata": {},
     "output_type": "execute_result"
    },
    {
     "data": {
      "image/png": "[encoded data removed]",
      "text/plain": [
       "<matplotlib.figure.Figure at 0x17e5c4e0>"
      ]
     },
     "metadata": {},
     "output_type": "display_data"
    }
   ],
   "source": [
    "# a toy example\n",
    "from sklearn.linear_model import Ridge, Lasso\n",
    "import numpy as np\n",
    "import matplotlib.pyplot as plt\n",
    "%matplotlib inline\n",
    "np.random.seed(0)\n",
    "n = 10\n",
    "p = 100\n",
    "X = np.random.randn(n,p)\n",
    "# use fourth feature\n",
    "y = 1.0*X[:,[3]] + 0.2*np.random.randn(n,1)\n",
    "print y.shape\n",
    "\n",
    "\n",
    "# objective is 1/2*||y - X*beta||^2 + alpha||beta||^2\n",
    "model = Ridge(alpha=1)\n",
    "model.fit(X,y)\n",
    "betas = model.coef_[0]\n",
    "plt.plot(betas)\n",
    "plt.scatter(3,betas[3],s=100,label=' $\\\\beta^{\\mathrm{Ridge}}_3$ ')\n",
    "\n",
    "model2 = Lasso(alpha=0.3)\n",
    "model2.fit(X,y)\n",
    "betas2 = model2.coef_\n",
    "plt.plot(betas2)\n",
    "plt.scatter(3,betas2[3],s=100,label=' $\\\\beta^{\\mathrm{Lasso}}_3$ ')\n",
    "\n",
    "plt.xlabel('feature index')\n",
    "plt.ylabel('beta for feature');\n",
    "plt.xlim([0,p-1])\n",
    "plt.legend(scatterpoints = 1)\n"
   ]
  },
  {
   "cell_type": "markdown",
   "metadata": {
    "slideshow": {
     "slide_type": "slide"
    }
   },
   "source": [
    "# Fix-point analysis for iterative algorithms\n",
    "\n",
    "For smooth objectives $\\loglik(\\bbeta)$ we sought $\\bbeta^*$ such that $\\nabla_{\\bbeta} \\loglik(\\bbeta^*) = 0$. \n",
    "\n",
    "In linear regression $\\nabla_{\\bbeta} \\loglik(\\bbeta^*) = 0$ becomes a system of linear equations.\n",
    "\n",
    "There is another, more general way, way to analyze convergence points of algorithms."
   ]
  },
  {
   "cell_type": "markdown",
   "metadata": {
    "collapsed": true,
    "slideshow": {
     "slide_type": "slide"
    }
   },
   "source": [
    "# Fix-point analysis for iterative algorithms\n",
    "\n",
    "Given an update rule $f$, for example $\\beta^{\\new} = f(\\beta^{\\old}),$ an algorithm iterating this update\n",
    "converges when\n",
    "$$\n",
    "\\beta^* = f(\\beta^*).\n",
    "$$\n",
    "\n",
    "\n",
    "A point $x$ for which $f(x) = x$ is called **fix-point** of mapping $f$.\n",
    "\n",
    "We will perform fix-point analysis of coordinate descent for ridge for a simple case. "
   ]
  },
  {
   "cell_type": "markdown",
   "metadata": {
    "slideshow": {
     "slide_type": "slide"
    }
   },
   "source": [
    "# Fix-point analysis of coordinate descent for Ridge -- toy example\n",
    "\n",
    "Assume we are given data  $\\Data = \\{(y_t,[x_{t1},x_{t2}])\\mid t=1,..,n\\}$ where $x_{t1} = \\xx_{t2}$ -- two features are exactly the same. Further assume that $\\xx_1$ an d $\\xx_2$ are normalized (mean is 0.0, and sum of squares is 1.0). The optimization problem of this ridge regression problem is given by\n",
    "$$\n",
    "\\minimize_{\\beta_1,\\beta_2} \\frac{1}{2} \\norm{\\yy  - \\xx_{1}\\beta_1 - \\xx_{2}\\beta_2}^2 + \\frac{\\alpha}{2}(\\beta_1^2 + \\beta_2^2)\n",
    "$$\n",
    "\n",
    "Coordinate descent mapping is given by:\n",
    "\n",
    "\\begin{eqnarray*}\n",
    "\\beta^\\new_1 &=& \\frac{(\\yy - \\xx_2\\beta^\\old_2)^T\\xx_1}{1 + \\alpha}\\\\\n",
    "\\beta^\\new_2 &=& \\frac{(\\yy - \\xx_1\\beta^\\new_1)^T\\xx_2}{1 + \\alpha}\n",
    "\\end{eqnarray*}\n"
   ]
  },
  {
   "cell_type": "code",
   "execution_count": 1,
   "metadata": {
    "collapsed": true,
    "slideshow": {
     "slide_type": "slide"
    }
   },
   "outputs": [],
   "source": [
    "import numpy as np\n",
    "def normalize(x):\n",
    "    x = x - np.mean(x)\n",
    "    x = x/np.linalg.norm(x)\n",
    "    return x\n",
    "\n",
    "n = 100\n",
    "np.random.seed(1)\n",
    "y = np.random.randn(n)\n",
    "x1 = np.random.randn(n)\n",
    "x1 = normalize(x1)\n",
    "x2 = x1\n",
    "\n",
    "def update_beta1(y,x1,x2,beta1,beta2,alpha):\n",
    "    return 1./(1. + alpha)*(np.dot(y - beta1*x1,x2))\n",
    "\n",
    "def update_beta2(y,x1,x2,beta1,beta2,alpha):\n",
    "    return 1./(1. + alpha)*(np.dot(y - beta2*x2,x1))\n",
    "\n"
   ]
  },
  {
   "cell_type": "markdown",
   "metadata": {
    "slideshow": {
     "slide_type": "slide"
    }
   },
   "source": [
    "# Fix-point analysis of coordinate descent for Ridge\n",
    " \n",
    " We will express fixpoints for $\\beta_1$ and $\\beta_2$ by dropping *new* and *old* superscripts. Also we get rid off fractions.\n",
    " \n",
    "\\begin{align}\n",
    "(1 + \\alpha)\\beta_1 &= (\\yy - \\xx_2\\beta_2)^T\\xx_1 \\\\\n",
    "(1 + \\alpha)\\beta_2 &= (\\yy - \\xx_1\\beta_1)^T\\xx_2 \\\\\n",
    "\\end{align}"
   ]
  },
  {
   "cell_type": "markdown",
   "metadata": {
    "slideshow": {
     "slide_type": "slide"
    }
   },
   "source": [
    "# Fix-point analysis of coordinate descent for Ridge\n",
    " \n",
    "We simplify fixpoint for $\\beta_1$ using the fact that $\\xx_1 = \\xx_2$ and that $\\norm{\\xx_1} = \\sqrt{\\xx_1^T\\xx_1} =  1.0$ \n",
    "\n",
    "\\begin{align}\n",
    "(1 + \\alpha)\\beta_1 &=& (\\yy - \\xx_2\\beta_2)^T\\xx_1 \\\\\n",
    "(1 + \\alpha)\\beta_1 &=& \\yy^T\\xx_1 - \\beta_2\\overbrace{\\xx_2^T\\xx_1}^{\\xx_1^T\\xx_1 = 1} \\\\\n",
    "(1 + \\alpha)\\beta_1 &=& \\yy^T\\xx_1 - \\beta_2 \\tag{1}\n",
    "\\end{align}\n",
    "\n",
    "We simplify fixpoint for $\\beta_2$ analogously to what we did for $\\beta_1$\n",
    "\n",
    "\\begin{align}\n",
    "(1 + \\alpha)\\beta_2 &=& \\yy^T\\xx_2 - \\beta_1 \\tag{2}\\\\\n",
    "\\end{align}"
   ]
  },
  {
   "cell_type": "markdown",
   "metadata": {
    "slideshow": {
     "slide_type": "slide"
    }
   },
   "source": [
    "# Fix-point analysis of coordinate descent for Ridge\n",
    "\n",
    "Express $\\beta_2$ in the  in terms of $\\beta_1$ using Eq.1\n",
    "\n",
    "\\begin{align}\n",
    "\\beta_2 = \\yy^T\\xx_1 - (1 + \\alpha)\\beta_1  \\tag{3}\n",
    "\\end{align}\n",
    "\n",
    "Use Eq.3 to rewrite Eq.2 in terms of $\\beta_1$ and simplify to obtain closed-form solution for $\\beta_1$:\n",
    "\n",
    "\\begin{eqnarray*}\n",
    "(1 + \\alpha)(\\yy^T\\xx_1 - (1 + \\alpha)\\beta_1 ) &=& \\yy^T\\xx_1 - \\beta_1 \\\\\n",
    "(1 + \\alpha)(\\yy^T\\xx_1) - (1 + \\alpha)^2\\beta_1  &=& \\yy^T\\xx_1 - \\beta_1 \\\\\n",
    " (1 - (1 + \\alpha)^2)\\beta_1  &=& (1-(1 + \\alpha))\\yy^T\\xx_1\\\\\n",
    " \\beta_1  &=& \\frac{(1-(1 + \\alpha))}{(1 - (1 + \\alpha)^2)}\\yy^T\\xx_1\\\\\n",
    " \\beta_1  &=& \\frac{1}{1 + (1 + \\alpha)}\\yy^T\\xx_1\\\\\n",
    " \\beta_1  &=& \\frac{\\yy^T\\xx_1}{2 + \\alpha}\\\\\n",
    "\\end{eqnarray*}\n",
    "\n",
    "Analgously solve for $\\beta_2$\n",
    "$$\n",
    " \\beta_2  = \\frac{\\yy^T\\xx_2}{2 + \\alpha}\n",
    "$$"
   ]
  },
  {
   "cell_type": "markdown",
   "metadata": {
    "slideshow": {
     "slide_type": "subslide"
    }
   },
   "source": [
    "# Fix-point analysis of coordinate descent for Ridge\n",
    "\n",
    "Note, that we could get the same solution by equating gradient of \n",
    "$$\n",
    "\\frac{1}{2} \\norm{\\yy  - \\xx_{1}\\beta_1 - \\xx_{2}\\beta_2}^2 + \\frac{\\alpha}{2}(\\beta_1^2 + \\beta_2^2)\n",
    "$$\n",
    "to zero. \n",
    "\n",
    "Recap:\n",
    "1. Write out the coordinate descent updates either as $\\bbeta^{\\new} = f(\\bbeta^{\\old})$\n",
    "2. Drop $\\new$ and $\\old$ superscript \n",
    "3. Solve the resulting system"
   ]
  },
  {
   "cell_type": "code",
   "execution_count": null,
   "metadata": {
    "collapsed": true,
    "slideshow": {
     "slide_type": "slide"
    }
   },
   "outputs": [],
   "source": [
    "def solve(y,x1,x2,alpha):\n",
    "    beta1 = np.dot(y.T,x1)/(2.0 + alpha)\n",
    "    beta2 = np.dot(y.T,x2)/(2.0 + alpha)\n",
    "    return beta1, beta2\n",
    "\n",
    "alpha = 0.5\n",
    "beta1,beta2 = solve(y,x1,x2,alpha)\n",
    "# are these fix-points?\n",
    "assert(np.abs(beta1 - update_beta1(y,x1,x2,beta1,beta2,alpha))<1e-7)\n",
    "assert(np.abs(beta2 - update_beta2(y,x1,x2,beta1,beta2,alpha))<1e-7)"
   ]
  },
  {
   "cell_type": "markdown",
   "metadata": {
    "slideshow": {
     "slide_type": "slide"
    }
   },
   "source": [
    "# Fix-point analysis of coordinate descent for Lasso -- toy example\n",
    "\n",
    "Assume we are given data  $\\Data = \\{(y_t,[x_{t1},x_{t2}])\\mid t=1,..,n\\}$ such that $\\xx_1^T\\xx_2 = 0, \\xx_1^T\\xx_1 = 1, \\xx_2^T\\xx_2$. Let $\\yy^T\\xx_1 = c_1$ and $\\yy^T\\xx_2 = c_2$, and $c_1>c_2>0$.\n",
    "\n",
    "For optimization problem\n",
    "$$\n",
    "\\minimize_{\\beta_1,\\beta_2} \\frac{1}{2} \\norm{\\yy  - \\xx_{1}\\beta_1 - \\xx_{2}\\beta_2}^2 + \\lambda(\\abs{\\beta_1} + \\abs{\\beta_2}),\n",
    "$$\n",
    "figure out which values of $\\lambda$ lead to solutions\n",
    "1. $\\beta_1=\\beta_2=0$\n",
    "2. $\\beta_1>0,\\beta_2=0$\n",
    "3. $\\beta_1>0,\\beta_2>0$\n",
    "4. $\\beta_1=0,\\beta_2>0$\n",
    "\n",
    "Take a breath. "
   ]
  },
  {
   "cell_type": "markdown",
   "metadata": {
    "slideshow": {
     "slide_type": "slide"
    }
   },
   "source": [
    "# Reading between the lines\n",
    "\n",
    "Assume we are given data  $\\Data = \\{(y_t,[x_{t1},x_{t2}])\\mid t=1,..,n\\}$ such that $\\overbrace{\\xx_1^T\\xx_2 = 0, \\xx_1^T\\xx_1 = 1, \\xx_2^T\\xx_2}^{\\color{blue}{\\textrm{features are orthonormal}}}$. Let $\\yy^T\\xx_1 = c_1$ and $\\yy^T\\xx_2 = c_2$, and $c_1>c_2>0.$ \n",
    "<font color='blue'> $\\xx_1^T\\xx_2 = 0$ means something is going to disappear;\n",
    "<br>\n",
    "$\\xx_1^T\\xx_1 = 1$ means denominators  might be simpler; \n",
    "<br>\n",
    "$c_1>c_2>0$ some sort of asymmetry between $\\xx_1$ and $\\xx_2$</font>"
   ]
  },
  {
   "cell_type": "markdown",
   "metadata": {
    "slideshow": {
     "slide_type": "subslide"
    }
   },
   "source": [
    "For optimization problem \n",
    "$$\n",
    "\\minimize_{\\beta_1,\\beta_2} \\frac{1}{2} \\norm{\\yy  - \\xx_{1}\\beta_1 - \\xx_{2}\\beta_2}^2 + \\lambda(\\abs{\\beta_1} + \\abs{\\beta_2}),\n",
    "$$\n",
    "<font color='blue'>looks like lasso; can be solved by coordinate descent using shrinkage and thresholding operator</font>"
   ]
  },
  {
   "cell_type": "markdown",
   "metadata": {
    "slideshow": {
     "slide_type": "subslide"
    }
   },
   "source": [
    "figure out which values of $\\lambda$ lead to solutions\n",
    "1. $\\beta_1=\\beta_2=0$ <font color='blue'>fix point </font>\n",
    "2. $\\beta_1>0,\\beta_2=0$  <font color='blue'> $\\beta_2$ of fix point given </font>\n",
    "3. $\\beta_1>0,\\beta_2>0$  <font color='blue'> fix point characterized </font>\n",
    "4. $\\beta_1=0,\\beta_2>0$  <font color='blue'> $\\beta_1$ of fix point characterized; </font>\n",
    "\n",
    "<font color='blue'> solution for 4. probably not the same as 2. because $c_1>c_2$. </font>"
   ]
  },
  {
   "cell_type": "markdown",
   "metadata": {
    "slideshow": {
     "slide_type": "subslide"
    }
   },
   "source": [
    "# Fix point analysis of coordinate descent for Lasso\n",
    "\n",
    "Update\n",
    "$$\n",
    "\\beta_k^\\new = S\\left(\\frac{\\xx_k^T\\yy^{[-k]}}{\\xx_k^T\\xx_k},\\lambda\\right) \\tag{Lasso}\n",
    "$$\n",
    "where \n",
    "$$\n",
    "y_t^{[-k]} = y_t - \\sum_{j\\neq k} \\beta_j x_{tj} \\tag{residual without $k$th predictor}\n",
    "$$ and \n",
    "$$\n",
    "S(y,\\lambda) = \\sign(y)\\max(\\abs{y}-\\lambda,0). \\tag{shrinkage and thresholding operator}\n",
    "$$\n",
    "\n",
    "Using orthonormality we can simplify to:\n",
    "$$\n",
    "\\beta_k^\\new = S\\left(\\xx_k^T\\yy,\\lambda\\right).\n",
    "$$\n",
    "\n",
    "Will work this out on board."
   ]
  },
  {
   "cell_type": "markdown",
   "metadata": {
    "slideshow": {
     "slide_type": "slide"
    }
   },
   "source": [
    "# Fix point analysis of coordinate descent for Lasso\n",
    "\n",
    "**Q:** In terms of $y$ and $\\lambda$, when is \n",
    "$$\n",
    "S(y,\\lambda) = \\sign(y)\\max(\\abs{y}-\\lambda,0) = 0?\n",
    "$$\n",
    "\n",
    "**Q:** In terms of $y$ and $\\lambda$, when is \n",
    "$$\n",
    "S(y,\\lambda) = \\sign(y)\\max(\\abs{y}-\\lambda,0) > 0?\n",
    "$$"
   ]
  },
  {
   "cell_type": "markdown",
   "metadata": {
    "slideshow": {
     "slide_type": "subslide"
    }
   },
   "source": [
    "# Fix point analysis of coordinate descent for Lasso\n",
    "\n",
    "Using orthonormality\n",
    "$$\n",
    "\\beta_k^\\new = S\\left(\\xx_k^T\\yy,\\lambda\\right).\n",
    "$$\n",
    "we know that $\\yy^T\\xx_1 = c_1, \\yy^T\\xx_2 = c_2, c_1>c_2>0$ so\n",
    "$$\n",
    "\\beta^*_1 = S\\left(c_1,\\lambda\\right)\n",
    "$$\n",
    "and\n",
    "$$\n",
    "\\beta^*_2 = S\\left(c_2,\\lambda\\right).\n",
    "$$\n",
    "\n",
    "**Q:** In terms of $c_1,c_2,$ and $\\lambda$ when is optimal solution\n",
    "1. $\\beta^*_1 = \\beta^*_2 = 0$ ?\n",
    "2. $\\beta^*_1 > \\beta^*_2 = 0$ ?\n",
    "3. $\\beta^*_1 > \\beta^*_2 > 0$ ?\n",
    "4. $\\beta^*_1 =0, \\beta^*_2 > 0$ ?\n",
    "    "
   ]
  },
  {
   "cell_type": "markdown",
   "metadata": {
    "slideshow": {
     "slide_type": "slide"
    }
   },
   "source": [
    "# Fix point analysis of Lasso -- toy example 2\n",
    "\n",
    "For different values of $\\lambda$ in Lasso regression we obtain solutions with different levels of sparsity.\n",
    "\n",
    "The smallest $\\lambda$ for which optimal solution is all zeros is equal to \n",
    "$$\n",
    "\\lambda^{\\max} = \\max_i \\frac{|\\yy^T\\xx_i|}{\\xx_i^T\\xx_i}\n",
    "$$\n",
    "\n",
    "To show this, let $c_i = \\frac{|\\yy^T\\xx_i|}{\\xx_i^T\\xx_i}$, consider starting coordinate descent with \n",
    "$\\beta_1=\\dots=\\beta_p = 0$. \n",
    "\n",
    "Since all $\\beta$s are zero $\\yy^{[-l]} = \\yy - \\sum_{i\\neq l} \\beta_i\\xx_i = \\yy$ "
   ]
  },
  {
   "cell_type": "markdown",
   "metadata": {
    "slideshow": {
     "slide_type": "subslide"
    }
   },
   "source": [
    "Consider update for $\\beta_k$\n",
    "\n",
    "\\begin{align}\n",
    "\\beta_k^{\\new}  &=& S\\left(\\frac{\\xx_k^T\\yy^{[-k]}}{\\xx_k^T\\xx_k},\\lambda^{\\max}\\right) \\\\\n",
    "\\beta_k^{\\new}  &=& S\\left(\\frac{\\xx_k^T\\yy}{\\xx_k^T\\xx_k},\\lambda^{\\max}\\right) \\tag{since all betas are 0}\\\\\n",
    "\\beta_k^{\\new}  &=& S\\left(c_k,\\lambda\\right) \\tag{by def. of $c_k$}\\\\\n",
    "\\beta_k^{\\new}  &=& \\sign(c_k)\\max(\\abs{c_k}-\\lambda^{\\max},0) \\tag{by def of $S(\\cdot  ,\\cdot)$}\\\\\n",
    "\\beta_k^{\\new}  &=& \\sign(c_k)0 \\tag{by def of $\\lambda^{\\max}$}\n",
    "\\end{align}\n",
    "\n",
    "Hence, all updates leave $\\beta$s at zero."
   ]
  },
  {
   "cell_type": "markdown",
   "metadata": {
    "slideshow": {
     "slide_type": "subslide"
    }
   },
   "source": [
    "# Regularization path for penalized regression\n",
    "\n",
    "For different values of $\\lambda$ in Lasso regression we obtain solutions with different levels of sparsity.\n",
    "\n",
    "<center>Plot of weights vs. sum of absolute values of weight vector achieved for different $\\lambda$.</center>\n",
    "![fig 13.7 b)](lasso-regularization-path.png)\n",
    "\n",
    "\n"
   ]
  },
  {
   "cell_type": "markdown",
   "metadata": {
    "slideshow": {
     "slide_type": "subslide"
    }
   },
   "source": [
    "# Full regularization path\n",
    "\n",
    "Guessing at the level of sparsity for particular $\\lambda$ is non-trivial.\n",
    "\n",
    "We would have to construct a list of candidates and fit the lasso model for each of them.\n",
    "\n",
    "**Q:** Suppose you know that for $\\lambda=1.0$ number of non-zeros (nnz) $\\beta$s is 4 and $\\lambda=2.0$ nnz $\\beta$s is 6. How would you find $\\lambda$ for which nnz $\\beta$s is 5?"
   ]
  },
  {
   "cell_type": "markdown",
   "metadata": {
    "slideshow": {
     "slide_type": "subslide"
    }
   },
   "source": [
    "# Least Angle Regression\n",
    "\n",
    "It turns out that there is relatively elegant algorithm for obtaining the full regularization path without having to guess at $\\lambda$ schedule.\n",
    "\n",
    "Assume predictors $\\xx_k$ are normalized (mean 0, norm 1) and $\\yy$ is centered (mean 0). \n",
    "\n",
    "1. Set $\\rr = \\yy$\n",
    "2. $j = \\argmax_i \\abs{\\xx_i^T\\yy}$\n",
    "3. Increase $\\beta_j$ in direction of $\\xx_j^T\\rr$ and update $\\rr = \\yy - \\beta_j\\xx_j$ until\n",
    "$$\n",
    "\\abs{\\corr{\\xx_j}{\\rr}} = \\abs{\\corr{\\xx_l}{\\rr} }\n",
    "$$\n",
    "for $l\\neq j$.\n",
    "4. Regress $\\rr$ onto $\\xx_i,\\xx_l$ to obtain $b_i,b_l$\n",
    "5. Increase $\\beta_j$ and $\\beta_k$ in direction $b_i,b_l$  and update $\\rr = \\yy - \\beta_j\\xx_j - \\beta_k\\xx_k$ until\n",
    "$$\n",
    "\\abs{\\corr{\\xx_j^Tb_i + \\xx_k b_j}{\\rr}} = \\abs{\\corr{\\xx_l^T}{\\rr}} \n",
    "$$\n"
   ]
  },
  {
   "cell_type": "markdown",
   "metadata": {
    "slideshow": {
     "slide_type": "subslide"
    }
   },
   "source": [
    "# Least Angle Regression\n",
    "\n",
    "![](lars.png)"
   ]
  },
  {
   "cell_type": "markdown",
   "metadata": {
    "slideshow": {
     "slide_type": "slide"
    }
   },
   "source": [
    "# Least Angle Regression (LARS)\n",
    "\n",
    "LARS provides solutions with increasingly many nnz entries.\n",
    "\n",
    "![](lars-path.png)\n"
   ]
  },
  {
   "cell_type": "markdown",
   "metadata": {
    "slideshow": {
     "slide_type": "slide"
    }
   },
   "source": [
    "# Issues with Lasso\n",
    "\n",
    "Lasso objective does not spread weights around on correlated predictors.\n",
    "\n",
    "For example, given two equal predictors $\\xx_1 = \\xx_2$, Lasso objective\n",
    "$$\n",
    " \\frac{1}{2} \\norm{\\yy  - \\xx_{1}\\beta_1 - \\xx_{2}\\beta_2}^2 + \\lambda(\\abs{\\beta_1} + \\abs{\\beta_2})\n",
    " $$\n",
    "does not have any preference among solutions $(\\beta,0)$ $(\\beta/2,\\beta/2)$ $(0,\\beta)$.\n",
    "\n",
    "Hence, we can not interpret 0 weight as indication of the predictor being uninformative.\n"
   ]
  },
  {
   "cell_type": "markdown",
   "metadata": {
    "slideshow": {
     "slide_type": "slide"
    }
   },
   "source": [
    "# Today\n",
    "\n",
    "1. Review Coordinate Descent for Ridge and Lasso\n",
    "2. Fix-point analysis -- exam question practice\n",
    "3. Full regularization path solution\n",
    "4. Least Angle Regression solver for Lasso\n",
    "5. Issues with Lasso\n",
    "\n",
    "More details on full regularization path methods and coordinate descent:\n",
    "<a href=\"http://statweb.stanford.edu/~jhf/ftp/glmnet.pdf\">here</a>"
   ]
  },
  {
   "cell_type": "code",
   "execution_count": null,
   "metadata": {
    "collapsed": true
   },
   "outputs": [],
   "source": []
  }
 ],
 "metadata": {
  "anaconda-cloud": {},
  "celltoolbar": "Slideshow",
  "kernelspec": {
   "display_name": "Python 3",
   "language": "python",
   "name": "python3"
  },
  "language_info": {
   "codemirror_mode": {
    "name": "ipython",
    "version": 3
   },
   "file_extension": ".py",
   "mimetype": "text/x-python",
   "name": "python",
   "nbconvert_exporter": "python",
   "pygments_lexer": "ipython3",
   "version": "3.6.3"
  },
  "nbpresent": {
   "slides": {
    "0351a772-c92a-4430-84b4-7130549e7ab0": {
     "id": "0351a772-c92a-4430-84b4-7130549e7ab0",
     "prev": "1ae7150b-6121-40bd-8f33-b1b0690791e2",
     "regions": {
      "da29fdf0-46b3-49f8-8047-2d5d7254a245": {
       "attrs": {
        "height": 0.8,
        "width": 0.8,
        "x": 0.1,
        "y": 0.1
       },
       "content": {
        "cell": "fbcdc5fe-8e7e-4180-9764-ecad0ef709ea",
        "part": "whole"
       },
       "id": "da29fdf0-46b3-49f8-8047-2d5d7254a245"
      }
     }
    },
    "12b628e8-f03d-4ade-acba-73b1c75754a9": {
     "id": "12b628e8-f03d-4ade-acba-73b1c75754a9",
     "prev": "ffc1d54c-925e-4648-8d83-24541d52be7c",
     "regions": {
      "7d32489a-204e-4b5c-b95b-a9fd5f7e447a": {
       "attrs": {
        "height": 0.8,
        "width": 0.8,
        "x": 0.1,
        "y": 0.1
       },
       "content": {
        "cell": "b934daf2-1dfd-4706-a216-f46f107d3fb7",
        "part": "whole"
       },
       "id": "7d32489a-204e-4b5c-b95b-a9fd5f7e447a"
      }
     }
    },
    "14c534af-5d17-41c3-a3b0-81839aa8692a": {
     "id": "14c534af-5d17-41c3-a3b0-81839aa8692a",
     "prev": "a7c7f5ef-322e-4638-9a05-4e6aab630bd7",
     "regions": {
      "f7032b61-9587-4bf6-99ef-c455b56a349c": {
       "attrs": {
        "height": 0.8,
        "width": 0.8,
        "x": 0.1,
        "y": 0.1
       },
       "content": {
        "cell": "8c34e974-39aa-46da-a01d-8cdfc4ee35c2",
        "part": "whole"
       },
       "id": "f7032b61-9587-4bf6-99ef-c455b56a349c"
      }
     }
    },
    "1ae7150b-6121-40bd-8f33-b1b0690791e2": {
     "id": "1ae7150b-6121-40bd-8f33-b1b0690791e2",
     "prev": "8600b916-dfb8-44a1-876a-6d80797c5899",
     "regions": {
      "d22b7fc2-48b8-4413-ad89-eb0b182d455a": {
       "attrs": {
        "height": 0.8,
        "width": 0.8,
        "x": 0.1,
        "y": 0.1
       },
       "content": {
        "cell": "e30a931b-932b-4b01-b4c1-884208eb4530",
        "part": "whole"
       },
       "id": "d22b7fc2-48b8-4413-ad89-eb0b182d455a"
      }
     }
    },
    "292fd08b-58d1-4a30-ae20-3a0ab5320860": {
     "id": "292fd08b-58d1-4a30-ae20-3a0ab5320860",
     "prev": "ddcfa80f-2c65-4afe-aa32-296ec97b2344",
     "regions": {
      "cbe3fa3e-c517-4207-ac11-d884ffa1f3ed": {
       "attrs": {
        "height": 0.8,
        "width": 0.8,
        "x": 0.1,
        "y": 0.1
       },
       "content": {
        "cell": "7cbecfc4-fa24-414c-82e4-fbb242fa3faf",
        "part": "whole"
       },
       "id": "cbe3fa3e-c517-4207-ac11-d884ffa1f3ed"
      }
     }
    },
    "2cdbba23-1148-4f6c-8549-692283c5e35c": {
     "id": "2cdbba23-1148-4f6c-8549-692283c5e35c",
     "prev": "eff734ad-96ec-463a-87fb-dda40cc8ce48",
     "regions": {
      "9724d964-f1ea-4f62-a7da-9bf35dfad5e7": {
       "attrs": {
        "height": 0.8,
        "width": 0.8,
        "x": 0.1,
        "y": 0.1
       },
       "content": {
        "cell": "e7cc0d43-4957-4271-bf7b-0a35ae71117c",
        "part": "whole"
       },
       "id": "9724d964-f1ea-4f62-a7da-9bf35dfad5e7"
      }
     }
    },
    "401fafc4-bb94-4bc6-a8b2-dee06ae8ae8b": {
     "id": "401fafc4-bb94-4bc6-a8b2-dee06ae8ae8b",
     "prev": "2cdbba23-1148-4f6c-8549-692283c5e35c",
     "regions": {
      "5b755dea-45ce-44d7-8dce-aecbebaabd58": {
       "attrs": {
        "height": 0.8,
        "width": 0.8,
        "x": 0.1,
        "y": 0.1
       },
       "content": {
        "cell": "107f8412-5f74-449a-b934-156820f0bbcf",
        "part": "whole"
       },
       "id": "5b755dea-45ce-44d7-8dce-aecbebaabd58"
      }
     }
    },
    "5446f7ea-d6d7-47b1-bba5-5bcec2a4fe25": {
     "id": "5446f7ea-d6d7-47b1-bba5-5bcec2a4fe25",
     "prev": "c5b602e5-22d8-4689-8a4c-acb935322846",
     "regions": {
      "df60a52d-fc25-4b64-b6c9-a04507dc6d76": {
       "attrs": {
        "height": 0.8,
        "width": 0.8,
        "x": 0.1,
        "y": 0.1
       },
       "content": {
        "cell": "14bb883c-5a7f-4e4e-b0ff-ad59c985dcb2",
        "part": "whole"
       },
       "id": "df60a52d-fc25-4b64-b6c9-a04507dc6d76"
      }
     }
    },
    "5623e543-fe11-4ac1-9102-c01ba6f47b2d": {
     "id": "5623e543-fe11-4ac1-9102-c01ba6f47b2d",
     "prev": null,
     "regions": {
      "2ecffa8e-1c79-43ef-b42d-bffa7cc4e3e7": {
       "attrs": {
        "height": 0.8,
        "width": 0.8,
        "x": 0.1,
        "y": 0.1
       },
       "content": {
        "cell": "aab7fd3c-11a1-4073-a957-c10735d7afae",
        "part": "whole"
       },
       "id": "2ecffa8e-1c79-43ef-b42d-bffa7cc4e3e7"
      }
     }
    },
    "5b0c87d2-037c-4ed2-bed3-f490bfa70ccf": {
     "id": "5b0c87d2-037c-4ed2-bed3-f490bfa70ccf",
     "prev": "6c826828-2be0-4c2e-b58f-af16d6eb14ad",
     "regions": {
      "02e13c85-fd99-4af5-a680-3d217e01cc92": {
       "attrs": {
        "height": 0.8,
        "width": 0.8,
        "x": 0.1,
        "y": 0.1
       },
       "content": {
        "cell": "84557d87-6b9c-4ddb-a44c-aac2c6b74479",
        "part": "whole"
       },
       "id": "02e13c85-fd99-4af5-a680-3d217e01cc92"
      }
     }
    },
    "6c826828-2be0-4c2e-b58f-af16d6eb14ad": {
     "id": "6c826828-2be0-4c2e-b58f-af16d6eb14ad",
     "prev": "14c534af-5d17-41c3-a3b0-81839aa8692a",
     "regions": {
      "432a5f24-6769-4f43-972d-ea82d6922c05": {
       "attrs": {
        "height": 0.8,
        "width": 0.8,
        "x": 0.1,
        "y": 0.1
       },
       "content": {
        "cell": "35539823-9e9b-4458-b888-23b67b4d6553",
        "part": "whole"
       },
       "id": "432a5f24-6769-4f43-972d-ea82d6922c05"
      }
     }
    },
    "8600b916-dfb8-44a1-876a-6d80797c5899": {
     "id": "8600b916-dfb8-44a1-876a-6d80797c5899",
     "prev": "865414d8-8321-4fbc-b7d3-fce492038da5",
     "regions": {
      "5855e7e6-e804-4aa5-8cf9-4479a558a6e7": {
       "attrs": {
        "height": 0.8,
        "width": 0.8,
        "x": 0.1,
        "y": 0.1
       },
       "content": {
        "cell": "4da9ff24-f0fe-4719-8e6a-275de188652f",
        "part": "whole"
       },
       "id": "5855e7e6-e804-4aa5-8cf9-4479a558a6e7"
      }
     }
    },
    "865414d8-8321-4fbc-b7d3-fce492038da5": {
     "id": "865414d8-8321-4fbc-b7d3-fce492038da5",
     "prev": "9b359c37-fe53-4ab5-a4f8-8b72091c2fab",
     "regions": {
      "62f2b0b2-bf80-4524-bb71-17cc3da900cb": {
       "attrs": {
        "height": 0.8,
        "width": 0.8,
        "x": 0.1,
        "y": 0.1
       },
       "content": {
        "cell": "7d3a96df-84a2-481a-a4e4-49ac4837dfbf",
        "part": "whole"
       },
       "id": "62f2b0b2-bf80-4524-bb71-17cc3da900cb"
      }
     }
    },
    "9b359c37-fe53-4ab5-a4f8-8b72091c2fab": {
     "id": "9b359c37-fe53-4ab5-a4f8-8b72091c2fab",
     "prev": "5623e543-fe11-4ac1-9102-c01ba6f47b2d",
     "regions": {
      "7bcfde74-125c-4cea-afdb-a2c39805f36c": {
       "attrs": {
        "height": 0.8,
        "width": 0.8,
        "x": 0.1,
        "y": 0.1
       },
       "content": {
        "cell": "e2b9a449-7f63-483e-9e3d-734d6c16887a",
        "part": "whole"
       },
       "id": "7bcfde74-125c-4cea-afdb-a2c39805f36c"
      }
     }
    },
    "a7c7f5ef-322e-4638-9a05-4e6aab630bd7": {
     "id": "a7c7f5ef-322e-4638-9a05-4e6aab630bd7",
     "prev": "401fafc4-bb94-4bc6-a8b2-dee06ae8ae8b",
     "regions": {
      "6dd5826b-c385-41b7-b84a-2995f50f89a6": {
       "attrs": {
        "height": 0.8,
        "width": 0.8,
        "x": 0.1,
        "y": 0.1
       },
       "content": {
        "cell": "595413d3-19fa-4bee-9f22-ced173614597",
        "part": "whole"
       },
       "id": "6dd5826b-c385-41b7-b84a-2995f50f89a6"
      }
     }
    },
    "c5b602e5-22d8-4689-8a4c-acb935322846": {
     "id": "c5b602e5-22d8-4689-8a4c-acb935322846",
     "prev": "12b628e8-f03d-4ade-acba-73b1c75754a9",
     "regions": {
      "609ea961-e72b-4ed6-8041-ee84c2a9203f": {
       "attrs": {
        "height": 0.8,
        "width": 0.8,
        "x": 0.1,
        "y": 0.1
       },
       "content": {
        "cell": "0d29e769-fc04-4a74-9eb2-30e115210e9c",
        "part": "whole"
       },
       "id": "609ea961-e72b-4ed6-8041-ee84c2a9203f"
      }
     }
    },
    "d4238c0e-8429-40b5-90fd-4e82eafd70b5": {
     "id": "d4238c0e-8429-40b5-90fd-4e82eafd70b5",
     "prev": "5b0c87d2-037c-4ed2-bed3-f490bfa70ccf",
     "regions": {
      "07e14a93-6398-42fe-b609-7caea3857a56": {
       "attrs": {
        "height": 0.8,
        "width": 0.8,
        "x": 0.1,
        "y": 0.1
       },
       "content": {
        "cell": "f60716a0-d1a3-4852-ae64-94199ef71bbe",
        "part": "whole"
       },
       "id": "07e14a93-6398-42fe-b609-7caea3857a56"
      }
     }
    },
    "ddcfa80f-2c65-4afe-aa32-296ec97b2344": {
     "id": "ddcfa80f-2c65-4afe-aa32-296ec97b2344",
     "prev": "5446f7ea-d6d7-47b1-bba5-5bcec2a4fe25",
     "regions": {
      "f296dad0-361a-4660-a095-e82b3adf102a": {
       "attrs": {
        "height": 0.8,
        "width": 0.8,
        "x": 0.1,
        "y": 0.1
       },
       "content": {
        "cell": "7d9ddcb3-65ab-4635-95f1-f919c084cf8a",
        "part": "whole"
       },
       "id": "f296dad0-361a-4660-a095-e82b3adf102a"
      }
     }
    },
    "eff734ad-96ec-463a-87fb-dda40cc8ce48": {
     "id": "eff734ad-96ec-463a-87fb-dda40cc8ce48",
     "prev": "292fd08b-58d1-4a30-ae20-3a0ab5320860",
     "regions": {
      "3e138a53-a7b2-44d0-bff0-379033d9849d": {
       "attrs": {
        "height": 0.8,
        "width": 0.8,
        "x": 0.1,
        "y": 0.1
       },
       "content": {
        "cell": "cb0cc60b-b4e5-400d-9e36-6370185f40b1",
        "part": "whole"
       },
       "id": "3e138a53-a7b2-44d0-bff0-379033d9849d"
      }
     }
    },
    "ffc1d54c-925e-4648-8d83-24541d52be7c": {
     "id": "ffc1d54c-925e-4648-8d83-24541d52be7c",
     "prev": "0351a772-c92a-4430-84b4-7130549e7ab0",
     "regions": {
      "251cd137-0738-4f41-b40d-1498d0ff49e6": {
       "attrs": {
        "height": 0.8,
        "width": 0.8,
        "x": 0.1,
        "y": 0.1
       },
       "content": {
        "cell": "1b3011bf-b293-454a-b391-c366d739f399",
        "part": "whole"
       },
       "id": "251cd137-0738-4f41-b40d-1498d0ff49e6"
      }
     }
    }
   },
   "themes": {}
  }
 },
 "nbformat": 4,
 "nbformat_minor": 1
}
